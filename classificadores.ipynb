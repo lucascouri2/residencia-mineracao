{
 "cells": [
  {
   "cell_type": "markdown",
   "metadata": {},
   "source": [
    "# Projeto - Mineração de Texto e Web\n",
    "## Residência Engenharia e Ciência de dados - Samsung/UFPE\n",
    "\n",
    "### Lucas Couri - lncc2\n",
    "### Mariama Oliveira - mcso"
   ]
  },
  {
   "cell_type": "markdown",
   "metadata": {},
   "source": [
    "## Carregando Dados"
   ]
  },
  {
   "cell_type": "code",
   "execution_count": 1,
   "metadata": {},
   "outputs": [],
   "source": [
    "#Imports\n",
    "import string\n",
    "import nltk\n",
    "from nltk.corpus import stopwords\n",
    "import pandas as pd\n",
    "# from sklearn.model_selection import train_test_split\n",
    "from sklearn.ensemble import RandomForestClassifier\n",
    "from sklearn.metrics import accuracy_score\n",
    "from sklearn.metrics import classification_report\n",
    "from sklearn.metrics import confusion_matrix\n",
    "from sklearn.metrics import accuracy_score, precision_score, f1_score\n",
    "from sklearn.cluster import KMeans\n",
    "from sklearn.metrics import pairwise_distances\n",
    "from sklearn.metrics import pairwise_distances_argmin_min\n",
    "from scipy.sparse import csr_matrix\n",
    "from scipy.cluster.vq import vq\n",
    "\n",
    "import numpy as np\n",
    "import tensorflow as tf\n",
    "#from keras.datasets import mnist\n",
    "from tensorflow.keras import Sequential\n",
    "from tensorflow.keras.layers import Dense, Dropout, Embedding, LSTM, Conv2D, Input\n",
    "from sklearn.feature_extraction.text import CountVectorizer\n",
    "import matplotlib.pyplot as plt\n",
    "\n",
    "import dataset_split \n",
    "import networks\n",
    "import bert\n",
    "import rm_forest"
   ]
  },
  {
   "cell_type": "code",
   "execution_count": 2,
   "metadata": {},
   "outputs": [],
   "source": [
    "df = pd.read_csv(\"reviews_v2.csv\")\n",
    "df = df[df[\"reviews\"].notna()]"
   ]
  },
  {
   "cell_type": "markdown",
   "metadata": {},
   "source": [
    "## Pré-processamento (com e sem stemming)"
   ]
  },
  {
   "cell_type": "code",
   "execution_count": 3,
   "metadata": {},
   "outputs": [],
   "source": [
    "#Global variables\n",
    "other_punctuation = '—“”'  \n",
    "stop_words = stopwords.words('portuguese')\n",
    "stop_words.append('’')\n",
    "stemmer = nltk.stem.RSLPStemmer()\n",
    "\n",
    "\n",
    "#Function that removes punctuation \n",
    "def remove_punctuation(text):\n",
    "    punctuation_free_doc = \"\".join([i for i in text if i not in string.punctuation+other_punctuation])\n",
    "    return punctuation_free_doc\n",
    "\n",
    "\n",
    "def remove_stopwords(list_words):\n",
    "    filtered_words = [word for word in list_words if word not in stop_words]\n",
    "    return filtered_words\n",
    "\n",
    "\n",
    "def do_stemming(list_words):\n",
    "    stem_text = [stemmer.stem(word) for word in list_words]\n",
    "    return stem_text\n",
    "\n",
    "\n",
    "def pre_process(doc, basic_processing = False, no_stopwords = False, stemming = False):\n",
    "\n",
    "    final_doc = doc\n",
    "    \n",
    "    ## print(final_doc)\n",
    "\n",
    "    if basic_processing == True:\n",
    "        \n",
    "        final_doc = remove_punctuation(doc)\n",
    "        final_doc = final_doc.lower()\n",
    "\n",
    "    final_doc = nltk.word_tokenize(final_doc)\n",
    "\n",
    "    if no_stopwords == True:\n",
    "        final_doc = remove_stopwords(final_doc)    \n",
    "\n",
    "    if stemming == True:\n",
    "        final_doc = do_stemming(final_doc)\n",
    "\n",
    "    return final_doc\n",
    "\n",
    "def pre_process_all(df, pre_processing_list):\n",
    "\n",
    "    for param, index in zip(pre_processing_list, range(len(pre_processing_list))):\n",
    "        \n",
    "        df[f\"reviews_pipeline_{index}\"] = df[\"reviews\"].apply(lambda x: pre_process(x, **param))\n",
    "\n",
    "    return df\n",
    "\n",
    "pre_processing_list = [\n",
    "    {\"basic_processing\": True, \"no_stopwords\": True, \"stemming\": False},\n",
    "    {\"basic_processing\": True, \"no_stopwords\": True, \"stemming\": True}]\n",
    "\n",
    "df_pp = pre_process_all(df, pre_processing_list)"
   ]
  },
  {
   "cell_type": "markdown",
   "metadata": {},
   "source": [
    "## Definindo classe"
   ]
  },
  {
   "cell_type": "code",
   "execution_count": 4,
   "metadata": {},
   "outputs": [],
   "source": [
    "df_pp[\"class\"] = df_pp[\"stars\"].apply(lambda x : 1 if x >=4 else 0)"
   ]
  },
  {
   "cell_type": "markdown",
   "metadata": {},
   "source": [
    "## Divisão Train, Validation e Test"
   ]
  },
  {
   "cell_type": "code",
   "execution_count": 5,
   "metadata": {},
   "outputs": [],
   "source": [
    "#Unbalanced dataset\n",
    "X_train, X_valid, X_test, y_train, y_valid, y_test = dataset_split.split_data(df_pp)\n",
    "\n",
    "#Balanced dataset\n",
    "X_train_b, X_valid_b, X_test_b, y_train_b, y_valid_b, y_test_b = dataset_split.split_data(df_pp, True)"
   ]
  },
  {
   "cell_type": "markdown",
   "metadata": {},
   "source": [
    "Transformando tokens em string"
   ]
  },
  {
   "cell_type": "code",
   "execution_count": 6,
   "metadata": {},
   "outputs": [],
   "source": [
    "def tokens_to_string(df):\n",
    "    X_train_join = []\n",
    "    X_train_join.append(df[\"reviews_pipeline_0\"].apply(\" \".join))\n",
    "    X_train_join.append(df[\"reviews_pipeline_1\"].apply(\" \".join))\n",
    "    X_train_join[0] = X_train_join[0].to_numpy()\n",
    "    X_train_join[1] = X_train_join[1].to_numpy()\n",
    "\n",
    "    return X_train_join"
   ]
  },
  {
   "cell_type": "code",
   "execution_count": 7,
   "metadata": {},
   "outputs": [],
   "source": [
    "#Unbalanced data\n",
    "X_train_join = tokens_to_string(X_train)\n",
    "X_test_join = tokens_to_string(X_test)\n",
    "X_valid_join = tokens_to_string(X_valid)\n",
    "\n",
    "#Balanced data\n",
    "X_train_join_b = tokens_to_string(X_train_b)\n",
    "X_test_join_b = tokens_to_string(X_test_b)\n",
    "X_valid_join_b = tokens_to_string(X_valid_b)\n"
   ]
  },
  {
   "cell_type": "markdown",
   "metadata": {},
   "source": [
    "# Classificadores "
   ]
  },
  {
   "cell_type": "code",
   "execution_count": 8,
   "metadata": {},
   "outputs": [],
   "source": [
    "all_metrics = []\n",
    "\n",
    "def calc_metrics(y_test, result, name):\n",
    "    f1_w = f1_0 = f1_score(y_test, result, average=\"weighted\")\n",
    "    f1_0 = f1_score(y_test, result, average=None)[0]\n",
    "    f1_1 = f1_score(y_test, result, average=None)[1]\n",
    "    acc = accuracy_score(y_test, result)\n",
    "    return (name, acc, f1_0, f1_1, f1_w, result.tolist())\n"
   ]
  },
  {
   "cell_type": "markdown",
   "metadata": {},
   "source": [
    "## Random Forest com BoW"
   ]
  },
  {
   "cell_type": "code",
   "execution_count": 9,
   "metadata": {},
   "outputs": [],
   "source": [
    "def get_bag_of_words(X_train_join, X_valid_join, X_test_join):\n",
    "    vectorizer = CountVectorizer(analyzer = \"word\",   \n",
    "                                tokenizer = None,    \n",
    "                                preprocessor = None, \n",
    "                                stop_words = None,   \n",
    "                                max_features = 1500) \n",
    "\n",
    "    #List with BoWs (pipeline 0 and 1)\n",
    "    X_train_vec = []\n",
    "    X_train_vec.append(vectorizer.fit_transform(X_train_join[0]))\n",
    "    X_train_vec.append(vectorizer.fit_transform(X_train_join[1]))\n",
    "\n",
    "    X_test_vec = []\n",
    "    X_test_vec.append(vectorizer.fit_transform(X_test_join[0]))\n",
    "    X_test_vec.append(vectorizer.fit_transform(X_test_join[1]))\n",
    "\n",
    "    X_valid_vec = []\n",
    "    X_valid_vec.append(vectorizer.fit_transform(X_valid_join[0]))\n",
    "    X_valid_vec.append(vectorizer.fit_transform(X_valid_join[1]))\n",
    "\n",
    "\n",
    "    return X_train_vec, X_valid_vec, X_test_vec"
   ]
  },
  {
   "cell_type": "code",
   "execution_count": 10,
   "metadata": {},
   "outputs": [],
   "source": [
    "#Unbalanced data\n",
    "X_train_vec, X_valid_vec, X_test_vec = get_bag_of_words(X_train_join, X_valid_join, X_test_join)\n",
    "\n",
    "#Balanced data\n",
    "X_train_vec_b, X_valid_vec_b, X_test_vec_b = get_bag_of_words(X_train_join_b, X_valid_join_b, X_test_join_b)"
   ]
  },
  {
   "cell_type": "code",
   "execution_count": 11,
   "metadata": {},
   "outputs": [],
   "source": [
    "def pipeline_rf(name, X_train_vec, y_train, X_valid_vec, y_valid, X_test_vec, y_test):\n",
    "    #Get best parameters\n",
    "    best_params = rm_forest.get_best_parameters(X_train_vec, X_valid_vec, y_train, y_valid)\n",
    "    \n",
    "    #Train model with best parameters\n",
    "    forest = RandomForestClassifier(**best_params) \n",
    "    forest = forest.fit(X_train_vec, y_train)\n",
    "\n",
    "    #Predict test datase \n",
    "    result = forest.predict(X_test_vec)\n",
    "    print(classification_report(y_test, result))\n",
    "    print(confusion_matrix(y_test, result))\n",
    "\n",
    "    metrics = calc_metrics(y_test, result, name)\n",
    "\n",
    "    return metrics"
   ]
  },
  {
   "cell_type": "markdown",
   "metadata": {},
   "source": [
    "### Sem stemming"
   ]
  },
  {
   "cell_type": "code",
   "execution_count": 12,
   "metadata": {},
   "outputs": [
    {
     "name": "stderr",
     "output_type": "stream",
     "text": [
      "\u001b[32m[I 2022-03-31 18:59:19,134]\u001b[0m A new study created in memory with name: no-name-926fa226-f533-4d5d-a6bd-cb57297d1898\u001b[0m\n",
      "\u001b[32m[I 2022-03-31 18:59:19,201]\u001b[0m Trial 0 finished with value: 0.0 and parameters: {'n_estimators': 39, 'max_depth': 4, 'criterion': 'entropy'}. Best is trial 0 with value: 0.0.\u001b[0m\n",
      "\u001b[32m[I 2022-03-31 18:59:20,069]\u001b[0m Trial 1 finished with value: 0.16363636363636364 and parameters: {'n_estimators': 225, 'max_depth': 51, 'criterion': 'gini'}. Best is trial 1 with value: 0.16363636363636364.\u001b[0m\n",
      "\u001b[32m[I 2022-03-31 18:59:21,071]\u001b[0m Trial 2 finished with value: 0.0 and parameters: {'n_estimators': 364, 'max_depth': 23, 'criterion': 'entropy'}. Best is trial 1 with value: 0.16363636363636364.\u001b[0m\n",
      "\u001b[32m[I 2022-03-31 18:59:22,697]\u001b[0m Trial 3 finished with value: 0.07207207207207207 and parameters: {'n_estimators': 454, 'max_depth': 41, 'criterion': 'gini'}. Best is trial 1 with value: 0.16363636363636364.\u001b[0m\n",
      "\u001b[32m[I 2022-03-31 18:59:23,069]\u001b[0m Trial 4 finished with value: 0.0 and parameters: {'n_estimators': 261, 'max_depth': 4, 'criterion': 'entropy'}. Best is trial 1 with value: 0.16363636363636364.\u001b[0m\n",
      "\u001b[32m[I 2022-03-31 18:59:23,182]\u001b[0m Trial 5 finished with value: 0.0 and parameters: {'n_estimators': 52, 'max_depth': 12, 'criterion': 'gini'}. Best is trial 1 with value: 0.16363636363636364.\u001b[0m\n",
      "\u001b[32m[I 2022-03-31 18:59:24,245]\u001b[0m Trial 6 finished with value: 0.0 and parameters: {'n_estimators': 510, 'max_depth': 16, 'criterion': 'gini'}. Best is trial 1 with value: 0.16363636363636364.\u001b[0m\n",
      "\u001b[32m[I 2022-03-31 18:59:25,562]\u001b[0m Trial 7 finished with value: 0.0 and parameters: {'n_estimators': 862, 'max_depth': 8, 'criterion': 'gini'}. Best is trial 1 with value: 0.16363636363636364.\u001b[0m\n",
      "\u001b[32m[I 2022-03-31 18:59:28,502]\u001b[0m Trial 8 finished with value: 0.15384615384615385 and parameters: {'n_estimators': 503, 'max_depth': 119, 'criterion': 'gini'}. Best is trial 1 with value: 0.16363636363636364.\u001b[0m\n",
      "\u001b[32m[I 2022-03-31 18:59:29,196]\u001b[0m Trial 9 finished with value: 0.0 and parameters: {'n_estimators': 491, 'max_depth': 4, 'criterion': 'gini'}. Best is trial 1 with value: 0.16363636363636364.\u001b[0m\n",
      "\u001b[32m[I 2022-03-31 18:59:33,611]\u001b[0m Trial 10 finished with value: 0.21052631578947367 and parameters: {'n_estimators': 770, 'max_depth': 120, 'criterion': 'gini'}. Best is trial 10 with value: 0.21052631578947367.\u001b[0m\n",
      "\u001b[32m[I 2022-03-31 18:59:38,511]\u001b[0m Trial 11 finished with value: 0.20408163265306123 and parameters: {'n_estimators': 828, 'max_depth': 120, 'criterion': 'gini'}. Best is trial 10 with value: 0.21052631578947367.\u001b[0m\n",
      "\u001b[32m[I 2022-03-31 18:59:43,386]\u001b[0m Trial 12 finished with value: 0.1931034482758621 and parameters: {'n_estimators': 841, 'max_depth': 123, 'criterion': 'gini'}. Best is trial 10 with value: 0.21052631578947367.\u001b[0m\n",
      "\u001b[32m[I 2022-03-31 18:59:46,242]\u001b[0m Trial 13 finished with value: 0.16260162601626016 and parameters: {'n_estimators': 681, 'max_depth': 56, 'criterion': 'gini'}. Best is trial 10 with value: 0.21052631578947367.\u001b[0m\n",
      "\u001b[32m[I 2022-03-31 18:59:51,411]\u001b[0m Trial 14 finished with value: 0.1818181818181818 and parameters: {'n_estimators': 989, 'max_depth': 82, 'criterion': 'gini'}. Best is trial 10 with value: 0.21052631578947367.\u001b[0m\n",
      "\u001b[32m[I 2022-03-31 18:59:53,995]\u001b[0m Trial 15 finished with value: 0.0 and parameters: {'n_estimators': 783, 'max_depth': 31, 'criterion': 'entropy'}. Best is trial 10 with value: 0.21052631578947367.\u001b[0m\n",
      "\u001b[32m[I 2022-03-31 18:59:57,480]\u001b[0m Trial 16 finished with value: 0.20155038759689922 and parameters: {'n_estimators': 720, 'max_depth': 73, 'criterion': 'gini'}. Best is trial 10 with value: 0.21052631578947367.\u001b[0m\n",
      "\u001b[32m[I 2022-03-31 18:59:58,726]\u001b[0m Trial 17 finished with value: 0.0 and parameters: {'n_estimators': 974, 'max_depth': 2, 'criterion': 'gini'}. Best is trial 10 with value: 0.21052631578947367.\u001b[0m\n",
      "\u001b[32m[I 2022-03-31 19:00:02,370]\u001b[0m Trial 18 finished with value: 0.18750000000000003 and parameters: {'n_estimators': 649, 'max_depth': 94, 'criterion': 'entropy'}. Best is trial 10 with value: 0.21052631578947367.\u001b[0m\n",
      "\u001b[32m[I 2022-03-31 19:00:04,096]\u001b[0m Trial 19 finished with value: 0.022727272727272728 and parameters: {'n_estimators': 621, 'max_depth': 31, 'criterion': 'gini'}. Best is trial 10 with value: 0.21052631578947367.\u001b[0m\n"
     ]
    },
    {
     "name": "stdout",
     "output_type": "stream",
     "text": [
      "              precision    recall  f1-score   support\n",
      "\n",
      "           0       0.21      0.12      0.15       167\n",
      "           1       0.90      0.94      0.92      1334\n",
      "\n",
      "    accuracy                           0.85      1501\n",
      "   macro avg       0.55      0.53      0.53      1501\n",
      "weighted avg       0.82      0.85      0.83      1501\n",
      "\n",
      "[[  20  147]\n",
      " [  77 1257]]\n"
     ]
    }
   ],
   "source": [
    "#Unbalanced data\n",
    "all_metrics.append(pipeline_rf(\"rf\", X_train_vec[0], y_train, X_valid_vec[0], y_valid, X_test_vec[0], y_test))"
   ]
  },
  {
   "cell_type": "code",
   "execution_count": 13,
   "metadata": {},
   "outputs": [
    {
     "name": "stderr",
     "output_type": "stream",
     "text": [
      "\u001b[32m[I 2022-03-31 19:00:08,670]\u001b[0m A new study created in memory with name: no-name-80cf0708-08af-42cc-8527-5e2f28c9d29f\u001b[0m\n",
      "\u001b[32m[I 2022-03-31 19:00:08,690]\u001b[0m Trial 0 finished with value: 0.022222222222222223 and parameters: {'n_estimators': 7, 'max_depth': 7, 'criterion': 'gini'}. Best is trial 0 with value: 0.022222222222222223.\u001b[0m\n",
      "\u001b[32m[I 2022-03-31 19:00:09,125]\u001b[0m Trial 1 finished with value: 0.0 and parameters: {'n_estimators': 247, 'max_depth': 11, 'criterion': 'gini'}. Best is trial 0 with value: 0.022222222222222223.\u001b[0m\n",
      "\u001b[32m[I 2022-03-31 19:00:09,336]\u001b[0m Trial 2 finished with value: 0.11612903225806452 and parameters: {'n_estimators': 43, 'max_depth': 56, 'criterion': 'gini'}. Best is trial 2 with value: 0.11612903225806452.\u001b[0m\n",
      "\u001b[32m[I 2022-03-31 19:00:10,904]\u001b[0m Trial 3 finished with value: 0.0 and parameters: {'n_estimators': 941, 'max_depth': 9, 'criterion': 'entropy'}. Best is trial 2 with value: 0.11612903225806452.\u001b[0m\n",
      "\u001b[32m[I 2022-03-31 19:00:11,168]\u001b[0m Trial 4 finished with value: 0.0 and parameters: {'n_estimators': 179, 'max_depth': 5, 'criterion': 'gini'}. Best is trial 2 with value: 0.11612903225806452.\u001b[0m\n",
      "\u001b[32m[I 2022-03-31 19:00:12,422]\u001b[0m Trial 5 finished with value: 0.0 and parameters: {'n_estimators': 894, 'max_depth': 3, 'criterion': 'gini'}. Best is trial 2 with value: 0.11612903225806452.\u001b[0m\n",
      "\u001b[32m[I 2022-03-31 19:00:13,967]\u001b[0m Trial 6 finished with value: 0.0 and parameters: {'n_estimators': 923, 'max_depth': 7, 'criterion': 'entropy'}. Best is trial 2 with value: 0.11612903225806452.\u001b[0m\n",
      "\u001b[32m[I 2022-03-31 19:00:17,408]\u001b[0m Trial 7 finished with value: 0.08247422680412371 and parameters: {'n_estimators': 868, 'max_depth': 33, 'criterion': 'entropy'}. Best is trial 2 with value: 0.11612903225806452.\u001b[0m\n",
      "\u001b[32m[I 2022-03-31 19:00:22,249]\u001b[0m Trial 8 finished with value: 0.16901408450704225 and parameters: {'n_estimators': 693, 'max_depth': 110, 'criterion': 'entropy'}. Best is trial 8 with value: 0.16901408450704225.\u001b[0m\n",
      "\u001b[32m[I 2022-03-31 19:00:23,654]\u001b[0m Trial 9 finished with value: 0.0 and parameters: {'n_estimators': 778, 'max_depth': 9, 'criterion': 'entropy'}. Best is trial 8 with value: 0.16901408450704225.\u001b[0m\n",
      "\u001b[32m[I 2022-03-31 19:00:27,883]\u001b[0m Trial 10 finished with value: 0.1285714285714286 and parameters: {'n_estimators': 607, 'max_depth': 125, 'criterion': 'entropy'}. Best is trial 8 with value: 0.16901408450704225.\u001b[0m\n",
      "\u001b[32m[I 2022-03-31 19:00:32,197]\u001b[0m Trial 11 finished with value: 0.16783216783216784 and parameters: {'n_estimators': 596, 'max_depth': 128, 'criterion': 'entropy'}. Best is trial 8 with value: 0.16901408450704225.\u001b[0m\n",
      "\u001b[32m[I 2022-03-31 19:00:36,219]\u001b[0m Trial 12 finished with value: 0.17333333333333334 and parameters: {'n_estimators': 580, 'max_depth': 127, 'criterion': 'entropy'}. Best is trial 12 with value: 0.17333333333333334.\u001b[0m\n",
      "\u001b[32m[I 2022-03-31 19:00:37,854]\u001b[0m Trial 13 finished with value: 0.10309278350515462 and parameters: {'n_estimators': 419, 'max_depth': 30, 'criterion': 'entropy'}. Best is trial 12 with value: 0.17333333333333334.\u001b[0m\n",
      "\u001b[32m[I 2022-03-31 19:00:42,395]\u001b[0m Trial 14 finished with value: 0.14705882352941177 and parameters: {'n_estimators': 709, 'max_depth': 67, 'criterion': 'entropy'}. Best is trial 12 with value: 0.17333333333333334.\u001b[0m\n",
      "\u001b[32m[I 2022-03-31 19:00:43,779]\u001b[0m Trial 15 finished with value: 0.048780487804878044 and parameters: {'n_estimators': 424, 'max_depth': 24, 'criterion': 'entropy'}. Best is trial 12 with value: 0.17333333333333334.\u001b[0m\n",
      "\u001b[32m[I 2022-03-31 19:00:47,349]\u001b[0m Trial 16 finished with value: 0.11111111111111112 and parameters: {'n_estimators': 571, 'max_depth': 64, 'criterion': 'entropy'}. Best is trial 12 with value: 0.17333333333333334.\u001b[0m\n",
      "\u001b[32m[I 2022-03-31 19:00:49,482]\u001b[0m Trial 17 finished with value: 0.0 and parameters: {'n_estimators': 763, 'max_depth': 20, 'criterion': 'entropy'}. Best is trial 12 with value: 0.17333333333333334.\u001b[0m\n",
      "\u001b[32m[I 2022-03-31 19:00:52,355]\u001b[0m Trial 18 finished with value: 0.1285714285714286 and parameters: {'n_estimators': 416, 'max_depth': 91, 'criterion': 'entropy'}. Best is trial 12 with value: 0.17333333333333334.\u001b[0m\n",
      "\u001b[32m[I 2022-03-31 19:00:53,691]\u001b[0m Trial 19 finished with value: 0.09615384615384616 and parameters: {'n_estimators': 291, 'max_depth': 38, 'criterion': 'entropy'}. Best is trial 12 with value: 0.17333333333333334.\u001b[0m\n"
     ]
    },
    {
     "name": "stdout",
     "output_type": "stream",
     "text": [
      "              precision    recall  f1-score   support\n",
      "\n",
      "           0       0.20      0.11      0.14       167\n",
      "           1       0.89      0.94      0.92      1334\n",
      "\n",
      "    accuracy                           0.85      1501\n",
      "   macro avg       0.55      0.53      0.53      1501\n",
      "weighted avg       0.82      0.85      0.83      1501\n",
      "\n",
      "[[  19  148]\n",
      " [  77 1257]]\n"
     ]
    }
   ],
   "source": [
    "#Balanced data\n",
    "all_metrics.append(pipeline_rf(\"rf_b\",X_train_vec_b[0], y_train_b, X_valid_vec_b[0], y_valid_b, X_test_vec_b[0], y_test_b))"
   ]
  },
  {
   "cell_type": "markdown",
   "metadata": {},
   "source": [
    "### Com stemming"
   ]
  },
  {
   "cell_type": "code",
   "execution_count": 14,
   "metadata": {},
   "outputs": [
    {
     "name": "stderr",
     "output_type": "stream",
     "text": [
      "\u001b[32m[I 2022-03-31 19:00:58,050]\u001b[0m A new study created in memory with name: no-name-b0401a04-4e34-434c-ba26-fd16fd75ceb4\u001b[0m\n",
      "\u001b[32m[I 2022-03-31 19:00:59,236]\u001b[0m Trial 0 finished with value: 0.0 and parameters: {'n_estimators': 813, 'max_depth': 5, 'criterion': 'entropy'}. Best is trial 0 with value: 0.0.\u001b[0m\n",
      "\u001b[32m[I 2022-03-31 19:01:00,167]\u001b[0m Trial 1 finished with value: 0.0 and parameters: {'n_estimators': 405, 'max_depth': 21, 'criterion': 'gini'}. Best is trial 0 with value: 0.0.\u001b[0m\n",
      "\u001b[32m[I 2022-03-31 19:01:01,363]\u001b[0m Trial 2 finished with value: 0.0 and parameters: {'n_estimators': 938, 'max_depth': 2, 'criterion': 'entropy'}. Best is trial 0 with value: 0.0.\u001b[0m\n",
      "\u001b[32m[I 2022-03-31 19:01:03,524]\u001b[0m Trial 3 finished with value: 0.09433962264150943 and parameters: {'n_estimators': 366, 'max_depth': 117, 'criterion': 'entropy'}. Best is trial 3 with value: 0.09433962264150943.\u001b[0m\n",
      "\u001b[32m[I 2022-03-31 19:01:05,270]\u001b[0m Trial 4 finished with value: 0.0 and parameters: {'n_estimators': 704, 'max_depth': 18, 'criterion': 'entropy'}. Best is trial 3 with value: 0.09433962264150943.\u001b[0m\n",
      "\u001b[32m[I 2022-03-31 19:01:05,906]\u001b[0m Trial 5 finished with value: 0.09999999999999998 and parameters: {'n_estimators': 118, 'max_depth': 99, 'criterion': 'entropy'}. Best is trial 5 with value: 0.09999999999999998.\u001b[0m\n",
      "\u001b[32m[I 2022-03-31 19:01:10,767]\u001b[0m Trial 6 finished with value: 0.10101010101010101 and parameters: {'n_estimators': 906, 'max_depth': 67, 'criterion': 'entropy'}. Best is trial 6 with value: 0.10101010101010101.\u001b[0m\n",
      "\u001b[32m[I 2022-03-31 19:01:12,354]\u001b[0m Trial 7 finished with value: 0.0 and parameters: {'n_estimators': 400, 'max_depth': 34, 'criterion': 'entropy'}. Best is trial 6 with value: 0.10101010101010101.\u001b[0m\n",
      "\u001b[32m[I 2022-03-31 19:01:13,689]\u001b[0m Trial 8 finished with value: 0.0 and parameters: {'n_estimators': 373, 'max_depth': 27, 'criterion': 'entropy'}. Best is trial 6 with value: 0.10101010101010101.\u001b[0m\n",
      "\u001b[32m[I 2022-03-31 19:01:14,782]\u001b[0m Trial 9 finished with value: 0.0 and parameters: {'n_estimators': 590, 'max_depth': 11, 'criterion': 'entropy'}. Best is trial 6 with value: 0.10101010101010101.\u001b[0m\n",
      "\u001b[32m[I 2022-03-31 19:01:19,054]\u001b[0m Trial 10 finished with value: 0.0970873786407767 and parameters: {'n_estimators': 974, 'max_depth': 54, 'criterion': 'gini'}. Best is trial 6 with value: 0.10101010101010101.\u001b[0m\n",
      "\u001b[32m[I 2022-03-31 19:01:19,264]\u001b[0m Trial 11 finished with value: 0.1384615384615385 and parameters: {'n_estimators': 37, 'max_depth': 112, 'criterion': 'gini'}. Best is trial 11 with value: 0.1384615384615385.\u001b[0m\n",
      "\u001b[32m[I 2022-03-31 19:01:19,604]\u001b[0m Trial 12 finished with value: 0.11320754716981134 and parameters: {'n_estimators': 71, 'max_depth': 63, 'criterion': 'gini'}. Best is trial 11 with value: 0.1384615384615385.\u001b[0m\n",
      "\u001b[32m[I 2022-03-31 19:01:19,757]\u001b[0m Trial 13 finished with value: 0.1391304347826087 and parameters: {'n_estimators': 34, 'max_depth': 56, 'criterion': 'gini'}. Best is trial 13 with value: 0.1391304347826087.\u001b[0m\n",
      "\u001b[32m[I 2022-03-31 19:01:19,793]\u001b[0m Trial 14 finished with value: 0.1895734597156398 and parameters: {'n_estimators': 6, 'max_depth': 47, 'criterion': 'gini'}. Best is trial 14 with value: 0.1895734597156398.\u001b[0m\n",
      "\u001b[32m[I 2022-03-31 19:01:20,113]\u001b[0m Trial 15 finished with value: 0.0 and parameters: {'n_estimators': 192, 'max_depth': 10, 'criterion': 'gini'}. Best is trial 14 with value: 0.1895734597156398.\u001b[0m\n",
      "\u001b[32m[I 2022-03-31 19:01:20,848]\u001b[0m Trial 16 finished with value: 0.12121212121212123 and parameters: {'n_estimators': 203, 'max_depth': 44, 'criterion': 'gini'}. Best is trial 14 with value: 0.1895734597156398.\u001b[0m\n",
      "\u001b[32m[I 2022-03-31 19:01:21,682]\u001b[0m Trial 17 finished with value: 0.08695652173913043 and parameters: {'n_estimators': 234, 'max_depth': 36, 'criterion': 'gini'}. Best is trial 14 with value: 0.1895734597156398.\u001b[0m\n",
      "\u001b[32m[I 2022-03-31 19:01:21,735]\u001b[0m Trial 18 finished with value: 0.0 and parameters: {'n_estimators': 24, 'max_depth': 9, 'criterion': 'gini'}. Best is trial 14 with value: 0.1895734597156398.\u001b[0m\n",
      "\u001b[32m[I 2022-03-31 19:01:22,165]\u001b[0m Trial 19 finished with value: 0.0 and parameters: {'n_estimators': 278, 'max_depth': 5, 'criterion': 'gini'}. Best is trial 14 with value: 0.1895734597156398.\u001b[0m\n"
     ]
    },
    {
     "name": "stdout",
     "output_type": "stream",
     "text": [
      "              precision    recall  f1-score   support\n",
      "\n",
      "           0       0.23      0.14      0.18       167\n",
      "           1       0.90      0.94      0.92      1334\n",
      "\n",
      "    accuracy                           0.85      1501\n",
      "   macro avg       0.56      0.54      0.55      1501\n",
      "weighted avg       0.82      0.85      0.84      1501\n",
      "\n",
      "[[  24  143]\n",
      " [  81 1253]]\n"
     ]
    }
   ],
   "source": [
    "all_metrics.append(pipeline_rf(\"rf_st\",X_train_vec[1], y_train, X_valid_vec[1], y_valid, X_test_vec[1], y_test))"
   ]
  },
  {
   "cell_type": "code",
   "execution_count": 17,
   "metadata": {},
   "outputs": [
    {
     "name": "stderr",
     "output_type": "stream",
     "text": [
      "\u001b[32m[I 2022-03-31 19:01:45,001]\u001b[0m A new study created in memory with name: no-name-ef573c75-4d95-415b-a904-ec2deed71bdf\u001b[0m\n",
      "\u001b[32m[I 2022-03-31 19:01:46,402]\u001b[0m Trial 0 finished with value: 0.0 and parameters: {'n_estimators': 930, 'max_depth': 6, 'criterion': 'gini'}. Best is trial 0 with value: 0.0.\u001b[0m\n",
      "\u001b[32m[I 2022-03-31 19:01:46,708]\u001b[0m Trial 1 finished with value: 0.0 and parameters: {'n_estimators': 146, 'max_depth': 10, 'criterion': 'entropy'}. Best is trial 0 with value: 0.0.\u001b[0m\n",
      "\u001b[32m[I 2022-03-31 19:01:47,393]\u001b[0m Trial 2 finished with value: 0.0 and parameters: {'n_estimators': 194, 'max_depth': 21, 'criterion': 'entropy'}. Best is trial 0 with value: 0.0.\u001b[0m\n",
      "\u001b[32m[I 2022-03-31 19:01:49,494]\u001b[0m Trial 3 finished with value: 0.1324503311258278 and parameters: {'n_estimators': 340, 'max_depth': 61, 'criterion': 'gini'}. Best is trial 3 with value: 0.1324503311258278.\u001b[0m\n",
      "\u001b[32m[I 2022-03-31 19:01:50,761]\u001b[0m Trial 4 finished with value: 0.0 and parameters: {'n_estimators': 923, 'max_depth': 4, 'criterion': 'gini'}. Best is trial 3 with value: 0.1324503311258278.\u001b[0m\n",
      "\u001b[32m[I 2022-03-31 19:01:52,265]\u001b[0m Trial 5 finished with value: 0.0 and parameters: {'n_estimators': 996, 'max_depth': 5, 'criterion': 'gini'}. Best is trial 3 with value: 0.1324503311258278.\u001b[0m\n",
      "\u001b[32m[I 2022-03-31 19:01:55,752]\u001b[0m Trial 6 finished with value: 0.1068702290076336 and parameters: {'n_estimators': 542, 'max_depth': 65, 'criterion': 'entropy'}. Best is trial 3 with value: 0.1324503311258278.\u001b[0m\n",
      "\u001b[32m[I 2022-03-31 19:01:59,022]\u001b[0m Trial 7 finished with value: 0.0 and parameters: {'n_estimators': 954, 'max_depth': 23, 'criterion': 'entropy'}. Best is trial 3 with value: 0.1324503311258278.\u001b[0m\n",
      "\u001b[32m[I 2022-03-31 19:01:59,941]\u001b[0m Trial 8 finished with value: 0.0 and parameters: {'n_estimators': 664, 'max_depth': 4, 'criterion': 'gini'}. Best is trial 3 with value: 0.1324503311258278.\u001b[0m\n",
      "\u001b[32m[I 2022-03-31 19:02:02,386]\u001b[0m Trial 9 finished with value: 0.1 and parameters: {'n_estimators': 374, 'max_depth': 66, 'criterion': 'entropy'}. Best is trial 3 with value: 0.1324503311258278.\u001b[0m\n",
      "\u001b[32m[I 2022-03-31 19:02:04,901]\u001b[0m Trial 10 finished with value: 0.1518987341772152 and parameters: {'n_estimators': 351, 'max_depth': 115, 'criterion': 'gini'}. Best is trial 10 with value: 0.1518987341772152.\u001b[0m\n",
      "\u001b[32m[I 2022-03-31 19:02:07,325]\u001b[0m Trial 11 finished with value: 0.13580246913580246 and parameters: {'n_estimators': 334, 'max_depth': 124, 'criterion': 'gini'}. Best is trial 10 with value: 0.1518987341772152.\u001b[0m\n",
      "\u001b[32m[I 2022-03-31 19:02:10,070]\u001b[0m Trial 12 finished with value: 0.12269938650306748 and parameters: {'n_estimators': 376, 'max_depth': 120, 'criterion': 'gini'}. Best is trial 10 with value: 0.1518987341772152.\u001b[0m\n",
      "\u001b[32m[I 2022-03-31 19:02:10,495]\u001b[0m Trial 13 finished with value: 0.13095238095238096 and parameters: {'n_estimators': 58, 'max_depth': 123, 'criterion': 'gini'}. Best is trial 10 with value: 0.1518987341772152.\u001b[0m\n",
      "\u001b[32m[I 2022-03-31 19:02:13,517]\u001b[0m Trial 14 finished with value: 0.125 and parameters: {'n_estimators': 610, 'max_depth': 41, 'criterion': 'gini'}. Best is trial 10 with value: 0.1518987341772152.\u001b[0m\n",
      "\u001b[32m[I 2022-03-31 19:02:13,961]\u001b[0m Trial 15 finished with value: 0.0 and parameters: {'n_estimators': 241, 'max_depth': 2, 'criterion': 'gini'}. Best is trial 10 with value: 0.1518987341772152.\u001b[0m\n",
      "\u001b[32m[I 2022-03-31 19:02:17,548]\u001b[0m Trial 16 finished with value: 0.12121212121212123 and parameters: {'n_estimators': 717, 'max_depth': 38, 'criterion': 'gini'}. Best is trial 10 with value: 0.1518987341772152.\u001b[0m\n",
      "\u001b[32m[I 2022-03-31 19:02:21,138]\u001b[0m Trial 17 finished with value: 0.13157894736842105 and parameters: {'n_estimators': 487, 'max_depth': 126, 'criterion': 'gini'}. Best is trial 10 with value: 0.1518987341772152.\u001b[0m\n",
      "\u001b[32m[I 2022-03-31 19:02:21,150]\u001b[0m Trial 18 finished with value: 0.09900990099009901 and parameters: {'n_estimators': 1, 'max_depth': 14, 'criterion': 'gini'}. Best is trial 10 with value: 0.1518987341772152.\u001b[0m\n",
      "\u001b[32m[I 2022-03-31 19:02:22,550]\u001b[0m Trial 19 finished with value: 0.11023622047244094 and parameters: {'n_estimators': 296, 'max_depth': 38, 'criterion': 'gini'}. Best is trial 10 with value: 0.1518987341772152.\u001b[0m\n"
     ]
    },
    {
     "name": "stdout",
     "output_type": "stream",
     "text": [
      "              precision    recall  f1-score   support\n",
      "\n",
      "           0       0.18      0.16      0.17       167\n",
      "           1       0.90      0.91      0.90      1334\n",
      "\n",
      "    accuracy                           0.83      1501\n",
      "   macro avg       0.54      0.54      0.54      1501\n",
      "weighted avg       0.82      0.83      0.82      1501\n",
      "\n",
      "[[  27  140]\n",
      " [ 122 1212]]\n"
     ]
    }
   ],
   "source": [
    "all_metrics.append(pipeline_rf(\"rf_b_st\",X_train_vec_b[1], y_train_b, X_valid_vec_b[1], y_valid_b, X_test_vec_b[1], y_test_b))"
   ]
  },
  {
   "cell_type": "code",
   "execution_count": 18,
   "metadata": {},
   "outputs": [],
   "source": [
    "df_metrics = pd.DataFrame(all_metrics, columns=['name', 'accuracy', 'f1_0', 'f1_1', 'f1_w','predictions'])\n",
    "df_metrics.to_csv(\"metrics_bow.csv\", index= False)"
   ]
  },
  {
   "cell_type": "markdown",
   "metadata": {},
   "source": [
    "## Redes (CNN, LSTM e BERT)"
   ]
  },
  {
   "cell_type": "code",
   "execution_count": 16,
   "metadata": {},
   "outputs": [],
   "source": [
    "def pipeline_cnn_lstm(tuner_name,X_train, y_train, X_valid, y_valid, X_test, y_test):\n",
    "\n",
    "    type_nn = tuner_name[:3]\n",
    "   \n",
    "    #Encoding sentences\n",
    "    encoder = networks.sentence_encoder(X_train)\n",
    "\n",
    "    #Finding best parameters\n",
    "    tuner = networks.network_tuner(type_nn, encoder, tuner_name)\n",
    "    \n",
    "    best_hp = networks.search_network(tuner, X_train, y_train, X_valid, y_valid)\n",
    "\n",
    "    #Loading best model\n",
    "    model = networks.get_model(tuner, best_hp)\n",
    "    stop_early = tf.keras.callbacks.EarlyStopping(monitor='val_loss', patience=5)\n",
    "    history = model.fit(X_train, y_train, epochs=50, validation_data = (X_valid, y_valid), callbacks=[stop_early])\n",
    "\n",
    "    #Getting test results\n",
    "    result = networks.get_test_metrics(model, X_test, y_test)\n",
    "    networks.plot_acuracy_loss(history)\n",
    "\n",
    "    metrics = calc_metrics(y_test, result, tuner_name)\n",
    "    return metrics"
   ]
  },
  {
   "cell_type": "markdown",
   "metadata": {},
   "source": [
    "### CNN"
   ]
  },
  {
   "cell_type": "markdown",
   "metadata": {},
   "source": [
    "#### Sem stemming"
   ]
  },
  {
   "cell_type": "code",
   "execution_count": 19,
   "metadata": {},
   "outputs": [
    {
     "name": "stdout",
     "output_type": "stream",
     "text": [
      "INFO:tensorflow:Reloading Oracle from existing project tuner\\cnn\\oracle.json\n",
      "INFO:tensorflow:Reloading Tuner from tuner\\cnn\\tuner0.json\n",
      "Search space summary\n",
      "Default search space size: 2\n",
      "dropout_1 (Float)\n",
      "{'default': 0.25, 'conditions': [], 'min_value': 0.0, 'max_value': 0.5, 'step': 0.05, 'sampling': None}\n",
      "learning_rate (Choice)\n",
      "{'default': 0.01, 'conditions': [], 'values': [0.01, 0.001, 0.0001], 'ordered': True}\n",
      "None\n",
      "INFO:tensorflow:Oracle triggered exit\n",
      "Model: \"sequential_1\"\n",
      "_________________________________________________________________\n",
      "Layer (type)                 Output Shape              Param #   \n",
      "=================================================================\n",
      "text_vectorization (TextVect (None, None)              0         \n",
      "_________________________________________________________________\n",
      "embedding_1 (Embedding)      (None, None, 64)          64000     \n",
      "_________________________________________________________________\n",
      "conv1d_1 (Conv1D)            (None, None, 32)          16416     \n",
      "_________________________________________________________________\n",
      "max_pooling1d_1 (MaxPooling1 (None, None, 32)          0         \n",
      "_________________________________________________________________\n",
      "dropout_1 (Dropout)          (None, None, 32)          0         \n",
      "_________________________________________________________________\n",
      "global_max_pooling1d_1 (Glob (None, 32)                0         \n",
      "_________________________________________________________________\n",
      "dense_1 (Dense)              (None, 1)                 33        \n",
      "=================================================================\n",
      "Total params: 80,449\n",
      "Trainable params: 80,449\n",
      "Non-trainable params: 0\n",
      "_________________________________________________________________\n",
      "None\n",
      "Epoch 1/50\n"
     ]
    },
    {
     "name": "stderr",
     "output_type": "stream",
     "text": [
      "C:\\Users\\mcso\\anaconda3\\envs\\tf_gpu\\lib\\site-packages\\keras\\backend.py:4993: UserWarning: \"`binary_crossentropy` received `from_logits=True`, but the `output` argument was produced by a sigmoid or softmax activation and thus does not represent logits. Was this intended?\"\n",
      "  warnings.warn(\n"
     ]
    },
    {
     "name": "stdout",
     "output_type": "stream",
     "text": [
      "88/88 [==============================] - ETA: 0s - loss: 0.3062 - accuracy: 0.8958"
     ]
    },
    {
     "name": "stderr",
     "output_type": "stream",
     "text": [
      "C:\\Users\\mcso\\anaconda3\\envs\\tf_gpu\\lib\\site-packages\\keras\\backend.py:4993: UserWarning: \"`binary_crossentropy` received `from_logits=True`, but the `output` argument was produced by a sigmoid or softmax activation and thus does not represent logits. Was this intended?\"\n",
      "  warnings.warn(\n"
     ]
    },
    {
     "name": "stdout",
     "output_type": "stream",
     "text": [
      "88/88 [==============================] - 11s 92ms/step - loss: 0.3062 - accuracy: 0.8958 - val_loss: 0.2569 - val_accuracy: 0.9087\n",
      "Epoch 2/50\n",
      "88/88 [==============================] - 2s 22ms/step - loss: 0.1648 - accuracy: 0.9340 - val_loss: 0.2696 - val_accuracy: 0.8887\n",
      "Epoch 3/50\n",
      "88/88 [==============================] - 1s 11ms/step - loss: 0.0832 - accuracy: 0.9718 - val_loss: 0.3051 - val_accuracy: 0.8944\n",
      "Epoch 4/50\n",
      "88/88 [==============================] - 1s 12ms/step - loss: 0.0406 - accuracy: 0.9854 - val_loss: 0.4327 - val_accuracy: 0.8859\n",
      "Epoch 5/50\n",
      "88/88 [==============================] - 1s 9ms/step - loss: 0.0127 - accuracy: 0.9961 - val_loss: 0.5756 - val_accuracy: 0.8930\n",
      "Epoch 6/50\n",
      "88/88 [==============================] - 1s 11ms/step - loss: 0.0044 - accuracy: 0.9996 - val_loss: 0.5379 - val_accuracy: 0.8887\n",
      "47/47 [==============================] - 1s 24ms/step - loss: 0.6107 - accuracy: 0.8774\n",
      "Test Loss: 0.6107040047645569\n",
      "Test Accuracy: 0.8774150609970093\n",
      "              precision    recall  f1-score   support\n",
      "\n",
      "           0       0.45      0.43      0.44       167\n",
      "           1       0.93      0.93      0.93      1334\n",
      "\n",
      "    accuracy                           0.88      1501\n",
      "   macro avg       0.69      0.68      0.68      1501\n",
      "weighted avg       0.87      0.88      0.88      1501\n",
      "\n",
      "[[  71   96]\n",
      " [  88 1246]]\n"
     ]
    },
    {
     "data": {
      "image/png": "[encoded data removed]",
      "text/plain": [
       "<Figure size 1152x576 with 2 Axes>"
      ]
     },
     "metadata": {
      "needs_background": "light"
     },
     "output_type": "display_data"
    }
   ],
   "source": [
    "# Desbalanceado\n",
    "all_metrics.append(pipeline_cnn_lstm(\"cnn\",X_train_join[0], y_train, X_valid_join[0], y_valid, X_test_join[0], y_test))"
   ]
  },
  {
   "cell_type": "code",
   "execution_count": 20,
   "metadata": {},
   "outputs": [
    {
     "name": "stdout",
     "output_type": "stream",
     "text": [
      "Trial 31 Complete [00h 00m 03s]\n",
      "val_accuracy: 0.8887304067611694\n",
      "\n",
      "Best val_accuracy So Far: 0.9186875820159912\n",
      "Total elapsed time: 00h 01m 56s\n",
      "INFO:tensorflow:Oracle triggered exit\n"
     ]
    },
    {
     "name": "stdout",
     "output_type": "stream",
     "text": [
      "Model: \"sequential_1\"\n",
      "_________________________________________________________________\n",
      "Layer (type)                 Output Shape              Param #   \n",
      "=================================================================\n",
      "text_vectorization_1 (TextVe (None, None)              0         \n",
      "_________________________________________________________________\n",
      "embedding_1 (Embedding)      (None, None, 64)          64000     \n",
      "_________________________________________________________________\n",
      "conv1d_1 (Conv1D)            (None, None, 32)          16416     \n",
      "_________________________________________________________________\n",
      "max_pooling1d_1 (MaxPooling1 (None, None, 32)          0         \n",
      "_________________________________________________________________\n",
      "dropout_1 (Dropout)          (None, None, 32)          0         \n",
      "_________________________________________________________________\n",
      "global_max_pooling1d_1 (Glob (None, 32)                0         \n",
      "_________________________________________________________________\n",
      "dense_1 (Dense)              (None, 1)                 33        \n",
      "=================================================================\n",
      "Total params: 80,449\n",
      "Trainable params: 80,449\n",
      "Non-trainable params: 0\n",
      "_________________________________________________________________\n",
      "None\n",
      "Epoch 1/50\n",
      "104/104 [==============================] - ETA: 0s - loss: 0.5341 - accuracy: 0.7395"
     ]
    },
    {
     "name": "stderr",
     "output_type": "stream",
     "text": [
      "C:\\Users\\mcso\\anaconda3\\envs\\tf_gpu\\lib\\site-packages\\keras\\backend.py:4993: UserWarning: \"`binary_crossentropy` received `from_logits=True`, but the `output` argument was produced by a sigmoid or softmax activation and thus does not represent logits. Was this intended?\"\n",
      "  warnings.warn(\n"
     ]
    },
    {
     "name": "stdout",
     "output_type": "stream",
     "text": [
      "104/104 [==============================] - 2s 11ms/step - loss: 0.5341 - accuracy: 0.7395 - val_loss: 0.4462 - val_accuracy: 0.8716\n",
      "Epoch 2/50\n",
      "104/104 [==============================] - 1s 10ms/step - loss: 0.3340 - accuracy: 0.8717 - val_loss: 0.2738 - val_accuracy: 0.8987\n",
      "Epoch 3/50\n",
      "104/104 [==============================] - 1s 9ms/step - loss: 0.1823 - accuracy: 0.9355 - val_loss: 0.2440 - val_accuracy: 0.9058\n",
      "Epoch 4/50\n",
      "104/104 [==============================] - 1s 9ms/step - loss: 0.1013 - accuracy: 0.9699 - val_loss: 0.2419 - val_accuracy: 0.9158\n",
      "Epoch 5/50\n",
      "104/104 [==============================] - 1s 10ms/step - loss: 0.0628 - accuracy: 0.9831 - val_loss: 0.2569 - val_accuracy: 0.9087\n",
      "Epoch 6/50\n",
      "104/104 [==============================] - 1s 11ms/step - loss: 0.0389 - accuracy: 0.9928 - val_loss: 0.2839 - val_accuracy: 0.9101\n",
      "Epoch 7/50\n",
      "104/104 [==============================] - 1s 11ms/step - loss: 0.0255 - accuracy: 0.9952 - val_loss: 0.3086 - val_accuracy: 0.9058\n",
      "Epoch 8/50\n",
      "104/104 [==============================] - 1s 9ms/step - loss: 0.0171 - accuracy: 0.9979 - val_loss: 0.3263 - val_accuracy: 0.9044\n",
      "Epoch 9/50\n",
      "104/104 [==============================] - 1s 9ms/step - loss: 0.0118 - accuracy: 0.9985 - val_loss: 0.3471 - val_accuracy: 0.9001\n",
      "47/47 [==============================] - 0s 5ms/step - loss: 0.3991 - accuracy: 0.8781\n",
      "Test Loss: 0.3990926742553711\n",
      "Test Accuracy: 0.8780812621116638\n",
      "              precision    recall  f1-score   support\n",
      "\n",
      "           0       0.44      0.37      0.40       167\n",
      "           1       0.92      0.94      0.93      1334\n",
      "\n",
      "    accuracy                           0.88      1501\n",
      "   macro avg       0.68      0.65      0.67      1501\n",
      "weighted avg       0.87      0.88      0.87      1501\n",
      "\n",
      "[[  61  106]\n",
      " [  77 1257]]\n"
     ]
    },
    {
     "data": {
      "image/png": "[encoded data removed]",
      "text/plain": [
       "<Figure size 1152x576 with 2 Axes>"
      ]
     },
     "metadata": {
      "needs_background": "light"
     },
     "output_type": "display_data"
    }
   ],
   "source": [
    "# Balanceado\n",
    "all_metrics.append(pipeline_cnn_lstm(\"cnn_b\",X_train_join_b[0], y_train_b, X_valid_join_b[0], y_valid_b, X_test_join_b[0], y_test_b))"
   ]
  },
  {
   "cell_type": "markdown",
   "metadata": {},
   "source": [
    "#### Com stemming"
   ]
  },
  {
   "cell_type": "code",
   "execution_count": 21,
   "metadata": {},
   "outputs": [
    {
     "name": "stdout",
     "output_type": "stream",
     "text": [
      "Trial 33 Complete [00h 00m 03s]\n",
      "val_accuracy: 0.8887304067611694\n",
      "\n",
      "Best val_accuracy So Far: 0.9172610640525818\n",
      "Total elapsed time: 00h 01m 55s\n",
      "INFO:tensorflow:Oracle triggered exit\n"
     ]
    },
    {
     "name": "stdout",
     "output_type": "stream",
     "text": [
      "Model: \"sequential_1\"\n",
      "_________________________________________________________________\n",
      "Layer (type)                 Output Shape              Param #   \n",
      "=================================================================\n",
      "text_vectorization (TextVect (None, None)              0         \n",
      "_________________________________________________________________\n",
      "embedding_1 (Embedding)      (None, None, 64)          64000     \n",
      "_________________________________________________________________\n",
      "conv1d_1 (Conv1D)            (None, None, 32)          16416     \n",
      "_________________________________________________________________\n",
      "max_pooling1d_1 (MaxPooling1 (None, None, 32)          0         \n",
      "_________________________________________________________________\n",
      "dropout_1 (Dropout)          (None, None, 32)          0         \n",
      "_________________________________________________________________\n",
      "global_max_pooling1d_1 (Glob (None, 32)                0         \n",
      "_________________________________________________________________\n",
      "dense_1 (Dense)              (None, 1)                 33        \n",
      "=================================================================\n",
      "Total params: 80,449\n",
      "Trainable params: 80,449\n",
      "Non-trainable params: 0\n",
      "_________________________________________________________________\n",
      "None\n",
      "Epoch 1/50\n",
      "88/88 [==============================] - ETA: 0s - loss: 0.2949 - accuracy: 0.8954"
     ]
    },
    {
     "name": "stderr",
     "output_type": "stream",
     "text": [
      "C:\\Users\\mcso\\anaconda3\\envs\\tf_gpu\\lib\\site-packages\\keras\\backend.py:4993: UserWarning: \"`binary_crossentropy` received `from_logits=True`, but the `output` argument was produced by a sigmoid or softmax activation and thus does not represent logits. Was this intended?\"\n",
      "  warnings.warn(\n"
     ]
    },
    {
     "name": "stdout",
     "output_type": "stream",
     "text": [
      "88/88 [==============================] - 2s 12ms/step - loss: 0.2949 - accuracy: 0.8954 - val_loss: 0.2472 - val_accuracy: 0.9087\n",
      "Epoch 2/50\n",
      "88/88 [==============================] - 1s 10ms/step - loss: 0.1511 - accuracy: 0.9454 - val_loss: 0.2982 - val_accuracy: 0.8902\n",
      "Epoch 3/50\n",
      "88/88 [==============================] - 1s 10ms/step - loss: 0.0601 - accuracy: 0.9804 - val_loss: 0.3643 - val_accuracy: 0.8887\n",
      "Epoch 4/50\n",
      "88/88 [==============================] - 1s 11ms/step - loss: 0.0164 - accuracy: 0.9968 - val_loss: 0.4965 - val_accuracy: 0.9073\n",
      "Epoch 5/50\n",
      "88/88 [==============================] - 1s 8ms/step - loss: 0.0048 - accuracy: 0.9986 - val_loss: 0.5666 - val_accuracy: 0.9016\n",
      "Epoch 6/50\n",
      "88/88 [==============================] - 1s 7ms/step - loss: 0.0023 - accuracy: 0.9996 - val_loss: 0.5312 - val_accuracy: 0.8959\n",
      "47/47 [==============================] - 0s 4ms/step - loss: 0.5323 - accuracy: 0.8894\n",
      "Test Loss: 0.5322619676589966\n",
      "Test Accuracy: 0.8894070386886597\n",
      "              precision    recall  f1-score   support\n",
      "\n",
      "           0       0.50      0.37      0.42       167\n",
      "           1       0.92      0.96      0.94      1334\n",
      "\n",
      "    accuracy                           0.89      1501\n",
      "   macro avg       0.71      0.66      0.68      1501\n",
      "weighted avg       0.88      0.89      0.88      1501\n",
      "\n",
      "[[  61  106]\n",
      " [  60 1274]]\n"
     ]
    },
    {
     "data": {
      "image/png": "[encoded data removed]",
      "text/plain": [
       "<Figure size 1152x576 with 2 Axes>"
      ]
     },
     "metadata": {
      "needs_background": "light"
     },
     "output_type": "display_data"
    }
   ],
   "source": [
    "#Desbalanceado\n",
    "all_metrics.append(pipeline_cnn_lstm(\"cnn_st\",X_train_join[1], y_train, X_valid_join[1], y_valid, X_test_join[1], y_test))"
   ]
  },
  {
   "cell_type": "code",
   "execution_count": 22,
   "metadata": {},
   "outputs": [
    {
     "name": "stdout",
     "output_type": "stream",
     "text": [
      "Trial 33 Complete [00h 00m 03s]\n",
      "val_accuracy: 0.8887304067611694\n",
      "\n",
      "Best val_accuracy So Far: 0.9129814505577087\n",
      "Total elapsed time: 00h 02m 04s\n",
      "INFO:tensorflow:Oracle triggered exit\n"
     ]
    },
    {
     "name": "stdout",
     "output_type": "stream",
     "text": [
      "Model: \"sequential_1\"\n",
      "_________________________________________________________________\n",
      "Layer (type)                 Output Shape              Param #   \n",
      "=================================================================\n",
      "text_vectorization (TextVect (None, None)              0         \n",
      "_________________________________________________________________\n",
      "embedding_1 (Embedding)      (None, None, 64)          64000     \n",
      "_________________________________________________________________\n",
      "conv1d_1 (Conv1D)            (None, None, 32)          16416     \n",
      "_________________________________________________________________\n",
      "max_pooling1d_1 (MaxPooling1 (None, None, 32)          0         \n",
      "_________________________________________________________________\n",
      "dropout_1 (Dropout)          (None, None, 32)          0         \n",
      "_________________________________________________________________\n",
      "global_max_pooling1d_1 (Glob (None, 32)                0         \n",
      "_________________________________________________________________\n",
      "dense_1 (Dense)              (None, 1)                 33        \n",
      "=================================================================\n",
      "Total params: 80,449\n",
      "Trainable params: 80,449\n",
      "Non-trainable params: 0\n",
      "_________________________________________________________________\n",
      "None\n",
      "Epoch 1/50\n",
      "103/104 [============================>.] - ETA: 0s - loss: 0.3141 - accuracy: 0.8617"
     ]
    },
    {
     "name": "stderr",
     "output_type": "stream",
     "text": [
      "C:\\Users\\mcso\\anaconda3\\envs\\tf_gpu\\lib\\site-packages\\keras\\backend.py:4993: UserWarning: \"`binary_crossentropy` received `from_logits=True`, but the `output` argument was produced by a sigmoid or softmax activation and thus does not represent logits. Was this intended?\"\n",
      "  warnings.warn(\n"
     ]
    },
    {
     "name": "stdout",
     "output_type": "stream",
     "text": [
      "104/104 [==============================] - 2s 12ms/step - loss: 0.3127 - accuracy: 0.8627 - val_loss: 0.2859 - val_accuracy: 0.8730\n",
      "Epoch 2/50\n",
      "104/104 [==============================] - 1s 9ms/step - loss: 0.1206 - accuracy: 0.9533 - val_loss: 0.3357 - val_accuracy: 0.8859\n",
      "Epoch 3/50\n",
      "104/104 [==============================] - 1s 10ms/step - loss: 0.0503 - accuracy: 0.9813 - val_loss: 0.3634 - val_accuracy: 0.8944\n",
      "Epoch 4/50\n",
      "104/104 [==============================] - 1s 10ms/step - loss: 0.0266 - accuracy: 0.9910 - val_loss: 0.5089 - val_accuracy: 0.8987\n",
      "Epoch 5/50\n",
      "104/104 [==============================] - 1s 8ms/step - loss: 0.0374 - accuracy: 0.9858 - val_loss: 0.5586 - val_accuracy: 0.8902\n",
      "Epoch 6/50\n",
      "104/104 [==============================] - 1s 9ms/step - loss: 0.0360 - accuracy: 0.9880 - val_loss: 0.7514 - val_accuracy: 0.8987\n",
      "47/47 [==============================] - 0s 5ms/step - loss: 0.7711 - accuracy: 0.8921\n",
      "Test Loss: 0.7711418867111206\n",
      "Test Accuracy: 0.8920719623565674\n",
      "              precision    recall  f1-score   support\n",
      "\n",
      "           0       0.53      0.29      0.37       167\n",
      "           1       0.92      0.97      0.94      1334\n",
      "\n",
      "    accuracy                           0.89      1501\n",
      "   macro avg       0.72      0.63      0.66      1501\n",
      "weighted avg       0.87      0.89      0.88      1501\n",
      "\n",
      "[[  48  119]\n",
      " [  43 1291]]\n"
     ]
    },
    {
     "data": {
      "image/png": "[encoded data removed]",
      "text/plain": [
       "<Figure size 1152x576 with 2 Axes>"
      ]
     },
     "metadata": {
      "needs_background": "light"
     },
     "output_type": "display_data"
    }
   ],
   "source": [
    "#Balanceado\n",
    "all_metrics.append(pipeline_cnn_lstm(\"cnn_b_st\",X_train_join_b[1], y_train_b, X_valid_join_b[1], y_valid_b, X_test_join_b[1], y_test_b))"
   ]
  },
  {
   "cell_type": "code",
   "execution_count": 23,
   "metadata": {},
   "outputs": [],
   "source": [
    "df_metrics = pd.DataFrame(all_metrics, columns=['name', 'accuracy', 'f1_0', 'f1_1', 'f1_w','predictions'])\n",
    "df_metrics.to_csv(\"metrics_cnn.csv\", index= False)"
   ]
  },
  {
   "cell_type": "markdown",
   "metadata": {},
   "source": [
    "### LSTM"
   ]
  },
  {
   "cell_type": "markdown",
   "metadata": {},
   "source": [
    "#### Sem stemming"
   ]
  },
  {
   "cell_type": "code",
   "execution_count": 24,
   "metadata": {},
   "outputs": [
    {
     "name": "stdout",
     "output_type": "stream",
     "text": [
      "Trial 32 Complete [00h 00m 19s]\n",
      "val_accuracy: 0.9058488011360168\n",
      "\n",
      "Best val_accuracy So Far: 0.9087018370628357\n",
      "Total elapsed time: 00h 10m 27s\n",
      "INFO:tensorflow:Oracle triggered exit\n"
     ]
    },
    {
     "name": "stdout",
     "output_type": "stream",
     "text": [
      "Model: \"sequential_1\"\n",
      "_________________________________________________________________\n",
      "Layer (type)                 Output Shape              Param #   \n",
      "=================================================================\n",
      "text_vectorization (TextVect (None, None)              0         \n",
      "_________________________________________________________________\n",
      "embedding_1 (Embedding)      (None, None, 64)          64000     \n",
      "_________________________________________________________________\n",
      "bidirectional_1 (Bidirection (None, 128)               66048     \n",
      "_________________________________________________________________\n",
      "dropout_1 (Dropout)          (None, 128)               0         \n",
      "_________________________________________________________________\n",
      "dense_1 (Dense)              (None, 1)                 129       \n",
      "=================================================================\n",
      "Total params: 130,177\n",
      "Trainable params: 130,177\n",
      "Non-trainable params: 0\n",
      "_________________________________________________________________\n",
      "None\n",
      "Epoch 1/50\n",
      "88/88 [==============================] - ETA: 0s - loss: 0.4062 - accuracy: 0.8825"
     ]
    },
    {
     "name": "stderr",
     "output_type": "stream",
     "text": [
      "C:\\Users\\mcso\\anaconda3\\envs\\tf_gpu\\lib\\site-packages\\keras\\backend.py:4993: UserWarning: \"`binary_crossentropy` received `from_logits=True`, but the `output` argument was produced by a sigmoid or softmax activation and thus does not represent logits. Was this intended?\"\n",
      "  warnings.warn(\n"
     ]
    },
    {
     "name": "stdout",
     "output_type": "stream",
     "text": [
      "88/88 [==============================] - 13s 55ms/step - loss: 0.4062 - accuracy: 0.8825 - val_loss: 0.2929 - val_accuracy: 0.8873\n",
      "Epoch 2/50\n",
      "88/88 [==============================] - 3s 30ms/step - loss: 0.2278 - accuracy: 0.9118 - val_loss: 0.2476 - val_accuracy: 0.9058\n",
      "Epoch 3/50\n",
      "88/88 [==============================] - 3s 29ms/step - loss: 0.1622 - accuracy: 0.9375 - val_loss: 0.2542 - val_accuracy: 0.8944\n",
      "Epoch 4/50\n",
      "88/88 [==============================] - 3s 29ms/step - loss: 0.1302 - accuracy: 0.9532 - val_loss: 0.2811 - val_accuracy: 0.8959\n",
      "Epoch 5/50\n",
      "88/88 [==============================] - 3s 29ms/step - loss: 0.1118 - accuracy: 0.9597 - val_loss: 0.3507 - val_accuracy: 0.8859\n",
      "Epoch 6/50\n",
      "88/88 [==============================] - 3s 29ms/step - loss: 0.0843 - accuracy: 0.9732 - val_loss: 0.4082 - val_accuracy: 0.8873\n",
      "Epoch 7/50\n",
      "88/88 [==============================] - 3s 30ms/step - loss: 0.0663 - accuracy: 0.9775 - val_loss: 0.4018 - val_accuracy: 0.8802\n",
      "47/47 [==============================] - 0s 10ms/step - loss: 0.4394 - accuracy: 0.8694\n",
      "Test Loss: 0.4394463002681732\n",
      "Test Accuracy: 0.8694204092025757\n",
      "              precision    recall  f1-score   support\n",
      "\n",
      "           0       0.41      0.38      0.39       167\n",
      "           1       0.92      0.93      0.93      1334\n",
      "\n",
      "    accuracy                           0.87      1501\n",
      "   macro avg       0.66      0.65      0.66      1501\n",
      "weighted avg       0.87      0.87      0.87      1501\n",
      "\n",
      "[[  63  104]\n",
      " [  92 1242]]\n"
     ]
    },
    {
     "data": {
      "image/png": "[encoded data removed]",
      "text/plain": [
       "<Figure size 1152x576 with 2 Axes>"
      ]
     },
     "metadata": {
      "needs_background": "light"
     },
     "output_type": "display_data"
    }
   ],
   "source": [
    "# Desbalanceado\n",
    "all_metrics.append(pipeline_cnn_lstm(\"lstm\",X_train_join[0], y_train, X_valid_join[0], y_valid, X_test_join[0], y_test))"
   ]
  },
  {
   "cell_type": "code",
   "execution_count": 25,
   "metadata": {},
   "outputs": [
    {
     "name": "stdout",
     "output_type": "stream",
     "text": [
      "Trial 27 Complete [00h 00m 20s]\n",
      "val_accuracy: 0.9087018370628357\n",
      "\n",
      "Best val_accuracy So Far: 0.9115549325942993\n",
      "Total elapsed time: 00h 09m 04s\n",
      "INFO:tensorflow:Oracle triggered exit\n"
     ]
    },
    {
     "name": "stdout",
     "output_type": "stream",
     "text": [
      "Model: \"sequential_1\"\n",
      "_________________________________________________________________\n",
      "Layer (type)                 Output Shape              Param #   \n",
      "=================================================================\n",
      "text_vectorization (TextVect (None, None)              0         \n",
      "_________________________________________________________________\n",
      "embedding_1 (Embedding)      (None, None, 64)          64000     \n",
      "_________________________________________________________________\n",
      "bidirectional_1 (Bidirection (None, 128)               66048     \n",
      "_________________________________________________________________\n",
      "dropout_1 (Dropout)          (None, 128)               0         \n",
      "_________________________________________________________________\n",
      "dense_1 (Dense)              (None, 1)                 129       \n",
      "=================================================================\n",
      "Total params: 130,177\n",
      "Trainable params: 130,177\n",
      "Non-trainable params: 0\n",
      "_________________________________________________________________\n",
      "None\n",
      "Epoch 1/50\n",
      "104/104 [==============================] - ETA: 0s - loss: 0.4682 - accuracy: 0.7898"
     ]
    },
    {
     "name": "stderr",
     "output_type": "stream",
     "text": [
      "C:\\Users\\mcso\\anaconda3\\envs\\tf_gpu\\lib\\site-packages\\keras\\backend.py:4993: UserWarning: \"`binary_crossentropy` received `from_logits=True`, but the `output` argument was produced by a sigmoid or softmax activation and thus does not represent logits. Was this intended?\"\n",
      "  warnings.warn(\n"
     ]
    },
    {
     "name": "stdout",
     "output_type": "stream",
     "text": [
      "104/104 [==============================] - 14s 55ms/step - loss: 0.4682 - accuracy: 0.7898 - val_loss: 0.2535 - val_accuracy: 0.9001\n",
      "Epoch 2/50\n",
      "104/104 [==============================] - 3s 29ms/step - loss: 0.2129 - accuracy: 0.9175 - val_loss: 0.2528 - val_accuracy: 0.8973\n",
      "Epoch 3/50\n",
      "104/104 [==============================] - 3s 29ms/step - loss: 0.1272 - accuracy: 0.9560 - val_loss: 0.3293 - val_accuracy: 0.8930\n",
      "Epoch 4/50\n",
      "104/104 [==============================] - 3s 29ms/step - loss: 0.0873 - accuracy: 0.9705 - val_loss: 0.4002 - val_accuracy: 0.8802\n",
      "Epoch 5/50\n",
      "104/104 [==============================] - 3s 28ms/step - loss: 0.0630 - accuracy: 0.9777 - val_loss: 0.4610 - val_accuracy: 0.8916\n",
      "Epoch 6/50\n",
      "104/104 [==============================] - 3s 29ms/step - loss: 0.0401 - accuracy: 0.9889 - val_loss: 0.4633 - val_accuracy: 0.9044\n",
      "Epoch 7/50\n",
      "104/104 [==============================] - 3s 28ms/step - loss: 0.0215 - accuracy: 0.9949 - val_loss: 0.5863 - val_accuracy: 0.9001\n",
      "47/47 [==============================] - 1s 11ms/step - loss: 0.6736 - accuracy: 0.8867\n",
      "Test Loss: 0.6736061573028564\n",
      "Test Accuracy: 0.8867421746253967\n",
      "              precision    recall  f1-score   support\n",
      "\n",
      "           0       0.52      0.33      0.40       167\n",
      "           1       0.92      0.96      0.94      1334\n",
      "\n",
      "    accuracy                           0.89      1501\n",
      "   macro avg       0.72      0.65      0.67      1501\n",
      "weighted avg       0.88      0.89      0.88      1501\n",
      "\n",
      "[[  55  112]\n",
      " [  51 1283]]\n"
     ]
    },
    {
     "data": {
      "image/png": "[encoded data removed]",
      "text/plain": [
       "<Figure size 1152x576 with 2 Axes>"
      ]
     },
     "metadata": {
      "needs_background": "light"
     },
     "output_type": "display_data"
    }
   ],
   "source": [
    "# Balanceado\n",
    "all_metrics.append(pipeline_cnn_lstm(\"lstm_b\",X_train_join_b[0], y_train_b, X_valid_join_b[0], y_valid_b, X_test_join_b[0], y_test_b))"
   ]
  },
  {
   "cell_type": "markdown",
   "metadata": {},
   "source": [
    "#### Com stemming"
   ]
  },
  {
   "cell_type": "code",
   "execution_count": 26,
   "metadata": {},
   "outputs": [
    {
     "name": "stdout",
     "output_type": "stream",
     "text": [
      "Trial 29 Complete [00h 00m 19s]\n",
      "val_accuracy: 0.8887304067611694\n",
      "\n",
      "Best val_accuracy So Far: 0.9144079685211182\n",
      "Total elapsed time: 00h 09m 29s\n",
      "INFO:tensorflow:Oracle triggered exit\n"
     ]
    },
    {
     "name": "stdout",
     "output_type": "stream",
     "text": [
      "Model: \"sequential_1\"\n",
      "_________________________________________________________________\n",
      "Layer (type)                 Output Shape              Param #   \n",
      "=================================================================\n",
      "text_vectorization (TextVect (None, None)              0         \n",
      "_________________________________________________________________\n",
      "embedding_1 (Embedding)      (None, None, 64)          64000     \n",
      "_________________________________________________________________\n",
      "bidirectional_1 (Bidirection (None, 128)               66048     \n",
      "_________________________________________________________________\n",
      "dropout_1 (Dropout)          (None, 128)               0         \n",
      "_________________________________________________________________\n",
      "dense_1 (Dense)              (None, 1)                 129       \n",
      "=================================================================\n",
      "Total params: 130,177\n",
      "Trainable params: 130,177\n",
      "Non-trainable params: 0\n",
      "_________________________________________________________________\n",
      "None\n",
      "Epoch 1/50\n",
      "86/88 [============================>.] - ETA: 0s - loss: 0.2984 - accuracy: 0.8892"
     ]
    },
    {
     "name": "stderr",
     "output_type": "stream",
     "text": [
      "C:\\Users\\mcso\\anaconda3\\envs\\tf_gpu\\lib\\site-packages\\keras\\backend.py:4993: UserWarning: \"`binary_crossentropy` received `from_logits=True`, but the `output` argument was produced by a sigmoid or softmax activation and thus does not represent logits. Was this intended?\"\n",
      "  warnings.warn(\n"
     ]
    },
    {
     "name": "stdout",
     "output_type": "stream",
     "text": [
      "88/88 [==============================] - 13s 56ms/step - loss: 0.2961 - accuracy: 0.8900 - val_loss: 0.2544 - val_accuracy: 0.9087\n",
      "Epoch 2/50\n",
      "88/88 [==============================] - 3s 30ms/step - loss: 0.1858 - accuracy: 0.9304 - val_loss: 0.2657 - val_accuracy: 0.8973\n",
      "Epoch 3/50\n",
      "88/88 [==============================] - 3s 28ms/step - loss: 0.1353 - accuracy: 0.9472 - val_loss: 0.2970 - val_accuracy: 0.8916\n",
      "Epoch 4/50\n",
      "88/88 [==============================] - 3s 30ms/step - loss: 0.0846 - accuracy: 0.9704 - val_loss: 0.3923 - val_accuracy: 0.8730\n",
      "Epoch 5/50\n",
      "88/88 [==============================] - 3s 30ms/step - loss: 0.0656 - accuracy: 0.9761 - val_loss: 0.3879 - val_accuracy: 0.8859\n",
      "Epoch 6/50\n",
      "88/88 [==============================] - 3s 29ms/step - loss: 0.0374 - accuracy: 0.9893 - val_loss: 0.4748 - val_accuracy: 0.8916\n",
      "47/47 [==============================] - 1s 11ms/step - loss: 0.4827 - accuracy: 0.8934\n",
      "Test Loss: 0.48265182971954346\n",
      "Test Accuracy: 0.8934044241905212\n",
      "              precision    recall  f1-score   support\n",
      "\n",
      "           0       0.50      0.26      0.34       167\n",
      "           1       0.91      0.97      0.94      1334\n",
      "\n",
      "    accuracy                           0.89      1501\n",
      "   macro avg       0.71      0.61      0.64      1501\n",
      "weighted avg       0.87      0.89      0.87      1501\n",
      "\n",
      "[[  43  124]\n",
      " [  43 1291]]\n"
     ]
    },
    {
     "data": {
      "image/png": "[encoded data removed]",
      "text/plain": [
       "<Figure size 1152x576 with 2 Axes>"
      ]
     },
     "metadata": {
      "needs_background": "light"
     },
     "output_type": "display_data"
    }
   ],
   "source": [
    "#Desbalanceado\n",
    "all_metrics.append(pipeline_cnn_lstm(\"lstm_st\",X_train_join[1], y_train, X_valid_join[1], y_valid, X_test_join[1], y_test))"
   ]
  },
  {
   "cell_type": "code",
   "execution_count": 27,
   "metadata": {},
   "outputs": [
    {
     "name": "stdout",
     "output_type": "stream",
     "text": [
      "Trial 29 Complete [00h 00m 19s]\n",
      "val_accuracy: 0.8887304067611694\n",
      "\n",
      "Best val_accuracy So Far: 0.9087018370628357\n",
      "Total elapsed time: 00h 09m 44s\n",
      "INFO:tensorflow:Oracle triggered exit\n",
      "Model: \"sequential_1\"\n",
      "_________________________________________________________________\n",
      "Layer (type)                 Output Shape              Param #   \n",
      "=================================================================\n",
      "text_vectorization (TextVect (None, None)              0         \n",
      "_________________________________________________________________\n",
      "embedding_1 (Embedding)      (None, None, 64)          64000     \n",
      "_________________________________________________________________\n",
      "bidirectional_1 (Bidirection (None, 128)               66048     \n",
      "_________________________________________________________________\n",
      "dropout_1 (Dropout)          (None, 128)               0         \n",
      "_________________________________________________________________\n",
      "dense_1 (Dense)              (None, 1)                 129       \n",
      "=================================================================\n",
      "Total params: 130,177\n",
      "Trainable params: 130,177\n",
      "Non-trainable params: 0\n",
      "_________________________________________________________________\n",
      "None\n",
      "Epoch 1/50\n",
      "102/104 [============================>.] - ETA: 0s - loss: 0.3222 - accuracy: 0.8652"
     ]
    },
    {
     "name": "stderr",
     "output_type": "stream",
     "text": [
      "C:\\Users\\mcso\\anaconda3\\envs\\tf_gpu\\lib\\site-packages\\keras\\backend.py:4993: UserWarning: \"`binary_crossentropy` received `from_logits=True`, but the `output` argument was produced by a sigmoid or softmax activation and thus does not represent logits. Was this intended?\"\n",
      "  warnings.warn(\n"
     ]
    },
    {
     "name": "stdout",
     "output_type": "stream",
     "text": [
      "104/104 [==============================] - 13s 51ms/step - loss: 0.3238 - accuracy: 0.8648 - val_loss: 0.2648 - val_accuracy: 0.8944\n",
      "Epoch 2/50\n",
      "104/104 [==============================] - 3s 30ms/step - loss: 0.1357 - accuracy: 0.9524 - val_loss: 0.3511 - val_accuracy: 0.8802\n",
      "Epoch 3/50\n",
      "104/104 [==============================] - 3s 29ms/step - loss: 0.0762 - accuracy: 0.9729 - val_loss: 0.4598 - val_accuracy: 0.8830\n",
      "Epoch 4/50\n",
      "104/104 [==============================] - 3s 29ms/step - loss: 0.0238 - accuracy: 0.9928 - val_loss: 0.6493 - val_accuracy: 0.8716\n",
      "Epoch 5/50\n",
      "104/104 [==============================] - 3s 28ms/step - loss: 0.0466 - accuracy: 0.9837 - val_loss: 0.6569 - val_accuracy: 0.8759\n",
      "Epoch 6/50\n",
      "104/104 [==============================] - 3s 29ms/step - loss: 0.0193 - accuracy: 0.9934 - val_loss: 0.6971 - val_accuracy: 0.8816\n",
      "47/47 [==============================] - 1s 11ms/step - loss: 0.7340 - accuracy: 0.8774\n",
      "Test Loss: 0.7340295314788818\n",
      "Test Accuracy: 0.8774150609970093\n",
      "              precision    recall  f1-score   support\n",
      "\n",
      "           0       0.42      0.29      0.35       167\n",
      "           1       0.91      0.95      0.93      1334\n",
      "\n",
      "    accuracy                           0.88      1501\n",
      "   macro avg       0.67      0.62      0.64      1501\n",
      "weighted avg       0.86      0.88      0.87      1501\n",
      "\n",
      "[[  49  118]\n",
      " [  68 1266]]\n"
     ]
    },
    {
     "data": {
      "image/png": "[encoded data removed]",
      "text/plain": [
       "<Figure size 1152x576 with 2 Axes>"
      ]
     },
     "metadata": {
      "needs_background": "light"
     },
     "output_type": "display_data"
    }
   ],
   "source": [
    "#Balanceado\n",
    "all_metrics.append(pipeline_cnn_lstm(\"lstm_b_st\",X_train_join_b[1], y_train_b, X_valid_join_b[1], y_valid_b, X_test_join_b[1], y_test_b))"
   ]
  },
  {
   "cell_type": "code",
   "execution_count": 28,
   "metadata": {},
   "outputs": [],
   "source": [
    "df_metrics = pd.DataFrame(all_metrics, columns=['name', 'accuracy', 'f1_0', 'f1_1', 'f1_w','predictions'])\n",
    "df_metrics.to_csv(\"metrics_lstm.csv\", index= False)"
   ]
  },
  {
   "cell_type": "markdown",
   "metadata": {},
   "source": [
    "### BERT"
   ]
  },
  {
   "cell_type": "code",
   "execution_count": 9,
   "metadata": {},
   "outputs": [],
   "source": [
    "from transformers import TFBertForSequenceClassification\n",
    "import tensorflow_addons as tfa\n",
    "test = None\n",
    "\n",
    "def pipeline_bert(name, X_train, y_train, X_valid, y_valid, X_test, y_test):\n",
    "\n",
    "    learning_rate = 2e-5\n",
    "    number_of_epochs = 3\n",
    "    ds_train, ds_valid, ds_test = bert.get_bert_data(X_train, y_train, X_valid, y_valid, X_test, y_test)\n",
    "    \n",
    "    # model initialization\n",
    "    model = TFBertForSequenceClassification.from_pretrained('bert-base-portuguese-cased', from_pt = True)\n",
    "\n",
    "    # choosing Adam optimizer\n",
    "    optimizer = tf.keras.optimizers.Adam(learning_rate=learning_rate, epsilon=1e-08)\n",
    "    loss = tf.keras.losses.SparseCategoricalCrossentropy(from_logits=True)\n",
    "    metric_acc = tf.keras.metrics.SparseCategoricalAccuracy('accuracy')\n",
    "    model.compile(optimizer=optimizer, loss=loss, metrics=[metric_acc])\n",
    "\n",
    "    #Training model\n",
    "    bert_history = model.fit(ds_train, epochs=number_of_epochs, validation_data=ds_valid)\n",
    "    \n",
    "    #Predict test data\n",
    "    result = bert.get_test_metrics(model, ds_test, y_test)\n",
    "\n",
    "    metrics = calc_metrics(y_test, result, name)\n",
    "    return metrics\n",
    "    "
   ]
  },
  {
   "cell_type": "markdown",
   "metadata": {},
   "source": [
    "#### Sem stemming"
   ]
  },
  {
   "cell_type": "code",
   "execution_count": 10,
   "metadata": {},
   "outputs": [
    {
     "name": "stderr",
     "output_type": "stream",
     "text": [
      "Truncation was not explicitly activated but `max_length` is provided a specific value, please use `truncation=True` to explicitly truncate examples to max length. Defaulting to 'longest_first' truncation strategy. If you encode pairs of sequences (GLUE-style) with the tokenizer you can select this strategy more precisely by providing a specific strategy to `truncation`.\n",
      "C:\\Users\\mcso\\anaconda3\\envs\\tf_gpu\\lib\\site-packages\\transformers\\tokenization_utils_base.py:2251: FutureWarning: The `pad_to_max_length` argument is deprecated and will be removed in a future version, use `padding=True` or `padding='longest'` to pad to the longest sequence in the batch, or use `padding='max_length'` to pad to a max length. In this case, you can give a specific length with `max_length` (e.g. `max_length=45`) or leave max_length to None to pad to the maximal input size of the model (e.g. 512 for Bert).\n",
      "  warnings.warn(\n",
      "All PyTorch model weights were used when initializing TFBertForSequenceClassification.\n",
      "\n",
      "Some weights or buffers of the TF 2.0 model TFBertForSequenceClassification were not initialized from the PyTorch model and are newly initialized: ['classifier.weight', 'classifier.bias']\n",
      "You should probably TRAIN this model on a down-stream task to be able to use it for predictions and inference.\n"
     ]
    },
    {
     "name": "stdout",
     "output_type": "stream",
     "text": [
      "Epoch 1/3\n",
      "2801/2801 [==============================] - 799s 279ms/step - loss: 0.2956 - accuracy: 0.8854 - val_loss: 0.2723 - val_accuracy: 0.9158\n",
      "Epoch 2/3\n",
      "2801/2801 [==============================] - 774s 276ms/step - loss: 0.2122 - accuracy: 0.9147 - val_loss: 0.2135 - val_accuracy: 0.9130\n",
      "Epoch 3/3\n",
      "2801/2801 [==============================] - 776s 277ms/step - loss: 0.1600 - accuracy: 0.9429 - val_loss: 0.2927 - val_accuracy: 0.9173\n",
      "              precision    recall  f1-score   support\n",
      "\n",
      "           0       0.61      0.50      0.55       167\n",
      "           1       0.94      0.96      0.95      1334\n",
      "\n",
      "    accuracy                           0.91      1501\n",
      "   macro avg       0.77      0.73      0.75      1501\n",
      "weighted avg       0.90      0.91      0.90      1501\n",
      "\n",
      "[[  83   84]\n",
      " [  53 1281]]\n"
     ]
    }
   ],
   "source": [
    "#Unbalanced data\n",
    "all_metrics.append(pipeline_bert(\"bert\", X_train_join[0], y_train, X_valid_join[0], y_valid, X_test_join[0], y_test))"
   ]
  },
  {
   "cell_type": "code",
   "execution_count": 11,
   "metadata": {},
   "outputs": [],
   "source": [
    "df_metrics = pd.DataFrame(all_metrics, columns=['name', 'accuracy', 'f1_0', 'f1_1', 'f1_w','predictions'])\n",
    "df_metrics.to_csv(\"metrics_bert_1.csv\", index= False)"
   ]
  },
  {
   "cell_type": "code",
   "execution_count": 10,
   "metadata": {},
   "outputs": [
    {
     "name": "stderr",
     "output_type": "stream",
     "text": [
      "Truncation was not explicitly activated but `max_length` is provided a specific value, please use `truncation=True` to explicitly truncate examples to max length. Defaulting to 'longest_first' truncation strategy. If you encode pairs of sequences (GLUE-style) with the tokenizer you can select this strategy more precisely by providing a specific strategy to `truncation`.\n",
      "C:\\Users\\mcso\\anaconda3\\envs\\tf_gpu\\lib\\site-packages\\transformers\\tokenization_utils_base.py:2251: FutureWarning: The `pad_to_max_length` argument is deprecated and will be removed in a future version, use `padding=True` or `padding='longest'` to pad to the longest sequence in the batch, or use `padding='max_length'` to pad to a max length. In this case, you can give a specific length with `max_length` (e.g. `max_length=45`) or leave max_length to None to pad to the maximal input size of the model (e.g. 512 for Bert).\n",
      "  warnings.warn(\n",
      "All PyTorch model weights were used when initializing TFBertForSequenceClassification.\n",
      "\n",
      "Some weights or buffers of the TF 2.0 model TFBertForSequenceClassification were not initialized from the PyTorch model and are newly initialized: ['classifier.weight', 'classifier.bias']\n",
      "You should probably TRAIN this model on a down-stream task to be able to use it for predictions and inference.\n"
     ]
    },
    {
     "name": "stdout",
     "output_type": "stream",
     "text": [
      "Epoch 1/3\n",
      "3320/3320 [==============================] - 935s 276ms/step - loss: 0.0143 - accuracy: 0.9979 - val_loss: 7.4837 - val_accuracy: 0.1113\n",
      "Epoch 2/3\n",
      "3320/3320 [==============================] - 909s 274ms/step - loss: 0.0289 - accuracy: 0.9949 - val_loss: 6.6062 - val_accuracy: 0.1113\n",
      "Epoch 3/3\n",
      "3320/3320 [==============================] - 911s 274ms/step - loss: 0.0342 - accuracy: 0.9943 - val_loss: 6.7312 - val_accuracy: 0.1113\n",
      "              precision    recall  f1-score   support\n",
      "\n",
      "           0       0.11      1.00      0.20       167\n",
      "           1       0.00      0.00      0.00      1334\n",
      "\n",
      "    accuracy                           0.11      1501\n",
      "   macro avg       0.06      0.50      0.10      1501\n",
      "weighted avg       0.01      0.11      0.02      1501\n",
      "\n",
      "[[ 167    0]\n",
      " [1334    0]]\n"
     ]
    },
    {
     "name": "stderr",
     "output_type": "stream",
     "text": [
      "C:\\Users\\mcso\\anaconda3\\envs\\tf_gpu\\lib\\site-packages\\sklearn\\metrics\\_classification.py:1318: UndefinedMetricWarning: Precision and F-score are ill-defined and being set to 0.0 in labels with no predicted samples. Use `zero_division` parameter to control this behavior.\n",
      "  _warn_prf(average, modifier, msg_start, len(result))\n",
      "C:\\Users\\mcso\\anaconda3\\envs\\tf_gpu\\lib\\site-packages\\sklearn\\metrics\\_classification.py:1318: UndefinedMetricWarning: Precision and F-score are ill-defined and being set to 0.0 in labels with no predicted samples. Use `zero_division` parameter to control this behavior.\n",
      "  _warn_prf(average, modifier, msg_start, len(result))\n",
      "C:\\Users\\mcso\\anaconda3\\envs\\tf_gpu\\lib\\site-packages\\sklearn\\metrics\\_classification.py:1318: UndefinedMetricWarning: Precision and F-score are ill-defined and being set to 0.0 in labels with no predicted samples. Use `zero_division` parameter to control this behavior.\n",
      "  _warn_prf(average, modifier, msg_start, len(result))\n"
     ]
    }
   ],
   "source": [
    "#Balanced data\n",
    "all_metrics.append(pipeline_bert(\"bert_b\", X_train_join_b[0], y_train_b, X_valid_join_b[0], y_valid_b, X_test_join_b[0], y_test_b))"
   ]
  },
  {
   "cell_type": "code",
   "execution_count": 11,
   "metadata": {},
   "outputs": [],
   "source": [
    "df_metrics = pd.DataFrame(all_metrics, columns=['name', 'accuracy', 'f1_0', 'f1_1', 'f1_w','predictions'])\n",
    "df_metrics.to_csv(\"metrics_bert_2.csv\", index= False)"
   ]
  },
  {
   "cell_type": "markdown",
   "metadata": {},
   "source": [
    "#### Com stemming"
   ]
  },
  {
   "cell_type": "code",
   "execution_count": 10,
   "metadata": {},
   "outputs": [
    {
     "name": "stderr",
     "output_type": "stream",
     "text": [
      "Truncation was not explicitly activated but `max_length` is provided a specific value, please use `truncation=True` to explicitly truncate examples to max length. Defaulting to 'longest_first' truncation strategy. If you encode pairs of sequences (GLUE-style) with the tokenizer you can select this strategy more precisely by providing a specific strategy to `truncation`.\n",
      "C:\\Users\\mcso\\anaconda3\\envs\\tf_gpu\\lib\\site-packages\\transformers\\tokenization_utils_base.py:2251: FutureWarning: The `pad_to_max_length` argument is deprecated and will be removed in a future version, use `padding=True` or `padding='longest'` to pad to the longest sequence in the batch, or use `padding='max_length'` to pad to a max length. In this case, you can give a specific length with `max_length` (e.g. `max_length=45`) or leave max_length to None to pad to the maximal input size of the model (e.g. 512 for Bert).\n",
      "  warnings.warn(\n",
      "All PyTorch model weights were used when initializing TFBertForSequenceClassification.\n",
      "\n",
      "Some weights or buffers of the TF 2.0 model TFBertForSequenceClassification were not initialized from the PyTorch model and are newly initialized: ['classifier.weight', 'classifier.bias']\n",
      "You should probably TRAIN this model on a down-stream task to be able to use it for predictions and inference.\n"
     ]
    },
    {
     "name": "stdout",
     "output_type": "stream",
     "text": [
      "Epoch 1/3\n",
      "2801/2801 [==============================] - 804s 281ms/step - loss: 0.3572 - accuracy: 0.8890 - val_loss: 0.3606 - val_accuracy: 0.8887\n",
      "Epoch 2/3\n",
      "2801/2801 [==============================] - 784s 280ms/step - loss: 0.3549 - accuracy: 0.8886 - val_loss: 0.3690 - val_accuracy: 0.8887\n",
      "Epoch 3/3\n",
      "2801/2801 [==============================] - 784s 280ms/step - loss: 0.3537 - accuracy: 0.8890 - val_loss: 0.3596 - val_accuracy: 0.8887\n",
      "              precision    recall  f1-score   support\n",
      "\n",
      "           0       0.00      0.00      0.00       167\n",
      "           1       0.89      1.00      0.94      1334\n",
      "\n",
      "    accuracy                           0.89      1501\n",
      "   macro avg       0.44      0.50      0.47      1501\n",
      "weighted avg       0.79      0.89      0.84      1501\n",
      "\n",
      "[[   0  167]\n",
      " [   0 1334]]\n"
     ]
    },
    {
     "name": "stderr",
     "output_type": "stream",
     "text": [
      "C:\\Users\\mcso\\anaconda3\\envs\\tf_gpu\\lib\\site-packages\\sklearn\\metrics\\_classification.py:1318: UndefinedMetricWarning: Precision and F-score are ill-defined and being set to 0.0 in labels with no predicted samples. Use `zero_division` parameter to control this behavior.\n",
      "  _warn_prf(average, modifier, msg_start, len(result))\n",
      "C:\\Users\\mcso\\anaconda3\\envs\\tf_gpu\\lib\\site-packages\\sklearn\\metrics\\_classification.py:1318: UndefinedMetricWarning: Precision and F-score are ill-defined and being set to 0.0 in labels with no predicted samples. Use `zero_division` parameter to control this behavior.\n",
      "  _warn_prf(average, modifier, msg_start, len(result))\n",
      "C:\\Users\\mcso\\anaconda3\\envs\\tf_gpu\\lib\\site-packages\\sklearn\\metrics\\_classification.py:1318: UndefinedMetricWarning: Precision and F-score are ill-defined and being set to 0.0 in labels with no predicted samples. Use `zero_division` parameter to control this behavior.\n",
      "  _warn_prf(average, modifier, msg_start, len(result))\n"
     ]
    }
   ],
   "source": [
    "#Unbalanced data\n",
    "all_metrics.append(pipeline_bert(\"bert_st\",X_train_join[1], y_train, X_valid_join[1], y_valid, X_test_join[1], y_test))"
   ]
  },
  {
   "cell_type": "code",
   "execution_count": 11,
   "metadata": {},
   "outputs": [],
   "source": [
    "df_metrics = pd.DataFrame(all_metrics, columns=['name', 'accuracy', 'f1_0', 'f1_1', 'f1_w','predictions'])\n",
    "df_metrics.to_csv(\"metrics_bert_3.csv\", index= False)"
   ]
  },
  {
   "cell_type": "code",
   "execution_count": 10,
   "metadata": {},
   "outputs": [
    {
     "name": "stderr",
     "output_type": "stream",
     "text": [
      "Truncation was not explicitly activated but `max_length` is provided a specific value, please use `truncation=True` to explicitly truncate examples to max length. Defaulting to 'longest_first' truncation strategy. If you encode pairs of sequences (GLUE-style) with the tokenizer you can select this strategy more precisely by providing a specific strategy to `truncation`.\n",
      "C:\\Users\\mcso\\anaconda3\\envs\\tf_gpu\\lib\\site-packages\\transformers\\tokenization_utils_base.py:2251: FutureWarning: The `pad_to_max_length` argument is deprecated and will be removed in a future version, use `padding=True` or `padding='longest'` to pad to the longest sequence in the batch, or use `padding='max_length'` to pad to a max length. In this case, you can give a specific length with `max_length` (e.g. `max_length=45`) or leave max_length to None to pad to the maximal input size of the model (e.g. 512 for Bert).\n",
      "  warnings.warn(\n",
      "All PyTorch model weights were used when initializing TFBertForSequenceClassification.\n",
      "\n",
      "Some weights or buffers of the TF 2.0 model TFBertForSequenceClassification were not initialized from the PyTorch model and are newly initialized: ['classifier.weight', 'classifier.bias']\n",
      "You should probably TRAIN this model on a down-stream task to be able to use it for predictions and inference.\n"
     ]
    },
    {
     "name": "stdout",
     "output_type": "stream",
     "text": [
      "Epoch 1/3\n",
      "3320/3320 [==============================] - 914s 270ms/step - loss: 0.0126 - accuracy: 0.9985 - val_loss: 7.6614 - val_accuracy: 0.1113\n",
      "Epoch 2/3\n",
      "3320/3320 [==============================] - 885s 267ms/step - loss: 0.0152 - accuracy: 0.9976 - val_loss: 7.3128 - val_accuracy: 0.1113\n",
      "Epoch 3/3\n",
      "3320/3320 [==============================] - 884s 266ms/step - loss: 0.0162 - accuracy: 0.9973 - val_loss: 6.8060 - val_accuracy: 0.1113\n",
      "              precision    recall  f1-score   support\n",
      "\n",
      "           0       0.11      1.00      0.20       167\n",
      "           1       0.00      0.00      0.00      1334\n",
      "\n",
      "    accuracy                           0.11      1501\n",
      "   macro avg       0.06      0.50      0.10      1501\n",
      "weighted avg       0.01      0.11      0.02      1501\n",
      "\n",
      "[[ 167    0]\n",
      " [1334    0]]\n"
     ]
    },
    {
     "name": "stderr",
     "output_type": "stream",
     "text": [
      "C:\\Users\\mcso\\anaconda3\\envs\\tf_gpu\\lib\\site-packages\\sklearn\\metrics\\_classification.py:1318: UndefinedMetricWarning: Precision and F-score are ill-defined and being set to 0.0 in labels with no predicted samples. Use `zero_division` parameter to control this behavior.\n",
      "  _warn_prf(average, modifier, msg_start, len(result))\n",
      "C:\\Users\\mcso\\anaconda3\\envs\\tf_gpu\\lib\\site-packages\\sklearn\\metrics\\_classification.py:1318: UndefinedMetricWarning: Precision and F-score are ill-defined and being set to 0.0 in labels with no predicted samples. Use `zero_division` parameter to control this behavior.\n",
      "  _warn_prf(average, modifier, msg_start, len(result))\n",
      "C:\\Users\\mcso\\anaconda3\\envs\\tf_gpu\\lib\\site-packages\\sklearn\\metrics\\_classification.py:1318: UndefinedMetricWarning: Precision and F-score are ill-defined and being set to 0.0 in labels with no predicted samples. Use `zero_division` parameter to control this behavior.\n",
      "  _warn_prf(average, modifier, msg_start, len(result))\n"
     ]
    }
   ],
   "source": [
    "#Balanced data\n",
    "all_metrics.append(pipeline_bert(\"bert_b_st\", X_train_join_b[1], y_train_b, X_valid_join_b[1], y_valid_b, X_test_join_b[1], y_test_b))"
   ]
  },
  {
   "cell_type": "code",
   "execution_count": 11,
   "metadata": {},
   "outputs": [],
   "source": [
    "df_metrics = pd.DataFrame(all_metrics, columns=['name', 'accuracy', 'f1_0', 'f1_1', 'f1_w','predictions'])\n",
    "df_metrics.to_csv(\"metrics_bert_4.csv\", index= False)"
   ]
  },
  {
   "cell_type": "markdown",
   "metadata": {},
   "source": [
    "#### Salvando resultados das métricas"
   ]
  },
  {
   "cell_type": "code",
   "execution_count": 48,
   "metadata": {},
   "outputs": [],
   "source": [
    "df_metrics = pd.DataFrame(all_metrics, columns=['name', 'accuracy', 'f1_0', 'f1_1', 'f1_w','predictions'])\n",
    "df_metrics.to_csv(\"metrics.csv\", index= False)"
   ]
  },
  {
   "cell_type": "code",
   "execution_count": 49,
   "metadata": {},
   "outputs": [],
   "source": [
    "df = pd.read_csv(\"metrics.csv\")"
   ]
  },
  {
   "cell_type": "code",
   "execution_count": 50,
   "metadata": {},
   "outputs": [
    {
     "data": {
      "text/html": [
       "<div>\n",
       "<style scoped>\n",
       "    .dataframe tbody tr th:only-of-type {\n",
       "        vertical-align: middle;\n",
       "    }\n",
       "\n",
       "    .dataframe tbody tr th {\n",
       "        vertical-align: top;\n",
       "    }\n",
       "\n",
       "    .dataframe thead th {\n",
       "        text-align: right;\n",
       "    }\n",
       "</style>\n",
       "<table border=\"1\" class=\"dataframe\">\n",
       "  <thead>\n",
       "    <tr style=\"text-align: right;\">\n",
       "      <th></th>\n",
       "      <th>name</th>\n",
       "      <th>accuracy</th>\n",
       "      <th>f1_0</th>\n",
       "      <th>f1_1</th>\n",
       "      <th>f1_w</th>\n",
       "      <th>predictions</th>\n",
       "    </tr>\n",
       "  </thead>\n",
       "  <tbody>\n",
       "    <tr>\n",
       "      <th>0</th>\n",
       "      <td>rf</td>\n",
       "      <td>0.87475</td>\n",
       "      <td>0.121495</td>\n",
       "      <td>0.932568</td>\n",
       "      <td>0.842329</td>\n",
       "      <td>[1, 1, 0, 1, 1, 1, 1, 1, 1, 1, 1, 1, 1, 1, 1, ...</td>\n",
       "    </tr>\n",
       "  </tbody>\n",
       "</table>\n",
       "</div>"
      ],
      "text/plain": [
       "  name  accuracy      f1_0      f1_1      f1_w  \\\n",
       "0   rf   0.87475  0.121495  0.932568  0.842329   \n",
       "\n",
       "                                         predictions  \n",
       "0  [1, 1, 0, 1, 1, 1, 1, 1, 1, 1, 1, 1, 1, 1, 1, ...  "
      ]
     },
     "execution_count": 50,
     "metadata": {},
     "output_type": "execute_result"
    }
   ],
   "source": [
    "df.head()"
   ]
  },
  {
   "cell_type": "markdown",
   "metadata": {},
   "source": [
    "## Clustering para encontrar as reviews mais representativas"
   ]
  },
  {
   "cell_type": "code",
   "execution_count": null,
   "metadata": {},
   "outputs": [],
   "source": [
    "df_cluster = df_pp[[\"reviews\", \"reviews_pipeline_0\", \"class\"]]\n",
    "\n",
    "X_join = df_cluster[\"reviews_pipeline_0\"].apply(\" \".join)\n",
    "X_join = X_join.to_numpy()\n",
    "\n",
    "vectorizer = CountVectorizer(analyzer = \"word\",   \n",
    "                             tokenizer = None,    \n",
    "                             preprocessor = None, \n",
    "                             stop_words = None,   \n",
    "                             max_features = 2000) \n",
    "\n",
    "\n",
    "bow_vec = vectorizer.fit_transform(X_join)"
   ]
  },
  {
   "cell_type": "code",
   "execution_count": 19,
   "metadata": {},
   "outputs": [
    {
     "ename": "NameError",
     "evalue": "name 'vectorizer' is not defined",
     "output_type": "error",
     "traceback": [
      "\u001b[1;31m---------------------------------------------------------------------------\u001b[0m",
      "\u001b[1;31mNameError\u001b[0m                                 Traceback (most recent call last)",
      "\u001b[1;32m~\\AppData\\Local\\Temp/ipykernel_9100/2672300398.py\u001b[0m in \u001b[0;36m<module>\u001b[1;34m\u001b[0m\n\u001b[1;32m----> 1\u001b[1;33m \u001b[0mwords\u001b[0m \u001b[1;33m=\u001b[0m \u001b[0mvectorizer\u001b[0m\u001b[1;33m.\u001b[0m\u001b[0mget_feature_names\u001b[0m\u001b[1;33m(\u001b[0m\u001b[1;33m)\u001b[0m\u001b[1;33m\u001b[0m\u001b[1;33m\u001b[0m\u001b[0m\n\u001b[0m\u001b[0;32m      2\u001b[0m \u001b[1;33m\u001b[0m\u001b[0m\n\u001b[0;32m      3\u001b[0m \u001b[0mkmeans\u001b[0m \u001b[1;33m=\u001b[0m \u001b[0mKMeans\u001b[0m\u001b[1;33m(\u001b[0m\u001b[0mn_clusters\u001b[0m \u001b[1;33m=\u001b[0m \u001b[1;36m2\u001b[0m\u001b[1;33m,\u001b[0m \u001b[0mrandom_state\u001b[0m \u001b[1;33m=\u001b[0m \u001b[1;36m420\u001b[0m\u001b[1;33m)\u001b[0m\u001b[1;33m\u001b[0m\u001b[1;33m\u001b[0m\u001b[0m\n\u001b[0;32m      4\u001b[0m \u001b[1;33m\u001b[0m\u001b[0m\n\u001b[0;32m      5\u001b[0m \u001b[0mkmeans\u001b[0m\u001b[1;33m.\u001b[0m\u001b[0mfit\u001b[0m\u001b[1;33m(\u001b[0m\u001b[0mbow_vec\u001b[0m\u001b[1;33m)\u001b[0m\u001b[1;33m\u001b[0m\u001b[1;33m\u001b[0m\u001b[0m\n",
      "\u001b[1;31mNameError\u001b[0m: name 'vectorizer' is not defined"
     ]
    }
   ],
   "source": [
    "words = vectorizer.get_feature_names()\n",
    "\n",
    "kmeans = KMeans(n_clusters = 2, random_state = 420)\n",
    "\n",
    "kmeans.fit(bow_vec)"
   ]
  },
  {
   "cell_type": "code",
   "execution_count": null,
   "metadata": {},
   "outputs": [],
   "source": [
    "kmeans.cluster_centers_"
   ]
  },
  {
   "cell_type": "markdown",
   "metadata": {},
   "source": [
    "#### Achar os n mais proximos"
   ]
  },
  {
   "cell_type": "markdown",
   "metadata": {},
   "source": [
    "- Reviews mais próximas do centróide da classe 0 (Ruim)"
   ]
  },
  {
   "cell_type": "code",
   "execution_count": null,
   "metadata": {},
   "outputs": [],
   "source": [
    "n=2\n",
    "d = kmeans.transform(csr_matrix.toarray(bow_vec))[:, 0] #distancia de cada ponto ao centroide 0\n",
    "ind0 = np.argsort(d)[::][:n]\n",
    "ind0\n",
    "#csr_matrix.toarray(bow_vec)[ind]"
   ]
  },
  {
   "cell_type": "code",
   "execution_count": null,
   "metadata": {},
   "outputs": [],
   "source": [
    "lista_neg = []\n",
    "for i in ind0.tolist():\n",
    "    lista_neg.append(df_pp.iloc[i][\"reviews\"])\n",
    "lista_neg"
   ]
  },
  {
   "cell_type": "markdown",
   "metadata": {},
   "source": [
    "- Reviews mais próximas do centróide da classe 1 (Bom)"
   ]
  },
  {
   "cell_type": "code",
   "execution_count": null,
   "metadata": {},
   "outputs": [],
   "source": [
    "n = 2\n",
    "d = kmeans.transform(csr_matrix.toarray(bow_vec))[:, 1] #distancia de cada ponto ao centroide 1\n",
    "ind1 = np.argsort(d)[::][:n]\n",
    "ind1"
   ]
  },
  {
   "cell_type": "code",
   "execution_count": null,
   "metadata": {},
   "outputs": [],
   "source": [
    "lista_posi = []\n",
    "for i in ind1.tolist():\n",
    "    lista_posi.append(df_pp.iloc[i][\"reviews\"])\n",
    "lista_posi"
   ]
  },
  {
   "cell_type": "markdown",
   "metadata": {},
   "source": [
    "Salvando em um df para incluir no dashboard"
   ]
  },
  {
   "cell_type": "code",
   "execution_count": null,
   "metadata": {},
   "outputs": [],
   "source": [
    "df_rep = pd.DataFrame(data={\"negativo\": lista_neg, \"positivo\": lista_posi})\n",
    "df_rep.to_csv(\"reviews_rep.csv\", index=False)"
   ]
  },
  {
   "cell_type": "markdown",
   "metadata": {},
   "source": [
    "## Função para salvar predições do melhor classificador"
   ]
  },
  {
   "cell_type": "code",
   "execution_count": 44,
   "metadata": {},
   "outputs": [
    {
     "data": {
      "text/html": [
       "<div>\n",
       "<style scoped>\n",
       "    .dataframe tbody tr th:only-of-type {\n",
       "        vertical-align: middle;\n",
       "    }\n",
       "\n",
       "    .dataframe tbody tr th {\n",
       "        vertical-align: top;\n",
       "    }\n",
       "\n",
       "    .dataframe thead th {\n",
       "        text-align: right;\n",
       "    }\n",
       "</style>\n",
       "<table border=\"1\" class=\"dataframe\">\n",
       "  <thead>\n",
       "    <tr style=\"text-align: right;\">\n",
       "      <th></th>\n",
       "      <th>name</th>\n",
       "      <th>accuracy</th>\n",
       "      <th>f1_0</th>\n",
       "      <th>f1_1</th>\n",
       "      <th>f1_w</th>\n",
       "      <th>predictions</th>\n",
       "    </tr>\n",
       "  </thead>\n",
       "  <tbody>\n",
       "    <tr>\n",
       "      <th>0</th>\n",
       "      <td>rf</td>\n",
       "      <td>0.874750</td>\n",
       "      <td>0.121495</td>\n",
       "      <td>0.932568</td>\n",
       "      <td>0.842329</td>\n",
       "      <td>[1, 1, 0, 1, 1, 1, 1, 1, 1, 1, 1, 1, 1, 1, 1, ...</td>\n",
       "    </tr>\n",
       "    <tr>\n",
       "      <th>1</th>\n",
       "      <td>rf</td>\n",
       "      <td>0.850766</td>\n",
       "      <td>0.151515</td>\n",
       "      <td>0.918188</td>\n",
       "      <td>0.832889</td>\n",
       "      <td>[1, 1, 1, 1, 1, 1, 1, 1, 1, 1, 1, 1, 1, 1, 1, ...</td>\n",
       "    </tr>\n",
       "    <tr>\n",
       "      <th>2</th>\n",
       "      <td>rf_b</td>\n",
       "      <td>0.850100</td>\n",
       "      <td>0.144487</td>\n",
       "      <td>0.917853</td>\n",
       "      <td>0.831809</td>\n",
       "      <td>[1, 1, 1, 1, 1, 1, 1, 1, 1, 1, 1, 1, 1, 1, 1, ...</td>\n",
       "    </tr>\n",
       "    <tr>\n",
       "      <th>3</th>\n",
       "      <td>rf_st</td>\n",
       "      <td>0.850766</td>\n",
       "      <td>0.176471</td>\n",
       "      <td>0.917949</td>\n",
       "      <td>0.835452</td>\n",
       "      <td>[1, 1, 1, 1, 1, 1, 1, 1, 1, 1, 1, 0, 0, 1, 1, ...</td>\n",
       "    </tr>\n",
       "    <tr>\n",
       "      <th>4</th>\n",
       "      <td>rf_b_st</td>\n",
       "      <td>0.825450</td>\n",
       "      <td>0.170886</td>\n",
       "      <td>0.902457</td>\n",
       "      <td>0.821063</td>\n",
       "      <td>[1, 1, 1, 1, 1, 1, 1, 1, 1, 1, 1, 1, 1, 1, 1, ...</td>\n",
       "    </tr>\n",
       "  </tbody>\n",
       "</table>\n",
       "</div>"
      ],
      "text/plain": [
       "      name  accuracy      f1_0      f1_1      f1_w  \\\n",
       "0       rf  0.874750  0.121495  0.932568  0.842329   \n",
       "1       rf  0.850766  0.151515  0.918188  0.832889   \n",
       "2     rf_b  0.850100  0.144487  0.917853  0.831809   \n",
       "3    rf_st  0.850766  0.176471  0.917949  0.835452   \n",
       "4  rf_b_st  0.825450  0.170886  0.902457  0.821063   \n",
       "\n",
       "                                         predictions  \n",
       "0  [1, 1, 0, 1, 1, 1, 1, 1, 1, 1, 1, 1, 1, 1, 1, ...  \n",
       "1  [1, 1, 1, 1, 1, 1, 1, 1, 1, 1, 1, 1, 1, 1, 1, ...  \n",
       "2  [1, 1, 1, 1, 1, 1, 1, 1, 1, 1, 1, 1, 1, 1, 1, ...  \n",
       "3  [1, 1, 1, 1, 1, 1, 1, 1, 1, 1, 1, 0, 0, 1, 1, ...  \n",
       "4  [1, 1, 1, 1, 1, 1, 1, 1, 1, 1, 1, 1, 1, 1, 1, ...  "
      ]
     },
     "execution_count": 44,
     "metadata": {},
     "output_type": "execute_result"
    }
   ],
   "source": [
    "metrics_csv = pd.read_csv(\"metrics.csv\")\n",
    "metrics_csv.head()"
   ]
  },
  {
   "cell_type": "code",
   "execution_count": 45,
   "metadata": {},
   "outputs": [],
   "source": [
    "# metrics_csv[metrics_csv[\"name\"]==\"bert_nopp\"][\"predictions\"]\n",
    "metrics_csv[\"predictions\"] = metrics_csv[\"predictions\"].apply(eval)"
   ]
  },
  {
   "cell_type": "code",
   "execution_count": 59,
   "metadata": {},
   "outputs": [
    {
     "data": {
      "text/html": [
       "<div>\n",
       "<style scoped>\n",
       "    .dataframe tbody tr th:only-of-type {\n",
       "        vertical-align: middle;\n",
       "    }\n",
       "\n",
       "    .dataframe tbody tr th {\n",
       "        vertical-align: top;\n",
       "    }\n",
       "\n",
       "    .dataframe thead th {\n",
       "        text-align: right;\n",
       "    }\n",
       "</style>\n",
       "<table border=\"1\" class=\"dataframe\">\n",
       "  <thead>\n",
       "    <tr style=\"text-align: right;\">\n",
       "      <th></th>\n",
       "      <th>name</th>\n",
       "      <th>accuracy</th>\n",
       "      <th>f1_0</th>\n",
       "      <th>f1_1</th>\n",
       "      <th>f1_w</th>\n",
       "      <th>predictions</th>\n",
       "    </tr>\n",
       "  </thead>\n",
       "  <tbody>\n",
       "    <tr>\n",
       "      <th>0</th>\n",
       "      <td>rf</td>\n",
       "      <td>0.874750</td>\n",
       "      <td>0.121495</td>\n",
       "      <td>0.932568</td>\n",
       "      <td>0.842329</td>\n",
       "      <td>[1, 1, 0, 1, 1, 1, 1, 1, 1, 1, 1, 1, 1, 1, 1, ...</td>\n",
       "    </tr>\n",
       "    <tr>\n",
       "      <th>1</th>\n",
       "      <td>rf</td>\n",
       "      <td>0.850766</td>\n",
       "      <td>0.151515</td>\n",
       "      <td>0.918188</td>\n",
       "      <td>0.832889</td>\n",
       "      <td>[1, 1, 1, 1, 1, 1, 1, 1, 1, 1, 1, 1, 1, 1, 1, ...</td>\n",
       "    </tr>\n",
       "    <tr>\n",
       "      <th>2</th>\n",
       "      <td>rf_b</td>\n",
       "      <td>0.850100</td>\n",
       "      <td>0.144487</td>\n",
       "      <td>0.917853</td>\n",
       "      <td>0.831809</td>\n",
       "      <td>[1, 1, 1, 1, 1, 1, 1, 1, 1, 1, 1, 1, 1, 1, 1, ...</td>\n",
       "    </tr>\n",
       "    <tr>\n",
       "      <th>3</th>\n",
       "      <td>rf_st</td>\n",
       "      <td>0.850766</td>\n",
       "      <td>0.176471</td>\n",
       "      <td>0.917949</td>\n",
       "      <td>0.835452</td>\n",
       "      <td>[1, 1, 1, 1, 1, 1, 1, 1, 1, 1, 1, 0, 0, 1, 1, ...</td>\n",
       "    </tr>\n",
       "    <tr>\n",
       "      <th>4</th>\n",
       "      <td>rf_b_st</td>\n",
       "      <td>0.825450</td>\n",
       "      <td>0.170886</td>\n",
       "      <td>0.902457</td>\n",
       "      <td>0.821063</td>\n",
       "      <td>[1, 1, 1, 1, 1, 1, 1, 1, 1, 1, 1, 1, 1, 1, 1, ...</td>\n",
       "    </tr>\n",
       "    <tr>\n",
       "      <th>5</th>\n",
       "      <td>cnn</td>\n",
       "      <td>0.877415</td>\n",
       "      <td>0.435583</td>\n",
       "      <td>0.931241</td>\n",
       "      <td>0.876094</td>\n",
       "      <td>[[1], [1], [1], [0], [0], [1], [1], [1], [1], ...</td>\n",
       "    </tr>\n",
       "    <tr>\n",
       "      <th>6</th>\n",
       "      <td>cnn_b</td>\n",
       "      <td>0.878081</td>\n",
       "      <td>0.400000</td>\n",
       "      <td>0.932147</td>\n",
       "      <td>0.872941</td>\n",
       "      <td>[[1], [1], [1], [1], [1], [1], [1], [1], [1], ...</td>\n",
       "    </tr>\n",
       "    <tr>\n",
       "      <th>7</th>\n",
       "      <td>cnn_st</td>\n",
       "      <td>0.889407</td>\n",
       "      <td>0.423611</td>\n",
       "      <td>0.938836</td>\n",
       "      <td>0.881512</td>\n",
       "      <td>[[1], [1], [1], [1], [1], [1], [1], [1], [1], ...</td>\n",
       "    </tr>\n",
       "    <tr>\n",
       "      <th>8</th>\n",
       "      <td>cnn_b_st</td>\n",
       "      <td>0.892072</td>\n",
       "      <td>0.372093</td>\n",
       "      <td>0.940962</td>\n",
       "      <td>0.877670</td>\n",
       "      <td>[[1], [1], [1], [1], [0], [1], [1], [1], [1], ...</td>\n",
       "    </tr>\n",
       "    <tr>\n",
       "      <th>9</th>\n",
       "      <td>lstm</td>\n",
       "      <td>0.869420</td>\n",
       "      <td>0.391304</td>\n",
       "      <td>0.926866</td>\n",
       "      <td>0.867280</td>\n",
       "      <td>[[1], [1], [1], [1], [1], [1], [1], [1], [1], ...</td>\n",
       "    </tr>\n",
       "    <tr>\n",
       "      <th>10</th>\n",
       "      <td>lstm_b</td>\n",
       "      <td>0.891406</td>\n",
       "      <td>0.402930</td>\n",
       "      <td>0.940271</td>\n",
       "      <td>0.880487</td>\n",
       "      <td>[[1], [1], [1], [1], [1], [1], [1], [1], [1], ...</td>\n",
       "    </tr>\n",
       "    <tr>\n",
       "      <th>11</th>\n",
       "      <td>lstm_st</td>\n",
       "      <td>0.888741</td>\n",
       "      <td>0.339921</td>\n",
       "      <td>0.939251</td>\n",
       "      <td>0.872570</td>\n",
       "      <td>[[1], [1], [1], [1], [1], [1], [1], [1], [1], ...</td>\n",
       "    </tr>\n",
       "    <tr>\n",
       "      <th>12</th>\n",
       "      <td>lstm_b_st</td>\n",
       "      <td>0.876083</td>\n",
       "      <td>0.345070</td>\n",
       "      <td>0.931567</td>\n",
       "      <td>0.866314</td>\n",
       "      <td>[[1], [1], [1], [1], [1], [0], [1], [1], [1], ...</td>\n",
       "    </tr>\n",
       "    <tr>\n",
       "      <th>13</th>\n",
       "      <td>bert_nopp</td>\n",
       "      <td>0.904064</td>\n",
       "      <td>0.560976</td>\n",
       "      <td>0.946148</td>\n",
       "      <td>0.903294</td>\n",
       "      <td>[1, 1, 1, 0, 1, 1, 1, 1, 1, 1, 0, 1, 0, 1, 1, ...</td>\n",
       "    </tr>\n",
       "    <tr>\n",
       "      <th>14</th>\n",
       "      <td>bert</td>\n",
       "      <td>0.908728</td>\n",
       "      <td>0.547855</td>\n",
       "      <td>0.949240</td>\n",
       "      <td>0.904583</td>\n",
       "      <td>[1, 1, 1, 0, 0, 1, 1, 1, 1, 1, 0, 1, 0, 1, 1, ...</td>\n",
       "    </tr>\n",
       "    <tr>\n",
       "      <th>15</th>\n",
       "      <td>bert_b</td>\n",
       "      <td>0.111259</td>\n",
       "      <td>0.200240</td>\n",
       "      <td>0.000000</td>\n",
       "      <td>0.022279</td>\n",
       "      <td>[0, 0, 0, 0, 0, 0, 0, 0, 0, 0, 0, 0, 0, 0, 0, ...</td>\n",
       "    </tr>\n",
       "    <tr>\n",
       "      <th>16</th>\n",
       "      <td>bert_st</td>\n",
       "      <td>0.888741</td>\n",
       "      <td>0.000000</td>\n",
       "      <td>0.941093</td>\n",
       "      <td>0.836388</td>\n",
       "      <td>[1, 1, 1, 1, 1, 1, 1, 1, 1, 1, 1, 1, 1, 1, 1, ...</td>\n",
       "    </tr>\n",
       "    <tr>\n",
       "      <th>17</th>\n",
       "      <td>bert_b_st</td>\n",
       "      <td>0.111259</td>\n",
       "      <td>0.200240</td>\n",
       "      <td>0.000000</td>\n",
       "      <td>0.022279</td>\n",
       "      <td>[0, 0, 0, 0, 0, 0, 0, 0, 0, 0, 0, 0, 0, 0, 0, ...</td>\n",
       "    </tr>\n",
       "  </tbody>\n",
       "</table>\n",
       "</div>"
      ],
      "text/plain": [
       "         name  accuracy      f1_0      f1_1      f1_w  \\\n",
       "0          rf  0.874750  0.121495  0.932568  0.842329   \n",
       "1          rf  0.850766  0.151515  0.918188  0.832889   \n",
       "2        rf_b  0.850100  0.144487  0.917853  0.831809   \n",
       "3       rf_st  0.850766  0.176471  0.917949  0.835452   \n",
       "4     rf_b_st  0.825450  0.170886  0.902457  0.821063   \n",
       "5         cnn  0.877415  0.435583  0.931241  0.876094   \n",
       "6       cnn_b  0.878081  0.400000  0.932147  0.872941   \n",
       "7      cnn_st  0.889407  0.423611  0.938836  0.881512   \n",
       "8    cnn_b_st  0.892072  0.372093  0.940962  0.877670   \n",
       "9        lstm  0.869420  0.391304  0.926866  0.867280   \n",
       "10     lstm_b  0.891406  0.402930  0.940271  0.880487   \n",
       "11    lstm_st  0.888741  0.339921  0.939251  0.872570   \n",
       "12  lstm_b_st  0.876083  0.345070  0.931567  0.866314   \n",
       "13  bert_nopp  0.904064  0.560976  0.946148  0.903294   \n",
       "14       bert  0.908728  0.547855  0.949240  0.904583   \n",
       "15     bert_b  0.111259  0.200240  0.000000  0.022279   \n",
       "16    bert_st  0.888741  0.000000  0.941093  0.836388   \n",
       "17  bert_b_st  0.111259  0.200240  0.000000  0.022279   \n",
       "\n",
       "                                          predictions  \n",
       "0   [1, 1, 0, 1, 1, 1, 1, 1, 1, 1, 1, 1, 1, 1, 1, ...  \n",
       "1   [1, 1, 1, 1, 1, 1, 1, 1, 1, 1, 1, 1, 1, 1, 1, ...  \n",
       "2   [1, 1, 1, 1, 1, 1, 1, 1, 1, 1, 1, 1, 1, 1, 1, ...  \n",
       "3   [1, 1, 1, 1, 1, 1, 1, 1, 1, 1, 1, 0, 0, 1, 1, ...  \n",
       "4   [1, 1, 1, 1, 1, 1, 1, 1, 1, 1, 1, 1, 1, 1, 1, ...  \n",
       "5   [[1], [1], [1], [0], [0], [1], [1], [1], [1], ...  \n",
       "6   [[1], [1], [1], [1], [1], [1], [1], [1], [1], ...  \n",
       "7   [[1], [1], [1], [1], [1], [1], [1], [1], [1], ...  \n",
       "8   [[1], [1], [1], [1], [0], [1], [1], [1], [1], ...  \n",
       "9   [[1], [1], [1], [1], [1], [1], [1], [1], [1], ...  \n",
       "10  [[1], [1], [1], [1], [1], [1], [1], [1], [1], ...  \n",
       "11  [[1], [1], [1], [1], [1], [1], [1], [1], [1], ...  \n",
       "12  [[1], [1], [1], [1], [1], [0], [1], [1], [1], ...  \n",
       "13  [1, 1, 1, 0, 1, 1, 1, 1, 1, 1, 0, 1, 0, 1, 1, ...  \n",
       "14  [1, 1, 1, 0, 0, 1, 1, 1, 1, 1, 0, 1, 0, 1, 1, ...  \n",
       "15  [0, 0, 0, 0, 0, 0, 0, 0, 0, 0, 0, 0, 0, 0, 0, ...  \n",
       "16  [1, 1, 1, 1, 1, 1, 1, 1, 1, 1, 1, 1, 1, 1, 1, ...  \n",
       "17  [0, 0, 0, 0, 0, 0, 0, 0, 0, 0, 0, 0, 0, 0, 0, ...  "
      ]
     },
     "execution_count": 59,
     "metadata": {},
     "output_type": "execute_result"
    }
   ],
   "source": [
    "metrics_csv.head(20)"
   ]
  },
  {
   "cell_type": "code",
   "execution_count": 50,
   "metadata": {},
   "outputs": [],
   "source": [
    "result = metrics_csv[\"predictions\"][13]"
   ]
  },
  {
   "cell_type": "code",
   "execution_count": 40,
   "metadata": {},
   "outputs": [],
   "source": [
    "#metrics_csv[metrics_csv[\"name\"]==\"bert_nopp\"][\"predictions\"].to_numpy()"
   ]
  },
  {
   "cell_type": "code",
   "execution_count": 51,
   "metadata": {},
   "outputs": [],
   "source": [
    "#X_test[\"pred\"] = result\n",
    "#df_pred = pd.merge(X_test[[\"class\", \"pred\"]], df_pp[[\"reviews\", \"stars\", \"dates\"]], left_index=True, right_index=True)\n",
    "#df_pred.to_csv(\"best_pred.csv\", index=False)\n",
    "\n",
    "\n",
    "\n",
    "def save_results(result, X_test, df_pp, dfname=\"best_pred.csv\"):\n",
    "    X_test[\"pred\"] = result\n",
    "    df_pred = pd.merge(X_test[[\"class\", \"pred\"]], df_pp[[\"reviews\", \"stars\", \"dates\"]], left_index=True, right_index=True)\n",
    "    df_pred.to_csv(dfname, index=False)\n",
    "\n",
    "save_results(result, X_test, df_pp)"
   ]
  },
  {
   "cell_type": "code",
   "execution_count": 52,
   "metadata": {},
   "outputs": [
    {
     "data": {
      "text/html": [
       "<div>\n",
       "<style scoped>\n",
       "    .dataframe tbody tr th:only-of-type {\n",
       "        vertical-align: middle;\n",
       "    }\n",
       "\n",
       "    .dataframe tbody tr th {\n",
       "        vertical-align: top;\n",
       "    }\n",
       "\n",
       "    .dataframe thead th {\n",
       "        text-align: right;\n",
       "    }\n",
       "</style>\n",
       "<table border=\"1\" class=\"dataframe\">\n",
       "  <thead>\n",
       "    <tr style=\"text-align: right;\">\n",
       "      <th></th>\n",
       "      <th>class</th>\n",
       "      <th>pred</th>\n",
       "      <th>reviews</th>\n",
       "      <th>stars</th>\n",
       "      <th>dates</th>\n",
       "    </tr>\n",
       "  </thead>\n",
       "  <tbody>\n",
       "    <tr>\n",
       "      <th>0</th>\n",
       "      <td>1</td>\n",
       "      <td>1</td>\n",
       "      <td>Melhor compra que já fiz.Entrega super rápid...</td>\n",
       "      <td>5</td>\n",
       "      <td>2021-12-04</td>\n",
       "    </tr>\n",
       "    <tr>\n",
       "      <th>1</th>\n",
       "      <td>1</td>\n",
       "      <td>1</td>\n",
       "      <td>Produto de primeira qualidade, fácil instala...</td>\n",
       "      <td>5</td>\n",
       "      <td>2021-11-29</td>\n",
       "    </tr>\n",
       "    <tr>\n",
       "      <th>2</th>\n",
       "      <td>1</td>\n",
       "      <td>1</td>\n",
       "      <td>Gostei muito do produto. Tem diversos app qu...</td>\n",
       "      <td>5</td>\n",
       "      <td>2021-06-28</td>\n",
       "    </tr>\n",
       "    <tr>\n",
       "      <th>3</th>\n",
       "      <td>1</td>\n",
       "      <td>0</td>\n",
       "      <td>Não sei o que aconteceu, pode ter caido o co...</td>\n",
       "      <td>5</td>\n",
       "      <td>2021-08-27</td>\n",
       "    </tr>\n",
       "    <tr>\n",
       "      <th>4</th>\n",
       "      <td>1</td>\n",
       "      <td>1</td>\n",
       "      <td>O que mais gostei foi que ligando ele a TV l...</td>\n",
       "      <td>5</td>\n",
       "      <td>2021-12-10</td>\n",
       "    </tr>\n",
       "    <tr>\n",
       "      <th>...</th>\n",
       "      <td>...</td>\n",
       "      <td>...</td>\n",
       "      <td>...</td>\n",
       "      <td>...</td>\n",
       "      <td>...</td>\n",
       "    </tr>\n",
       "    <tr>\n",
       "      <th>1496</th>\n",
       "      <td>1</td>\n",
       "      <td>1</td>\n",
       "      <td>Perfeito, o unico problema e que a minha tv ...</td>\n",
       "      <td>5</td>\n",
       "      <td>2022-01-05</td>\n",
       "    </tr>\n",
       "    <tr>\n",
       "      <th>1497</th>\n",
       "      <td>1</td>\n",
       "      <td>1</td>\n",
       "      <td>Aparelho bem veloz e intuitivo, falta alguns...</td>\n",
       "      <td>5</td>\n",
       "      <td>2021-06-01</td>\n",
       "    </tr>\n",
       "    <tr>\n",
       "      <th>1498</th>\n",
       "      <td>0</td>\n",
       "      <td>0</td>\n",
       "      <td>Não funciona em qualquer televisão, me senti...</td>\n",
       "      <td>2</td>\n",
       "      <td>2021-10-23</td>\n",
       "    </tr>\n",
       "    <tr>\n",
       "      <th>1499</th>\n",
       "      <td>1</td>\n",
       "      <td>1</td>\n",
       "      <td>Ótimo aparelho!Fácil de manusear, instalar. ...</td>\n",
       "      <td>5</td>\n",
       "      <td>2021-12-16</td>\n",
       "    </tr>\n",
       "    <tr>\n",
       "      <th>1500</th>\n",
       "      <td>1</td>\n",
       "      <td>1</td>\n",
       "      <td>Gostei do produto, só não gostei da entrega ...</td>\n",
       "      <td>5</td>\n",
       "      <td>2021-09-30</td>\n",
       "    </tr>\n",
       "  </tbody>\n",
       "</table>\n",
       "<p>1501 rows × 5 columns</p>\n",
       "</div>"
      ],
      "text/plain": [
       "      class  pred                                            reviews  stars  \\\n",
       "0         1     1    Melhor compra que já fiz.Entrega super rápid...      5   \n",
       "1         1     1    Produto de primeira qualidade, fácil instala...      5   \n",
       "2         1     1    Gostei muito do produto. Tem diversos app qu...      5   \n",
       "3         1     0    Não sei o que aconteceu, pode ter caido o co...      5   \n",
       "4         1     1    O que mais gostei foi que ligando ele a TV l...      5   \n",
       "...     ...   ...                                                ...    ...   \n",
       "1496      1     1    Perfeito, o unico problema e que a minha tv ...      5   \n",
       "1497      1     1    Aparelho bem veloz e intuitivo, falta alguns...      5   \n",
       "1498      0     0    Não funciona em qualquer televisão, me senti...      2   \n",
       "1499      1     1    Ótimo aparelho!Fácil de manusear, instalar. ...      5   \n",
       "1500      1     1    Gostei do produto, só não gostei da entrega ...      5   \n",
       "\n",
       "           dates  \n",
       "0     2021-12-04  \n",
       "1     2021-11-29  \n",
       "2     2021-06-28  \n",
       "3     2021-08-27  \n",
       "4     2021-12-10  \n",
       "...          ...  \n",
       "1496  2022-01-05  \n",
       "1497  2021-06-01  \n",
       "1498  2021-10-23  \n",
       "1499  2021-12-16  \n",
       "1500  2021-09-30  \n",
       "\n",
       "[1501 rows x 5 columns]"
      ]
     },
     "execution_count": 52,
     "metadata": {},
     "output_type": "execute_result"
    }
   ],
   "source": [
    "pd.read_csv(\"best_pred.csv\")"
   ]
  },
  {
   "cell_type": "code",
   "execution_count": 58,
   "metadata": {},
   "outputs": [
    {
     "data": {
      "text/html": [
       "<div>\n",
       "<style scoped>\n",
       "    .dataframe tbody tr th:only-of-type {\n",
       "        vertical-align: middle;\n",
       "    }\n",
       "\n",
       "    .dataframe tbody tr th {\n",
       "        vertical-align: top;\n",
       "    }\n",
       "\n",
       "    .dataframe thead th {\n",
       "        text-align: right;\n",
       "    }\n",
       "</style>\n",
       "<table border=\"1\" class=\"dataframe\">\n",
       "  <thead>\n",
       "    <tr style=\"text-align: right;\">\n",
       "      <th></th>\n",
       "      <th>class</th>\n",
       "      <th>pred</th>\n",
       "      <th>reviews</th>\n",
       "      <th>stars</th>\n",
       "      <th>dates</th>\n",
       "    </tr>\n",
       "  </thead>\n",
       "  <tbody>\n",
       "    <tr>\n",
       "      <th>0</th>\n",
       "      <td>1</td>\n",
       "      <td>1</td>\n",
       "      <td>Melhor compra que já fiz.Entrega super rápid...</td>\n",
       "      <td>5</td>\n",
       "      <td>2021-12-04</td>\n",
       "    </tr>\n",
       "    <tr>\n",
       "      <th>1</th>\n",
       "      <td>1</td>\n",
       "      <td>1</td>\n",
       "      <td>Produto de primeira qualidade, fácil instala...</td>\n",
       "      <td>5</td>\n",
       "      <td>2021-11-29</td>\n",
       "    </tr>\n",
       "    <tr>\n",
       "      <th>2</th>\n",
       "      <td>1</td>\n",
       "      <td>1</td>\n",
       "      <td>Gostei muito do produto. Tem diversos app qu...</td>\n",
       "      <td>5</td>\n",
       "      <td>2021-06-28</td>\n",
       "    </tr>\n",
       "    <tr>\n",
       "      <th>3</th>\n",
       "      <td>1</td>\n",
       "      <td>0</td>\n",
       "      <td>Não sei o que aconteceu, pode ter caido o co...</td>\n",
       "      <td>5</td>\n",
       "      <td>2021-08-27</td>\n",
       "    </tr>\n",
       "    <tr>\n",
       "      <th>4</th>\n",
       "      <td>1</td>\n",
       "      <td>1</td>\n",
       "      <td>O que mais gostei foi que ligando ele a TV l...</td>\n",
       "      <td>5</td>\n",
       "      <td>2021-12-10</td>\n",
       "    </tr>\n",
       "    <tr>\n",
       "      <th>...</th>\n",
       "      <td>...</td>\n",
       "      <td>...</td>\n",
       "      <td>...</td>\n",
       "      <td>...</td>\n",
       "      <td>...</td>\n",
       "    </tr>\n",
       "    <tr>\n",
       "      <th>1496</th>\n",
       "      <td>1</td>\n",
       "      <td>1</td>\n",
       "      <td>Perfeito, o unico problema e que a minha tv ...</td>\n",
       "      <td>5</td>\n",
       "      <td>2022-01-05</td>\n",
       "    </tr>\n",
       "    <tr>\n",
       "      <th>1497</th>\n",
       "      <td>1</td>\n",
       "      <td>1</td>\n",
       "      <td>Aparelho bem veloz e intuitivo, falta alguns...</td>\n",
       "      <td>5</td>\n",
       "      <td>2021-06-01</td>\n",
       "    </tr>\n",
       "    <tr>\n",
       "      <th>1498</th>\n",
       "      <td>0</td>\n",
       "      <td>0</td>\n",
       "      <td>Não funciona em qualquer televisão, me senti...</td>\n",
       "      <td>2</td>\n",
       "      <td>2021-10-23</td>\n",
       "    </tr>\n",
       "    <tr>\n",
       "      <th>1499</th>\n",
       "      <td>1</td>\n",
       "      <td>1</td>\n",
       "      <td>Ótimo aparelho!Fácil de manusear, instalar. ...</td>\n",
       "      <td>5</td>\n",
       "      <td>2021-12-16</td>\n",
       "    </tr>\n",
       "    <tr>\n",
       "      <th>1500</th>\n",
       "      <td>1</td>\n",
       "      <td>1</td>\n",
       "      <td>Gostei do produto, só não gostei da entrega ...</td>\n",
       "      <td>5</td>\n",
       "      <td>2021-09-30</td>\n",
       "    </tr>\n",
       "  </tbody>\n",
       "</table>\n",
       "<p>1501 rows × 5 columns</p>\n",
       "</div>"
      ],
      "text/plain": [
       "      class  pred                                            reviews  stars  \\\n",
       "0         1     1    Melhor compra que já fiz.Entrega super rápid...      5   \n",
       "1         1     1    Produto de primeira qualidade, fácil instala...      5   \n",
       "2         1     1    Gostei muito do produto. Tem diversos app qu...      5   \n",
       "3         1     0    Não sei o que aconteceu, pode ter caido o co...      5   \n",
       "4         1     1    O que mais gostei foi que ligando ele a TV l...      5   \n",
       "...     ...   ...                                                ...    ...   \n",
       "1496      1     1    Perfeito, o unico problema e que a minha tv ...      5   \n",
       "1497      1     1    Aparelho bem veloz e intuitivo, falta alguns...      5   \n",
       "1498      0     0    Não funciona em qualquer televisão, me senti...      2   \n",
       "1499      1     1    Ótimo aparelho!Fácil de manusear, instalar. ...      5   \n",
       "1500      1     1    Gostei do produto, só não gostei da entrega ...      5   \n",
       "\n",
       "           dates  \n",
       "0     2021-12-04  \n",
       "1     2021-11-29  \n",
       "2     2021-06-28  \n",
       "3     2021-08-27  \n",
       "4     2021-12-10  \n",
       "...          ...  \n",
       "1496  2022-01-05  \n",
       "1497  2021-06-01  \n",
       "1498  2021-10-23  \n",
       "1499  2021-12-16  \n",
       "1500  2021-09-30  \n",
       "\n",
       "[1501 rows x 5 columns]"
      ]
     },
     "execution_count": 58,
     "metadata": {},
     "output_type": "execute_result"
    }
   ],
   "source": [
    "pd.read_csv(\"best_pred.csv\")"
   ]
  }
 ],
 "metadata": {
  "interpreter": {
   "hash": "8003219c8c57211ee3be347d121ba14ebad7276cdae3d94be72d9e4e17f9edd5"
  },
  "kernelspec": {
   "display_name": "Python 3.9.7 ('base')",
   "language": "python",
   "name": "python3"
  },
  "language_info": {
   "codemirror_mode": {
    "name": "ipython",
    "version": 3
   },
   "file_extension": ".py",
   "mimetype": "text/x-python",
   "name": "python",
   "nbconvert_exporter": "python",
   "pygments_lexer": "ipython3",
   "version": "3.9.7"
  },
  "orig_nbformat": 4
 },
 "nbformat": 4,
 "nbformat_minor": 2
}
