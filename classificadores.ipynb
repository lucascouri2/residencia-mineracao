{
 "cells": [
  {
   "cell_type": "markdown",
   "metadata": {},
   "source": [
    "# Projeto - Mineração de Texto e Web\n",
    "## Residência Engenharia e Ciência de dados - Samsung/UFPE\n",
    "\n",
    "### Lucas Couri - lncc2\n",
    "### Mariama Oliveira - mcso"
   ]
  },
  {
   "cell_type": "markdown",
   "metadata": {},
   "source": [
    "## Carregando Dados"
   ]
  },
  {
   "cell_type": "code",
   "execution_count": 1,
   "metadata": {},
   "outputs": [],
   "source": [
    "#Imports\n",
    "import string\n",
    "import nltk\n",
    "from nltk.corpus import stopwords\n",
    "import pandas as pd\n",
    "from sklearn.model_selection import train_test_split\n",
    "from sklearn.ensemble import RandomForestClassifier\n",
    "from sklearn.metrics import accuracy_score\n",
    "from sklearn.metrics import classification_report\n",
    "from sklearn.metrics import confusion_matrix\n",
    "from sklearn.metrics import accuracy_score, precision_score, f1_score\n",
    "\n",
    "import numpy as np\n",
    "import tensorflow as tf\n",
    "#from keras.datasets import mnist\n",
    "from tensorflow.keras import Sequential\n",
    "from tensorflow.keras.layers import Dense, Dropout, Embedding, LSTM, Conv2D, Input\n",
    "from sklearn.feature_extraction.text import CountVectorizer\n",
    "import matplotlib.pyplot as plt\n",
    "\n",
    "\n",
    "def plot_graphs(history, metric):\n",
    "  plt.plot(history.history[metric])\n",
    "  plt.plot(history.history['val_'+metric], '')\n",
    "  plt.xlabel(\"Epochs\")\n",
    "  plt.ylabel(metric)\n",
    "  plt.legend([metric, 'val_'+metric])\n"
   ]
  },
  {
   "cell_type": "code",
   "execution_count": 2,
   "metadata": {},
   "outputs": [],
   "source": [
    "df = pd.read_csv(\"reviews_v2.csv\")\n",
    "df = df[df[\"reviews\"].notna()]"
   ]
  },
  {
   "cell_type": "code",
   "execution_count": 3,
   "metadata": {},
   "outputs": [
    {
     "data": {
      "text/html": [
       "<div>\n",
       "<style scoped>\n",
       "    .dataframe tbody tr th:only-of-type {\n",
       "        vertical-align: middle;\n",
       "    }\n",
       "\n",
       "    .dataframe tbody tr th {\n",
       "        vertical-align: top;\n",
       "    }\n",
       "\n",
       "    .dataframe thead th {\n",
       "        text-align: right;\n",
       "    }\n",
       "</style>\n",
       "<table border=\"1\" class=\"dataframe\">\n",
       "  <thead>\n",
       "    <tr style=\"text-align: right;\">\n",
       "      <th></th>\n",
       "      <th>reviews</th>\n",
       "      <th>stars</th>\n",
       "      <th>dates</th>\n",
       "    </tr>\n",
       "  </thead>\n",
       "  <tbody>\n",
       "    <tr>\n",
       "      <th>0</th>\n",
       "      <td>Estou aqui para relatar uma experiência que ...</td>\n",
       "      <td>5</td>\n",
       "      <td>2021-06-05</td>\n",
       "    </tr>\n",
       "    <tr>\n",
       "      <th>1</th>\n",
       "      <td>Já havia comprado a versão Lite, o que já ac...</td>\n",
       "      <td>5</td>\n",
       "      <td>2021-05-07</td>\n",
       "    </tr>\n",
       "    <tr>\n",
       "      <th>2</th>\n",
       "      <td>Bom. Bem fluído, interessante e eficaz em cu...</td>\n",
       "      <td>5</td>\n",
       "      <td>2021-05-07</td>\n",
       "    </tr>\n",
       "    <tr>\n",
       "      <th>3</th>\n",
       "      <td>Estou bem chateado, ja possuía o modelo anti...</td>\n",
       "      <td>3</td>\n",
       "      <td>2021-05-09</td>\n",
       "    </tr>\n",
       "    <tr>\n",
       "      <th>4</th>\n",
       "      <td>Aparelho muito bom, está lidando muito bem c...</td>\n",
       "      <td>4</td>\n",
       "      <td>2021-05-06</td>\n",
       "    </tr>\n",
       "  </tbody>\n",
       "</table>\n",
       "</div>"
      ],
      "text/plain": [
       "                                             reviews  stars       dates\n",
       "0    Estou aqui para relatar uma experiência que ...      5  2021-06-05\n",
       "1    Já havia comprado a versão Lite, o que já ac...      5  2021-05-07\n",
       "2    Bom. Bem fluído, interessante e eficaz em cu...      5  2021-05-07\n",
       "3    Estou bem chateado, ja possuía o modelo anti...      3  2021-05-09\n",
       "4    Aparelho muito bom, está lidando muito bem c...      4  2021-05-06"
      ]
     },
     "execution_count": 3,
     "metadata": {},
     "output_type": "execute_result"
    }
   ],
   "source": [
    "df.head()\n"
   ]
  },
  {
   "cell_type": "code",
   "execution_count": 4,
   "metadata": {},
   "outputs": [
    {
     "data": {
      "text/plain": [
       "reviews    object\n",
       "stars       int64\n",
       "dates      object\n",
       "dtype: object"
      ]
     },
     "execution_count": 4,
     "metadata": {},
     "output_type": "execute_result"
    }
   ],
   "source": [
    "df.dtypes"
   ]
  },
  {
   "cell_type": "markdown",
   "metadata": {},
   "source": [
    "## Pré-processamento (com e sem stemming)"
   ]
  },
  {
   "cell_type": "code",
   "execution_count": 3,
   "metadata": {},
   "outputs": [],
   "source": [
    "#Global variables\n",
    "other_punctuation = '—“”'  \n",
    "stop_words = stopwords.words('portuguese')\n",
    "stop_words.append('’')\n",
    "stemmer = nltk.stem.RSLPStemmer()\n",
    "\n",
    "\n",
    "#Function that removes punctuation \n",
    "def remove_punctuation(text):\n",
    "    punctuation_free_doc = \"\".join([i for i in text if i not in string.punctuation+other_punctuation])\n",
    "    return punctuation_free_doc\n",
    "\n",
    "\n",
    "def remove_stopwords(list_words):\n",
    "    filtered_words = [word for word in list_words if word not in stop_words]\n",
    "    return filtered_words\n",
    "\n",
    "\n",
    "def do_stemming(list_words):\n",
    "    stem_text = [stemmer.stem(word) for word in list_words]\n",
    "    return stem_text\n",
    "\n",
    "\n",
    "def pre_process(doc, basic_processing = False, no_stopwords = False, stemming = False):\n",
    "\n",
    "    final_doc = doc\n",
    "    \n",
    "    ## print(final_doc)\n",
    "\n",
    "    if basic_processing == True:\n",
    "        \n",
    "        final_doc = remove_punctuation(doc)\n",
    "        final_doc = final_doc.lower()\n",
    "\n",
    "    final_doc = nltk.word_tokenize(final_doc)\n",
    "\n",
    "    if no_stopwords == True:\n",
    "        final_doc = remove_stopwords(final_doc)    \n",
    "\n",
    "    if stemming == True:\n",
    "        final_doc = do_stemming(final_doc)\n",
    "\n",
    "    return final_doc\n",
    "\n",
    "def pre_process_all(df, pre_processing_list):\n",
    "\n",
    "    for param, index in zip(pre_processing_list, range(len(pre_processing_list))):\n",
    "        \n",
    "        df[f\"reviews_pipeline_{index}\"] = df[\"reviews\"].apply(lambda x: pre_process(x, **param))\n",
    "\n",
    "    return df\n",
    "\n",
    "pre_processing_list = [\n",
    "    {\"basic_processing\": True, \"no_stopwords\": True, \"stemming\": False},\n",
    "    {\"basic_processing\": True, \"no_stopwords\": True, \"stemming\": True}]\n",
    "\n",
    "df_pp = pre_process_all(df, pre_processing_list)"
   ]
  },
  {
   "cell_type": "code",
   "execution_count": 6,
   "metadata": {},
   "outputs": [
    {
     "data": {
      "text/html": [
       "<div>\n",
       "<style scoped>\n",
       "    .dataframe tbody tr th:only-of-type {\n",
       "        vertical-align: middle;\n",
       "    }\n",
       "\n",
       "    .dataframe tbody tr th {\n",
       "        vertical-align: top;\n",
       "    }\n",
       "\n",
       "    .dataframe thead th {\n",
       "        text-align: right;\n",
       "    }\n",
       "</style>\n",
       "<table border=\"1\" class=\"dataframe\">\n",
       "  <thead>\n",
       "    <tr style=\"text-align: right;\">\n",
       "      <th></th>\n",
       "      <th>reviews</th>\n",
       "      <th>stars</th>\n",
       "      <th>dates</th>\n",
       "      <th>reviews_pipeline_0</th>\n",
       "      <th>reviews_pipeline_1</th>\n",
       "    </tr>\n",
       "  </thead>\n",
       "  <tbody>\n",
       "    <tr>\n",
       "      <th>0</th>\n",
       "      <td>Estou aqui para relatar uma experiência que ...</td>\n",
       "      <td>5</td>\n",
       "      <td>2021-06-05</td>\n",
       "      <td>[aqui, relatar, experiência, visando, contribu...</td>\n",
       "      <td>[aqu, relat, experi, vis, contribu, amig, prob...</td>\n",
       "    </tr>\n",
       "    <tr>\n",
       "      <th>1</th>\n",
       "      <td>Já havia comprado a versão Lite, o que já ac...</td>\n",
       "      <td>5</td>\n",
       "      <td>2021-05-07</td>\n",
       "      <td>[havia, comprado, versão, lite, achei, maravil...</td>\n",
       "      <td>[hav, compr, vers, lit, ach, maravilh, porém, ...</td>\n",
       "    </tr>\n",
       "    <tr>\n",
       "      <th>2</th>\n",
       "      <td>Bom. Bem fluído, interessante e eficaz em cu...</td>\n",
       "      <td>5</td>\n",
       "      <td>2021-05-07</td>\n",
       "      <td>[bom, bem, fluído, interessante, eficaz, cumpr...</td>\n",
       "      <td>[bom, bem, flu, interess, eficaz, cumpr, prome...</td>\n",
       "    </tr>\n",
       "    <tr>\n",
       "      <th>3</th>\n",
       "      <td>Estou bem chateado, ja possuía o modelo anti...</td>\n",
       "      <td>3</td>\n",
       "      <td>2021-05-09</td>\n",
       "      <td>[bem, chateado, ja, possuía, modelo, antigo, b...</td>\n",
       "      <td>[bem, chate, ja, possuí, model, antig, bem, co...</td>\n",
       "    </tr>\n",
       "    <tr>\n",
       "      <th>4</th>\n",
       "      <td>Aparelho muito bom, está lidando muito bem c...</td>\n",
       "      <td>4</td>\n",
       "      <td>2021-05-06</td>\n",
       "      <td>[aparelho, bom, lidando, bem, home, tv, apenas...</td>\n",
       "      <td>[aparelh, bom, lid, bem, hom, tv, apen, porém,...</td>\n",
       "    </tr>\n",
       "  </tbody>\n",
       "</table>\n",
       "</div>"
      ],
      "text/plain": [
       "                                             reviews  stars       dates  \\\n",
       "0    Estou aqui para relatar uma experiência que ...      5  2021-06-05   \n",
       "1    Já havia comprado a versão Lite, o que já ac...      5  2021-05-07   \n",
       "2    Bom. Bem fluído, interessante e eficaz em cu...      5  2021-05-07   \n",
       "3    Estou bem chateado, ja possuía o modelo anti...      3  2021-05-09   \n",
       "4    Aparelho muito bom, está lidando muito bem c...      4  2021-05-06   \n",
       "\n",
       "                                  reviews_pipeline_0  \\\n",
       "0  [aqui, relatar, experiência, visando, contribu...   \n",
       "1  [havia, comprado, versão, lite, achei, maravil...   \n",
       "2  [bom, bem, fluído, interessante, eficaz, cumpr...   \n",
       "3  [bem, chateado, ja, possuía, modelo, antigo, b...   \n",
       "4  [aparelho, bom, lidando, bem, home, tv, apenas...   \n",
       "\n",
       "                                  reviews_pipeline_1  \n",
       "0  [aqu, relat, experi, vis, contribu, amig, prob...  \n",
       "1  [hav, compr, vers, lit, ach, maravilh, porém, ...  \n",
       "2  [bom, bem, flu, interess, eficaz, cumpr, prome...  \n",
       "3  [bem, chate, ja, possuí, model, antig, bem, co...  \n",
       "4  [aparelh, bom, lid, bem, hom, tv, apen, porém,...  "
      ]
     },
     "execution_count": 6,
     "metadata": {},
     "output_type": "execute_result"
    }
   ],
   "source": [
    "df_pp.head()"
   ]
  },
  {
   "cell_type": "code",
   "execution_count": 7,
   "metadata": {},
   "outputs": [
    {
     "data": {
      "text/html": [
       "<div>\n",
       "<style scoped>\n",
       "    .dataframe tbody tr th:only-of-type {\n",
       "        vertical-align: middle;\n",
       "    }\n",
       "\n",
       "    .dataframe tbody tr th {\n",
       "        vertical-align: top;\n",
       "    }\n",
       "\n",
       "    .dataframe thead th {\n",
       "        text-align: right;\n",
       "    }\n",
       "</style>\n",
       "<table border=\"1\" class=\"dataframe\">\n",
       "  <thead>\n",
       "    <tr style=\"text-align: right;\">\n",
       "      <th></th>\n",
       "      <th>reviews_pipeline_0</th>\n",
       "      <th>reviews_pipeline_1</th>\n",
       "    </tr>\n",
       "  </thead>\n",
       "  <tbody>\n",
       "    <tr>\n",
       "      <th>0</th>\n",
       "      <td>[aqui, relatar, experiência, visando, contribu...</td>\n",
       "      <td>[aqu, relat, experi, vis, contribu, amig, prob...</td>\n",
       "    </tr>\n",
       "    <tr>\n",
       "      <th>1</th>\n",
       "      <td>[havia, comprado, versão, lite, achei, maravil...</td>\n",
       "      <td>[hav, compr, vers, lit, ach, maravilh, porém, ...</td>\n",
       "    </tr>\n",
       "    <tr>\n",
       "      <th>2</th>\n",
       "      <td>[bom, bem, fluído, interessante, eficaz, cumpr...</td>\n",
       "      <td>[bom, bem, flu, interess, eficaz, cumpr, prome...</td>\n",
       "    </tr>\n",
       "    <tr>\n",
       "      <th>3</th>\n",
       "      <td>[bem, chateado, ja, possuía, modelo, antigo, b...</td>\n",
       "      <td>[bem, chate, ja, possuí, model, antig, bem, co...</td>\n",
       "    </tr>\n",
       "    <tr>\n",
       "      <th>4</th>\n",
       "      <td>[aparelho, bom, lidando, bem, home, tv, apenas...</td>\n",
       "      <td>[aparelh, bom, lid, bem, hom, tv, apen, porém,...</td>\n",
       "    </tr>\n",
       "    <tr>\n",
       "      <th>...</th>\n",
       "      <td>...</td>\n",
       "      <td>...</td>\n",
       "    </tr>\n",
       "    <tr>\n",
       "      <th>5002</th>\n",
       "      <td>[chegou, super, rápido, atendeu, superou, toda...</td>\n",
       "      <td>[cheg, sup, rápid, atend, super, tod, expect]</td>\n",
       "    </tr>\n",
       "    <tr>\n",
       "      <th>5003</th>\n",
       "      <td>[facil, instalação, configuração, entrega, sup...</td>\n",
       "      <td>[facil, instal, configur, entreg, sup, rápid]</td>\n",
       "    </tr>\n",
       "    <tr>\n",
       "      <th>5004</th>\n",
       "      <td>[amei, produto, unico, problema, pra, mim, nao...</td>\n",
       "      <td>[ame, produt, unic, problem, pra, mim, nao, hbo]</td>\n",
       "    </tr>\n",
       "    <tr>\n",
       "      <th>5005</th>\n",
       "      <td>[funciona, beleza, rede, internet, sendo, boa,...</td>\n",
       "      <td>[func, bel, red, internet, send, boa, tud, bem]</td>\n",
       "    </tr>\n",
       "    <tr>\n",
       "      <th>5006</th>\n",
       "      <td>[aparelho, bom, penanao, poder, instalar, hbo,...</td>\n",
       "      <td>[aparelh, bom, penana, pod, instal, hbo, max]</td>\n",
       "    </tr>\n",
       "  </tbody>\n",
       "</table>\n",
       "<p>5003 rows × 2 columns</p>\n",
       "</div>"
      ],
      "text/plain": [
       "                                     reviews_pipeline_0  \\\n",
       "0     [aqui, relatar, experiência, visando, contribu...   \n",
       "1     [havia, comprado, versão, lite, achei, maravil...   \n",
       "2     [bom, bem, fluído, interessante, eficaz, cumpr...   \n",
       "3     [bem, chateado, ja, possuía, modelo, antigo, b...   \n",
       "4     [aparelho, bom, lidando, bem, home, tv, apenas...   \n",
       "...                                                 ...   \n",
       "5002  [chegou, super, rápido, atendeu, superou, toda...   \n",
       "5003  [facil, instalação, configuração, entrega, sup...   \n",
       "5004  [amei, produto, unico, problema, pra, mim, nao...   \n",
       "5005  [funciona, beleza, rede, internet, sendo, boa,...   \n",
       "5006  [aparelho, bom, penanao, poder, instalar, hbo,...   \n",
       "\n",
       "                                     reviews_pipeline_1  \n",
       "0     [aqu, relat, experi, vis, contribu, amig, prob...  \n",
       "1     [hav, compr, vers, lit, ach, maravilh, porém, ...  \n",
       "2     [bom, bem, flu, interess, eficaz, cumpr, prome...  \n",
       "3     [bem, chate, ja, possuí, model, antig, bem, co...  \n",
       "4     [aparelh, bom, lid, bem, hom, tv, apen, porém,...  \n",
       "...                                                 ...  \n",
       "5002      [cheg, sup, rápid, atend, super, tod, expect]  \n",
       "5003      [facil, instal, configur, entreg, sup, rápid]  \n",
       "5004   [ame, produt, unic, problem, pra, mim, nao, hbo]  \n",
       "5005    [func, bel, red, internet, send, boa, tud, bem]  \n",
       "5006      [aparelh, bom, penana, pod, instal, hbo, max]  \n",
       "\n",
       "[5003 rows x 2 columns]"
      ]
     },
     "execution_count": 7,
     "metadata": {},
     "output_type": "execute_result"
    }
   ],
   "source": [
    "df_pp[[\"reviews_pipeline_0\", \"reviews_pipeline_1\"]]"
   ]
  },
  {
   "cell_type": "markdown",
   "metadata": {},
   "source": [
    "## Definindo classe"
   ]
  },
  {
   "cell_type": "code",
   "execution_count": 4,
   "metadata": {},
   "outputs": [],
   "source": [
    "df_pp[\"class\"] = df_pp[\"stars\"].apply(lambda x : 1 if x >=4 else 0)"
   ]
  },
  {
   "cell_type": "markdown",
   "metadata": {},
   "source": [
    "## Divisão train e test"
   ]
  },
  {
   "cell_type": "code",
   "execution_count": 5,
   "metadata": {},
   "outputs": [],
   "source": [
    "X = df_pp[[\"reviews_pipeline_0\", \"reviews_pipeline_1\"]]\n",
    "y = df_pp[\"class\"]\n",
    "X_train_valid, X_test, y_train_valid, y_test = train_test_split(X, y, test_size=0.3, random_state=42, stratify=y)\n",
    "X_train, X_valid, y_train, y_valid = train_test_split(X_train_valid, y_train_valid, test_size = 0.3, random_state = 42, stratify=y_train_valid)\n",
    "\n",
    "y_train = y_train.to_numpy()\n",
    "y_test = y_test.to_numpy()"
   ]
  },
  {
   "cell_type": "code",
   "execution_count": 11,
   "metadata": {},
   "outputs": [
    {
     "data": {
      "text/html": [
       "<div>\n",
       "<style scoped>\n",
       "    .dataframe tbody tr th:only-of-type {\n",
       "        vertical-align: middle;\n",
       "    }\n",
       "\n",
       "    .dataframe tbody tr th {\n",
       "        vertical-align: top;\n",
       "    }\n",
       "\n",
       "    .dataframe thead th {\n",
       "        text-align: right;\n",
       "    }\n",
       "</style>\n",
       "<table border=\"1\" class=\"dataframe\">\n",
       "  <thead>\n",
       "    <tr style=\"text-align: right;\">\n",
       "      <th></th>\n",
       "      <th>reviews_pipeline_0</th>\n",
       "      <th>reviews_pipeline_1</th>\n",
       "    </tr>\n",
       "  </thead>\n",
       "  <tbody>\n",
       "    <tr>\n",
       "      <th>877</th>\n",
       "      <td>[fácil, acesso, mto, bom, porém, comprei, vers...</td>\n",
       "      <td>[fácil, acess, mto, bom, porém, compr, vers, c...</td>\n",
       "    </tr>\n",
       "    <tr>\n",
       "      <th>3525</th>\n",
       "      <td>[prática, tv, inteligente, completa, melhor]</td>\n",
       "      <td>[prát, tv, intelig, complet, melhor]</td>\n",
       "    </tr>\n",
       "    <tr>\n",
       "      <th>3941</th>\n",
       "      <td>[produto, funciona, bem, faltou, controle, par...</td>\n",
       "      <td>[produt, func, bem, falt, control, parametr, t...</td>\n",
       "    </tr>\n",
       "    <tr>\n",
       "      <th>1468</th>\n",
       "      <td>[produto, perfeito, medo, comprar, pq, dissera...</td>\n",
       "      <td>[produt, perfeit, med, compr, pq, diss, q, pou...</td>\n",
       "    </tr>\n",
       "    <tr>\n",
       "      <th>819</th>\n",
       "      <td>[aplicativo, jr, play, funciona, tentar, baixa...</td>\n",
       "      <td>[aplic, jr, play, func, tent, baix, instal, ap...</td>\n",
       "    </tr>\n",
       "  </tbody>\n",
       "</table>\n",
       "</div>"
      ],
      "text/plain": [
       "                                     reviews_pipeline_0  \\\n",
       "877   [fácil, acesso, mto, bom, porém, comprei, vers...   \n",
       "3525       [prática, tv, inteligente, completa, melhor]   \n",
       "3941  [produto, funciona, bem, faltou, controle, par...   \n",
       "1468  [produto, perfeito, medo, comprar, pq, dissera...   \n",
       "819   [aplicativo, jr, play, funciona, tentar, baixa...   \n",
       "\n",
       "                                     reviews_pipeline_1  \n",
       "877   [fácil, acess, mto, bom, porém, compr, vers, c...  \n",
       "3525               [prát, tv, intelig, complet, melhor]  \n",
       "3941  [produt, func, bem, falt, control, parametr, t...  \n",
       "1468  [produt, perfeit, med, compr, pq, diss, q, pou...  \n",
       "819   [aplic, jr, play, func, tent, baix, instal, ap...  "
      ]
     },
     "execution_count": 11,
     "metadata": {},
     "output_type": "execute_result"
    }
   ],
   "source": [
    "X_train.head()"
   ]
  },
  {
   "cell_type": "markdown",
   "metadata": {},
   "source": [
    "Transformando tokens em string"
   ]
  },
  {
   "cell_type": "code",
   "execution_count": 6,
   "metadata": {},
   "outputs": [],
   "source": [
    "X_train_join = []\n",
    "X_train_join.append(X_train[\"reviews_pipeline_0\"].apply(\" \".join))\n",
    "X_train_join.append(X_train[\"reviews_pipeline_1\"].apply(\" \".join))\n",
    "X_train_join[0] = X_train_join[0].to_numpy()\n",
    "X_train_join[1] = X_train_join[1].to_numpy()\n",
    "\n",
    "X_test_join = []\n",
    "X_test_join.append(X_test[\"reviews_pipeline_0\"].apply(\" \".join))\n",
    "X_test_join.append(X_test[\"reviews_pipeline_1\"].apply(\" \".join))\n",
    "X_test_join[0] = X_test_join[0].to_numpy()\n",
    "X_test_join[1] = X_test_join[1].to_numpy()\n",
    "\n",
    "X_valid_join = []\n",
    "X_valid_join.append(X_valid[\"reviews_pipeline_0\"].apply(\" \".join))\n",
    "X_valid_join.append(X_valid[\"reviews_pipeline_1\"].apply(\" \".join))\n",
    "X_valid_join[0] = X_valid_join[0].to_numpy()\n",
    "X_valid_join[1] = X_valid_join[1].to_numpy()\n",
    "\n"
   ]
  },
  {
   "cell_type": "markdown",
   "metadata": {},
   "source": [
    "# Classificadores "
   ]
  },
  {
   "cell_type": "markdown",
   "metadata": {},
   "source": [
    "## Random Forest com BoW"
   ]
  },
  {
   "cell_type": "code",
   "execution_count": 13,
   "metadata": {},
   "outputs": [
    {
     "name": "stdout",
     "output_type": "stream",
     "text": [
      "(2451, 2000)\n"
     ]
    }
   ],
   "source": [
    "vectorizer = CountVectorizer(analyzer = \"word\",   \n",
    "                             tokenizer = None,    \n",
    "                             preprocessor = None, \n",
    "                             stop_words = None,   \n",
    "                             max_features = 2000) \n",
    "\n",
    "#List with BoWs (pipeline 0 and 1)\n",
    "X_train_vec = []\n",
    "X_train_vec.append(vectorizer.fit_transform(X_train_join[0]))\n",
    "X_train_vec.append(vectorizer.fit_transform(X_train_join[1]))\n",
    "\n",
    "X_test_vec = []\n",
    "X_test_vec.append(vectorizer.fit_transform(X_test_join[0]))\n",
    "X_test_vec.append(vectorizer.fit_transform(X_test_join[1]))\n",
    "\n",
    "X_valid_vec = []\n",
    "X_valid_vec.append(vectorizer.fit_transform(X_valid_join[0]))\n",
    "X_valid_vec.append(vectorizer.fit_transform(X_valid_join[1]))\n",
    "\n",
    "\n",
    "print(X_train_vec[0].shape)"
   ]
  },
  {
   "cell_type": "markdown",
   "metadata": {},
   "source": [
    "### Sem stemming"
   ]
  },
  {
   "cell_type": "code",
   "execution_count": null,
   "metadata": {},
   "outputs": [],
   "source": [
    "cv = model_selection.StratifiedKFold(n_splits=10)"
   ]
  },
  {
   "cell_type": "code",
   "execution_count": null,
   "metadata": {},
   "outputs": [],
   "source": [
    "def val_rf(X_train, y_train, parameters, cv, SEED):\n",
    "\n",
    "    rf = RandomForestClassifier(random_state = SEED)\n",
    "\n",
    "    search = GridSearchCV(rf,\n",
    "                          parameters,\n",
    "                          scoring = \"accuracy\",\n",
    "                          n_jobs = -1,\n",
    "                          cv = cv)\n",
    "\n",
    "    result_rf = search.fit(X_train, y_train)\n",
    "    \n",
    "    print('=========Resultados do Grid Search para Random Forest==========')\n",
    "    print(f'Melhor Score: {result_rf.best_score_}')\n",
    "    print(f'Melhores Hiperparâmetros: {result_rf.best_params_}')\n",
    "\n",
    "    return result_rf\n",
    "\n",
    "parameters = dict()\n",
    "parameters['n_estimators'] = range(10, 301, 20)\n",
    "parameters['criterion'] = [\"gini\", \"entropy\"]\n",
    "parameters['max_features'] = [\"auto\", \"sqrt\", \"log2\"]\n",
    "parameters['min_samples_leaf'] = [1, 4]\n",
    "parameters['min_samples_split'] = [2, 10]\n",
    "parameters['max_depth'] = [10, 100, None]#[10, 20, 30, 40, 50, 60, 70, 80, 90, 100, None]\n",
    "\n",
    "result_rf_1 = val_rf(X_train, y_train, parameters, cv, SEED)"
   ]
  },
  {
   "cell_type": "code",
   "execution_count": 14,
   "metadata": {},
   "outputs": [],
   "source": [
    "forest = RandomForestClassifier() \n",
    "forest = forest.fit(X_train_vec[0], y_train)"
   ]
  },
  {
   "cell_type": "code",
   "execution_count": 15,
   "metadata": {},
   "outputs": [
    {
     "name": "stdout",
     "output_type": "stream",
     "text": [
      "              precision    recall  f1-score   support\n",
      "\n",
      "           0       0.20      0.10      0.13       167\n",
      "           1       0.89      0.95      0.92      1334\n",
      "\n",
      "    accuracy                           0.85      1501\n",
      "   macro avg       0.55      0.53      0.53      1501\n",
      "weighted avg       0.82      0.85      0.83      1501\n",
      "\n"
     ]
    }
   ],
   "source": [
    "predictions = forest.predict(X_test_vec[0]) \n",
    "result = forest.predict(X_test_vec[0])\n",
    "print(classification_report(y_test, result))\n"
   ]
  },
  {
   "cell_type": "markdown",
   "metadata": {},
   "source": [
    "Matriz de Confusão"
   ]
  },
  {
   "cell_type": "code",
   "execution_count": 16,
   "metadata": {},
   "outputs": [
    {
     "data": {
      "text/plain": [
       "array([[  17,  150],\n",
       "       [  69, 1265]], dtype=int64)"
      ]
     },
     "execution_count": 16,
     "metadata": {},
     "output_type": "execute_result"
    }
   ],
   "source": [
    "confusion_matrix(y_test, result)"
   ]
  },
  {
   "cell_type": "markdown",
   "metadata": {},
   "source": [
    "### Com Stemming"
   ]
  },
  {
   "cell_type": "code",
   "execution_count": 17,
   "metadata": {},
   "outputs": [],
   "source": [
    "forest = RandomForestClassifier() \n",
    "forest = forest.fit(X_train_vec[1], y_train)"
   ]
  },
  {
   "cell_type": "code",
   "execution_count": 18,
   "metadata": {},
   "outputs": [
    {
     "name": "stdout",
     "output_type": "stream",
     "text": [
      "              precision    recall  f1-score   support\n",
      "\n",
      "           0       0.18      0.14      0.16       167\n",
      "           1       0.90      0.92      0.91      1334\n",
      "\n",
      "    accuracy                           0.84      1501\n",
      "   macro avg       0.54      0.53      0.53      1501\n",
      "weighted avg       0.82      0.84      0.83      1501\n",
      "\n"
     ]
    }
   ],
   "source": [
    "predictions = forest.predict(X_test_vec[1]) \n",
    "result = forest.predict(X_test_vec[1])\n",
    "print(classification_report(y_test, result))\n"
   ]
  },
  {
   "cell_type": "code",
   "execution_count": 19,
   "metadata": {},
   "outputs": [
    {
     "data": {
      "text/plain": [
       "array([[  23,  144],\n",
       "       [ 103, 1231]], dtype=int64)"
      ]
     },
     "execution_count": 19,
     "metadata": {},
     "output_type": "execute_result"
    }
   ],
   "source": [
    "confusion_matrix(y_test, result)"
   ]
  },
  {
   "cell_type": "markdown",
   "metadata": {},
   "source": [
    "## Redes (CNN, LSTM e BERT)"
   ]
  },
  {
   "cell_type": "code",
   "execution_count": 19,
   "metadata": {},
   "outputs": [],
   "source": [
    "# tf.keras.layers.TextVectorization(\n",
    "#     max_tokens=None,\n",
    "#     standardize='lower_and_strip_punctuation',\n",
    "#     split='whitespace',\n",
    "#     ngrams=None,\n",
    "#     output_mode='int',\n",
    "#     output_sequence_length=None,\n",
    "#     pad_to_max_tokens=False,\n",
    "#     vocabulary=None,\n",
    "#     idf_weights=None,\n",
    "#     sparse=False,\n",
    "#     ragged=False,\n",
    "#     **kwargs\n",
    "# )"
   ]
  },
  {
   "cell_type": "code",
   "execution_count": 20,
   "metadata": {},
   "outputs": [
    {
     "data": {
      "text/plain": [
       "array(['chegou antes prazo mostrou excelente produto vale compra',\n",
       "       'melhor produto comprei pra tv igual funciona bem',\n",
       "       'gostei falta globoplay pra mim único defeito momento', ...,\n",
       "       'atendeu todas expectativas ótimo produto fácil instalação controle prático funciona perfeitamente',\n",
       "       'funcionou tv sansung usar tv smart atendeu',\n",
       "       'comprei pra dar upgrade tv ameinão fácil instalar tudo intuitivo rápidoestou amando'],\n",
       "      dtype=object)"
      ]
     },
     "execution_count": 20,
     "metadata": {},
     "output_type": "execute_result"
    }
   ],
   "source": [
    "X_train_join[0]"
   ]
  },
  {
   "cell_type": "markdown",
   "metadata": {},
   "source": [
    "### Encoder (Sem stemming)"
   ]
  },
  {
   "cell_type": "code",
   "execution_count": 7,
   "metadata": {},
   "outputs": [],
   "source": [
    "VOCAB_SIZE = 1000\n",
    "encoder_0 = tf.keras.layers.TextVectorization(max_tokens=VOCAB_SIZE,\n",
    "                                            standardize=None\n",
    "                                            )\n",
    "#encoder.adapt(train_dataset.map(lambda text, label: text))\n",
    "encoder_0.adapt(X_train_join[0])\n"
   ]
  },
  {
   "cell_type": "code",
   "execution_count": 8,
   "metadata": {},
   "outputs": [
    {
     "name": "stdout",
     "output_type": "stream",
     "text": [
      "tf.Tensor(\n",
      "[[  5  96 519 ...   0   0   0]\n",
      " [514   2 523 ...   0   0   0]\n",
      " [  3  16   6 ...   0   0   0]\n",
      " ...\n",
      " [198   1   2 ...   0   0   0]\n",
      " [ 49  28 467 ...   0   0   0]\n",
      " [ 38 274   2 ...   0   0   0]], shape=(2451, 180), dtype=int64)\n"
     ]
    }
   ],
   "source": [
    "vectorized_text = encoder_0(X_train_join[0])\n",
    "print(vectorized_text)"
   ]
  },
  {
   "cell_type": "code",
   "execution_count": 9,
   "metadata": {},
   "outputs": [
    {
     "data": {
      "text/plain": [
       "array(['', '[UNK]', 'tv', 'produto', 'controle', 'fácil', 'bem', 'alexa',\n",
       "       'fire', 'bom', 'instalar', 'stick', 'hbo', 'aparelho', 'amazon',\n",
       "       'smart', 'funciona', 'tudo', 'excelente', 'recomendo'],\n",
       "      dtype='<U17')"
      ]
     },
     "execution_count": 9,
     "metadata": {},
     "output_type": "execute_result"
    }
   ],
   "source": [
    "vocab = np.array(encoder_0.get_vocabulary())\n",
    "vocab[:20]"
   ]
  },
  {
   "cell_type": "markdown",
   "metadata": {},
   "source": [
    "### Encoder (Com stemming)"
   ]
  },
  {
   "cell_type": "code",
   "execution_count": 10,
   "metadata": {},
   "outputs": [],
   "source": [
    "VOCAB_SIZE = 1000\n",
    "encoder_1 = tf.keras.layers.TextVectorization(max_tokens=VOCAB_SIZE,\n",
    "                                            standardize=None\n",
    "                                            )\n",
    "#encoder.adapt(train_dataset.map(lambda text, label: text))\n",
    "encoder_1.adapt(X_train_join[1])\n"
   ]
  },
  {
   "cell_type": "code",
   "execution_count": 11,
   "metadata": {},
   "outputs": [
    {
     "name": "stdout",
     "output_type": "stream",
     "text": [
      "tf.Tensor(\n",
      "[[  6  67 488 ...   0   0   0]\n",
      " [ 84   2 366 ...   0   0   0]\n",
      " [  3  21   7 ...   0   0   0]\n",
      " ...\n",
      " [199 851   2 ...   0   0   0]\n",
      " [ 46  37 383 ...   0   0   0]\n",
      " [  9 185   2 ...   0   0   0]], shape=(2451, 180), dtype=int64)\n"
     ]
    }
   ],
   "source": [
    "vectorized_text = encoder_1(X_train_join[1])\n",
    "print(vectorized_text)"
   ]
  },
  {
   "cell_type": "code",
   "execution_count": 12,
   "metadata": {},
   "outputs": [
    {
     "data": {
      "text/plain": [
       "array(['', '[UNK]', 'tv', 'produt', 'control', 'instal', 'fácil', 'bem',\n",
       "       'alex', 'compr', 'fir', 'bom', 'app', 'stick', 'ótim', 'rápid',\n",
       "       'tod', 'aplic', 'aparelh', 'funcion'], dtype='<U12')"
      ]
     },
     "execution_count": 12,
     "metadata": {},
     "output_type": "execute_result"
    }
   ],
   "source": [
    "vocab = np.array(encoder_1.get_vocabulary())\n",
    "vocab[:20]"
   ]
  },
  {
   "cell_type": "markdown",
   "metadata": {},
   "source": [
    "### CNN"
   ]
  },
  {
   "cell_type": "markdown",
   "metadata": {},
   "source": [
    "#### Sem stemming"
   ]
  },
  {
   "cell_type": "code",
   "execution_count": 13,
   "metadata": {},
   "outputs": [],
   "source": [
    "import keras_tuner as kt\n",
    "##Testando keras tuner\n",
    "\n",
    "def model_builder_0(hp):\n",
    "\n",
    "    hp_units = hp.Int('units', min_value=32, max_value=512, step=32)\n",
    "\n",
    "    model_CNN_0 = tf.keras.Sequential([\n",
    "    encoder_0,\n",
    "    tf.keras.layers.Embedding(\n",
    "        input_dim=len(encoder_0.get_vocabulary()),\n",
    "        output_dim=64,\n",
    "        # Use masking to handle the variable sequence lengths\n",
    "        mask_zero=True),\n",
    "    tf.keras.layers.Conv1D(filters=32, kernel_size=8, activation='relu'),\n",
    "    tf.keras.layers.MaxPool1D(pool_size=2),\n",
    "    #tf.keras.layers.Flatten(),    \n",
    "    tf.keras.layers.Dense(units=hp_units, activation='relu'), #>>>>>Hiperparametro\n",
    "    tf.keras.layers.GlobalMaxPool1D(),\n",
    "    tf.keras.layers.Dense(1, activation='sigmoid')\n",
    "    ])\n",
    "\n",
    "    hp_learning_rate = hp.Choice('learning_rate', values=[1e-2, 1e-3, 1e-4])\n",
    "\n",
    "    model_CNN_0.compile(loss=tf.keras.losses.BinaryCrossentropy(from_logits=True),\n",
    "              optimizer=tf.keras.optimizers.Adam(learning_rate=hp_learning_rate), #>>>>>Hiperparametro\n",
    "              metrics=['accuracy'])\n",
    "\n",
    "    return model_CNN_0"
   ]
  },
  {
   "cell_type": "code",
   "execution_count": 189,
   "metadata": {},
   "outputs": [],
   "source": [
    "# model_CNN_0 = tf.keras.Sequential([\n",
    "#     encoder_0,\n",
    "#     tf.keras.layers.Embedding(\n",
    "#         input_dim=len(encoder_0.get_vocabulary()),\n",
    "#         output_dim=64,\n",
    "#         # Use masking to handle the variable sequence lengths\n",
    "#         mask_zero=True),\n",
    "#     tf.keras.layers.Conv1D(filters=32, kernel_size=8, activation='relu'),\n",
    "#     tf.keras.layers.MaxPool1D(pool_size=2),\n",
    "#     #tf.keras.layers.Flatten(),    \n",
    "#     tf.keras.layers.Dense(32, activation='relu'),\n",
    "#     tf.keras.layers.GlobalMaxPool1D(),\n",
    "#     tf.keras.layers.Dense(1, activation='sigmoid')\n",
    "# ])"
   ]
  },
  {
   "cell_type": "code",
   "execution_count": null,
   "metadata": {},
   "outputs": [],
   "source": [
    "# print(model_CNN_0.summary())"
   ]
  },
  {
   "cell_type": "code",
   "execution_count": 190,
   "metadata": {},
   "outputs": [],
   "source": [
    "# model_CNN_0.compile(loss=tf.keras.losses.BinaryCrossentropy(from_logits=True),\n",
    "#               optimizer=tf.keras.optimizers.Adam(1e-4),\n",
    "#               metrics=['accuracy'])"
   ]
  },
  {
   "cell_type": "code",
   "execution_count": null,
   "metadata": {},
   "outputs": [],
   "source": [
    "# history = model_CNN_0.fit(X_train_join[0], y_train, epochs=30,\n",
    "#                     batch_size = 32,\n",
    "#                     validation_data= (X_valid_join[0], y_valid),\n",
    "#                     validation_steps=30\n",
    "#                     )"
   ]
  },
  {
   "cell_type": "code",
   "execution_count": 14,
   "metadata": {},
   "outputs": [],
   "source": [
    "# Instantiate the tuner\n",
    "tuner = kt.Hyperband(model_builder_0, # the hypermodel\n",
    "                     objective='val_accuracy', # objective to optimize\n",
    "max_epochs=10,\n",
    "factor=3, # factor which you have seen above \n",
    "directory='tuner', # directory to save logs \n",
    "project_name='cnn_0')"
   ]
  },
  {
   "cell_type": "code",
   "execution_count": 15,
   "metadata": {},
   "outputs": [
    {
     "name": "stdout",
     "output_type": "stream",
     "text": [
      "Search space summary\n",
      "Default search space size: 2\n",
      "units (Int)\n",
      "{'default': None, 'conditions': [], 'min_value': 32, 'max_value': 512, 'step': 32, 'sampling': None}\n",
      "learning_rate (Choice)\n",
      "{'default': 0.01, 'conditions': [], 'values': [0.01, 0.001, 0.0001], 'ordered': True}\n"
     ]
    }
   ],
   "source": [
    "# hypertuning settings\n",
    "tuner.search_space_summary() \n"
   ]
  },
  {
   "cell_type": "code",
   "execution_count": 16,
   "metadata": {},
   "outputs": [
    {
     "name": "stdout",
     "output_type": "stream",
     "text": [
      "Trial 30 Complete [00h 00m 11s]\n",
      "val_accuracy: 0.8915318846702576\n",
      "\n",
      "Best val_accuracy So Far: 0.8915318846702576\n",
      "Total elapsed time: 00h 03m 01s\n",
      "INFO:tensorflow:Oracle triggered exit\n"
     ]
    }
   ],
   "source": [
    "stop_early = tf.keras.callbacks.EarlyStopping(monitor='val_loss', patience=5)\n",
    "# Perform hypertuning\n",
    "tuner.search(X_train_join[1], y_train, epochs=10, validation_data = (X_valid_join[0], y_valid), callbacks=[stop_early])\n",
    "best_hp = tuner.get_best_hyperparameters()[0]"
   ]
  },
  {
   "cell_type": "code",
   "execution_count": 17,
   "metadata": {},
   "outputs": [
    {
     "name": "stdout",
     "output_type": "stream",
     "text": [
      "Model: \"sequential_1\"\n",
      "_________________________________________________________________\n",
      "Layer (type)                 Output Shape              Param #   \n",
      "=================================================================\n",
      "text_vectorization (TextVect (None, None)              0         \n",
      "_________________________________________________________________\n",
      "embedding_1 (Embedding)      (None, None, 64)          64000     \n",
      "_________________________________________________________________\n",
      "conv1d_1 (Conv1D)            (None, None, 32)          16416     \n",
      "_________________________________________________________________\n",
      "max_pooling1d_1 (MaxPooling1 (None, None, 32)          0         \n",
      "_________________________________________________________________\n",
      "dense_2 (Dense)              (None, None, 192)         6336      \n",
      "_________________________________________________________________\n",
      "global_max_pooling1d_1 (Glob (None, 192)               0         \n",
      "_________________________________________________________________\n",
      "dense_3 (Dense)              (None, 1)                 193       \n",
      "=================================================================\n",
      "Total params: 86,945\n",
      "Trainable params: 86,945\n",
      "Non-trainable params: 0\n",
      "_________________________________________________________________\n"
     ]
    }
   ],
   "source": [
    "# Build the model with the optimal hyperparameters\n",
    "model_CNN_0 = tuner.hypermodel.build(best_hp)\n",
    "model_CNN_0.summary()"
   ]
  },
  {
   "cell_type": "code",
   "execution_count": 18,
   "metadata": {},
   "outputs": [
    {
     "name": "stdout",
     "output_type": "stream",
     "text": [
      "Epoch 1/10\n",
      "74/77 [===========================>..] - ETA: 0s - loss: 0.4142 - accuracy: 0.8830"
     ]
    },
    {
     "name": "stderr",
     "output_type": "stream",
     "text": [
      "C:\\Users\\mcso\\anaconda3\\envs\\tf_gpu\\lib\\site-packages\\keras\\backend.py:4993: UserWarning: \"`binary_crossentropy` received `from_logits=True`, but the `output` argument was produced by a sigmoid or softmax activation and thus does not represent logits. Was this intended?\"\n",
      "  warnings.warn(\n"
     ]
    },
    {
     "name": "stdout",
     "output_type": "stream",
     "text": [
      "77/77 [==============================] - 2s 16ms/step - loss: 0.4094 - accuracy: 0.8841 - val_loss: 0.3360 - val_accuracy: 0.8887\n",
      "Epoch 2/10\n",
      "77/77 [==============================] - 1s 12ms/step - loss: 0.3028 - accuracy: 0.8890 - val_loss: 0.2918 - val_accuracy: 0.8887\n",
      "Epoch 3/10\n",
      "77/77 [==============================] - 1s 13ms/step - loss: 0.2161 - accuracy: 0.9021 - val_loss: 0.2607 - val_accuracy: 0.9068\n",
      "Epoch 4/10\n",
      "77/77 [==============================] - 1s 13ms/step - loss: 0.1444 - accuracy: 0.9417 - val_loss: 0.2766 - val_accuracy: 0.9010\n",
      "Epoch 5/10\n",
      "77/77 [==============================] - 1s 13ms/step - loss: 0.0857 - accuracy: 0.9702 - val_loss: 0.3203 - val_accuracy: 0.8963\n",
      "Epoch 6/10\n",
      "77/77 [==============================] - 1s 15ms/step - loss: 0.0468 - accuracy: 0.9894 - val_loss: 0.3524 - val_accuracy: 0.8915\n",
      "Epoch 7/10\n",
      "77/77 [==============================] - 1s 13ms/step - loss: 0.0221 - accuracy: 0.9951 - val_loss: 0.4094 - val_accuracy: 0.8877\n",
      "Epoch 8/10\n",
      "77/77 [==============================] - 1s 13ms/step - loss: 0.0114 - accuracy: 0.9971 - val_loss: 0.4639 - val_accuracy: 0.8858\n",
      "Epoch 9/10\n",
      "77/77 [==============================] - 1s 13ms/step - loss: 0.0066 - accuracy: 0.9980 - val_loss: 0.5057 - val_accuracy: 0.8925\n",
      "Epoch 10/10\n",
      "77/77 [==============================] - 1s 14ms/step - loss: 0.0034 - accuracy: 0.9992 - val_loss: 0.6003 - val_accuracy: 0.9020\n"
     ]
    }
   ],
   "source": [
    "history = model_CNN_0.fit(X_train_join[0], y_train, epochs=10, validation_data = (X_valid_join[0], y_valid))"
   ]
  },
  {
   "cell_type": "code",
   "execution_count": 19,
   "metadata": {},
   "outputs": [
    {
     "name": "stdout",
     "output_type": "stream",
     "text": [
      "47/47 [==============================] - 1s 28ms/step - loss: 0.6830 - accuracy: 0.8894\n",
      "Test Loss: 0.6829746961593628\n",
      "Test Accuracy: 0.8894070386886597\n"
     ]
    }
   ],
   "source": [
    "test_loss, test_acc = model_CNN_0.evaluate(X_test_join[0], y_test)\n",
    "\n",
    "print('Test Loss:', test_loss)\n",
    "print('Test Accuracy:', test_acc)"
   ]
  },
  {
   "cell_type": "code",
   "execution_count": 20,
   "metadata": {},
   "outputs": [
    {
     "name": "stdout",
     "output_type": "stream",
     "text": [
      "              precision    recall  f1-score   support\n",
      "\n",
      "           0       0.51      0.29      0.37       167\n",
      "           1       0.92      0.96      0.94      1334\n",
      "\n",
      "    accuracy                           0.89      1501\n",
      "   macro avg       0.71      0.63      0.65      1501\n",
      "weighted avg       0.87      0.89      0.88      1501\n",
      "\n"
     ]
    }
   ],
   "source": [
    "result = model_CNN_0.predict(X_test_join[0])\n",
    "result = np.where(result > 0.5, 1, 0)\n",
    "result\n",
    "\n",
    "print(classification_report(y_test, result))"
   ]
  },
  {
   "cell_type": "code",
   "execution_count": 21,
   "metadata": {},
   "outputs": [
    {
     "data": {
      "text/plain": [
       "array([[  48,  119],\n",
       "       [  47, 1287]], dtype=int64)"
      ]
     },
     "execution_count": 21,
     "metadata": {},
     "output_type": "execute_result"
    }
   ],
   "source": [
    "confusion_matrix(y_test, result)"
   ]
  },
  {
   "cell_type": "code",
   "execution_count": 22,
   "metadata": {},
   "outputs": [
    {
     "data": {
      "text/plain": [
       "(0.0, 0.6301576284458861)"
      ]
     },
     "execution_count": 22,
     "metadata": {},
     "output_type": "execute_result"
    },
    {
     "data": {
      "image/png": "[encoded data removed]",
      "text/plain": [
       "<Figure size 1152x576 with 2 Axes>"
      ]
     },
     "metadata": {
      "needs_background": "light"
     },
     "output_type": "display_data"
    }
   ],
   "source": [
    "plt.figure(figsize=(16, 8))\n",
    "plt.subplot(1, 2, 1)\n",
    "plot_graphs(history, 'accuracy')\n",
    "plt.ylim(None, 1)\n",
    "plt.subplot(1, 2, 2)\n",
    "plot_graphs(history, 'loss')\n",
    "plt.ylim(0, None)"
   ]
  },
  {
   "cell_type": "markdown",
   "metadata": {},
   "source": [
    "#### Com stemming"
   ]
  },
  {
   "cell_type": "code",
   "execution_count": 196,
   "metadata": {},
   "outputs": [],
   "source": [
    "# model_CNN_1 = tf.keras.Sequential([\n",
    "#     encoder_1,\n",
    "#     tf.keras.layers.Embedding(\n",
    "#         input_dim=len(encoder_1.get_vocabulary()),\n",
    "#         output_dim=64,\n",
    "#         # Use masking to handle the variable sequence lengths\n",
    "#         mask_zero=True),\n",
    "#     tf.keras.layers.Conv1D(filters=32, kernel_size=8, activation='relu'),\n",
    "#     tf.keras.layers.MaxPool1D(pool_size=2),\n",
    "#     #tf.keras.layers.Flatten(),    \n",
    "#     tf.keras.layers.Dense(32, activation='relu'),\n",
    "#     tf.keras.layers.GlobalMaxPool1D(),\n",
    "#     tf.keras.layers.Dense(1, activation='sigmoid')\n",
    "# ])"
   ]
  },
  {
   "cell_type": "code",
   "execution_count": 23,
   "metadata": {},
   "outputs": [],
   "source": [
    "import keras_tuner as kt\n",
    "##Testando keras tuner\n",
    "\n",
    "def model_builder_1(hp):\n",
    "\n",
    "    hp_units = hp.Int('units', min_value=32, max_value=512, step=32)\n",
    "\n",
    "    model_CNN_1 = tf.keras.Sequential([\n",
    "    encoder_1,\n",
    "    tf.keras.layers.Embedding(\n",
    "        input_dim=len(encoder_1.get_vocabulary()),\n",
    "        output_dim=64,\n",
    "        # Use masking to handle the variable sequence lengths\n",
    "        mask_zero=True),\n",
    "    tf.keras.layers.Conv1D(filters=32, kernel_size=8, activation='relu'),\n",
    "    tf.keras.layers.MaxPool1D(pool_size=2),\n",
    "    #tf.keras.layers.Flatten(),    \n",
    "    tf.keras.layers.Dense(units=hp_units, activation='relu'), #>>>>>Hiperparametro\n",
    "    tf.keras.layers.GlobalMaxPool1D(),\n",
    "    tf.keras.layers.Dense(1, activation='sigmoid')\n",
    "    ])\n",
    "\n",
    "    hp_learning_rate = hp.Choice('learning_rate', values=[1e-2, 1e-3, 1e-4])\n",
    "\n",
    "    model_CNN_1.compile(loss=tf.keras.losses.BinaryCrossentropy(from_logits=True),\n",
    "              optimizer=tf.keras.optimizers.Adam(learning_rate=hp_learning_rate), #>>>>>Hiperparametro\n",
    "              metrics=['accuracy'])\n",
    "\n",
    "    return model_CNN_1"
   ]
  },
  {
   "cell_type": "code",
   "execution_count": 24,
   "metadata": {},
   "outputs": [],
   "source": [
    "# Instantiate the tuner\n",
    "tuner = kt.Hyperband(model_builder_1, # the hypermodel\n",
    "                     objective='val_accuracy', # objective to optimize\n",
    "max_epochs=10,\n",
    "factor=3, # factor which you have seen above \n",
    "directory='tuner', # directory to save logs \n",
    "project_name='cnn_1')"
   ]
  },
  {
   "cell_type": "code",
   "execution_count": 25,
   "metadata": {},
   "outputs": [
    {
     "name": "stdout",
     "output_type": "stream",
     "text": [
      "Search space summary\n",
      "Default search space size: 2\n",
      "units (Int)\n",
      "{'default': None, 'conditions': [], 'min_value': 32, 'max_value': 512, 'step': 32, 'sampling': None}\n",
      "learning_rate (Choice)\n",
      "{'default': 0.01, 'conditions': [], 'values': [0.01, 0.001, 0.0001], 'ordered': True}\n"
     ]
    }
   ],
   "source": [
    "# hypertuning settings\n",
    "tuner.search_space_summary() \n"
   ]
  },
  {
   "cell_type": "code",
   "execution_count": 26,
   "metadata": {},
   "outputs": [
    {
     "name": "stdout",
     "output_type": "stream",
     "text": [
      "Trial 30 Complete [00h 00m 10s]\n",
      "val_accuracy: 0.9105613827705383\n",
      "\n",
      "Best val_accuracy So Far: 0.9105613827705383\n",
      "Total elapsed time: 00h 02m 44s\n",
      "INFO:tensorflow:Oracle triggered exit\n"
     ]
    }
   ],
   "source": [
    "stop_early = tf.keras.callbacks.EarlyStopping(monitor='val_loss', patience=5)\n",
    "# Perform hypertuning\n",
    "tuner.search(X_train_join[1], y_train, epochs=10, validation_data = (X_valid_join[1], y_valid), callbacks=[stop_early])"
   ]
  },
  {
   "cell_type": "code",
   "execution_count": 33,
   "metadata": {},
   "outputs": [],
   "source": [
    "best_hp = tuner.get_best_hyperparameters()[0]"
   ]
  },
  {
   "cell_type": "code",
   "execution_count": 35,
   "metadata": {},
   "outputs": [
    {
     "name": "stdout",
     "output_type": "stream",
     "text": [
      "Model: \"sequential_1\"\n",
      "_________________________________________________________________\n",
      "Layer (type)                 Output Shape              Param #   \n",
      "=================================================================\n",
      "text_vectorization_1 (TextVe (None, None)              0         \n",
      "_________________________________________________________________\n",
      "embedding_1 (Embedding)      (None, None, 64)          64000     \n",
      "_________________________________________________________________\n",
      "conv1d_1 (Conv1D)            (None, None, 32)          16416     \n",
      "_________________________________________________________________\n",
      "max_pooling1d_1 (MaxPooling1 (None, None, 32)          0         \n",
      "_________________________________________________________________\n",
      "dense_2 (Dense)              (None, None, 128)         4224      \n",
      "_________________________________________________________________\n",
      "global_max_pooling1d_1 (Glob (None, 128)               0         \n",
      "_________________________________________________________________\n",
      "dense_3 (Dense)              (None, 1)                 129       \n",
      "=================================================================\n",
      "Total params: 84,769\n",
      "Trainable params: 84,769\n",
      "Non-trainable params: 0\n",
      "_________________________________________________________________\n"
     ]
    }
   ],
   "source": [
    "# Build the model with the optimal hyperparameters\n",
    "model_CNN_1 = tuner.hypermodel.build(best_hp)\n",
    "model_CNN_1.summary()\n"
   ]
  },
  {
   "cell_type": "code",
   "execution_count": 38,
   "metadata": {},
   "outputs": [
    {
     "name": "stdout",
     "output_type": "stream",
     "text": [
      "Epoch 1/10\n"
     ]
    },
    {
     "name": "stderr",
     "output_type": "stream",
     "text": [
      "C:\\Users\\mcso\\anaconda3\\envs\\tf_gpu\\lib\\site-packages\\keras\\backend.py:4993: UserWarning: \"`binary_crossentropy` received `from_logits=True`, but the `output` argument was produced by a sigmoid or softmax activation and thus does not represent logits. Was this intended?\"\n",
      "  warnings.warn(\n"
     ]
    },
    {
     "name": "stdout",
     "output_type": "stream",
     "text": [
      "77/77 [==============================] - ETA: 0s - loss: 0.3299 - accuracy: 0.8809"
     ]
    },
    {
     "name": "stderr",
     "output_type": "stream",
     "text": [
      "C:\\Users\\mcso\\anaconda3\\envs\\tf_gpu\\lib\\site-packages\\keras\\backend.py:4993: UserWarning: \"`binary_crossentropy` received `from_logits=True`, but the `output` argument was produced by a sigmoid or softmax activation and thus does not represent logits. Was this intended?\"\n",
      "  warnings.warn(\n"
     ]
    },
    {
     "name": "stdout",
     "output_type": "stream",
     "text": [
      "77/77 [==============================] - 2s 17ms/step - loss: 0.3299 - accuracy: 0.8809 - val_loss: 0.2553 - val_accuracy: 0.9029\n",
      "Epoch 2/10\n",
      "77/77 [==============================] - 1s 11ms/step - loss: 0.1948 - accuracy: 0.9213 - val_loss: 0.3198 - val_accuracy: 0.8991\n",
      "Epoch 3/10\n",
      "77/77 [==============================] - 1s 14ms/step - loss: 0.0932 - accuracy: 0.9661 - val_loss: 0.3441 - val_accuracy: 0.8792\n",
      "Epoch 4/10\n",
      "77/77 [==============================] - 1s 12ms/step - loss: 0.0496 - accuracy: 0.9841 - val_loss: 0.3971 - val_accuracy: 0.8763\n",
      "Epoch 5/10\n",
      "77/77 [==============================] - 1s 13ms/step - loss: 0.0520 - accuracy: 0.9825 - val_loss: 0.5674 - val_accuracy: 0.9049\n",
      "Epoch 6/10\n",
      "77/77 [==============================] - 1s 12ms/step - loss: 0.0398 - accuracy: 0.9894 - val_loss: 0.6047 - val_accuracy: 0.8972\n",
      "Epoch 7/10\n",
      "77/77 [==============================] - 1s 10ms/step - loss: 0.0244 - accuracy: 0.9927 - val_loss: 0.6603 - val_accuracy: 0.9068\n",
      "Epoch 8/10\n",
      "77/77 [==============================] - 1s 12ms/step - loss: 0.0238 - accuracy: 0.9914 - val_loss: 0.7115 - val_accuracy: 0.8820\n",
      "Epoch 9/10\n",
      "77/77 [==============================] - 1s 10ms/step - loss: 0.0092 - accuracy: 0.9971 - val_loss: 0.9822 - val_accuracy: 0.8963\n",
      "Epoch 10/10\n",
      "77/77 [==============================] - 1s 10ms/step - loss: 0.0044 - accuracy: 0.9980 - val_loss: 0.8659 - val_accuracy: 0.9010\n"
     ]
    },
    {
     "data": {
      "text/plain": [
       "<keras.callbacks.History at 0x137dfb6d3a0>"
      ]
     },
     "execution_count": 38,
     "metadata": {},
     "output_type": "execute_result"
    }
   ],
   "source": [
    "history = model_CNN_1.fit(X_train_join[1], y_train, epochs=10, validation_data = (X_valid_join[1], y_valid))"
   ]
  },
  {
   "cell_type": "code",
   "execution_count": null,
   "metadata": {},
   "outputs": [],
   "source": [
    "# print(model_CNN_1.summary())"
   ]
  },
  {
   "cell_type": "code",
   "execution_count": 198,
   "metadata": {},
   "outputs": [],
   "source": [
    "# model_CNN_1.compile(loss=tf.keras.losses.BinaryCrossentropy(from_logits=True),\n",
    "#               optimizer=tf.keras.optimizers.Adam(1e-4),\n",
    "#               metrics=['accuracy'])"
   ]
  },
  {
   "cell_type": "code",
   "execution_count": null,
   "metadata": {},
   "outputs": [],
   "source": [
    "# history = model_CNN_1.fit(X_train_join[1], y_train, epochs=20,\n",
    "#                     batch_size = 32,\n",
    "#                     validation_data= (X_valid_join[1], y_valid),\n",
    "#                     validation_steps=3\n",
    "#                     )"
   ]
  },
  {
   "cell_type": "code",
   "execution_count": 39,
   "metadata": {},
   "outputs": [
    {
     "name": "stdout",
     "output_type": "stream",
     "text": [
      "47/47 [==============================] - 1s 29ms/step - loss: 0.9656 - accuracy: 0.8728\n",
      "Test Loss: 0.9656330347061157\n",
      "Test Accuracy: 0.8727514743804932\n"
     ]
    }
   ],
   "source": [
    "#test_loss, test_acc = model_CNN_1.evaluate(X_test_join[1], y_test)\n",
    "test_loss, test_acc = model_CNN_1.evaluate(X_test_join[1], y_test)\n",
    "\n",
    "print('Test Loss:', test_loss)\n",
    "print('Test Accuracy:', test_acc)"
   ]
  },
  {
   "cell_type": "code",
   "execution_count": 40,
   "metadata": {},
   "outputs": [
    {
     "name": "stdout",
     "output_type": "stream",
     "text": [
      "              precision    recall  f1-score   support\n",
      "\n",
      "           0       0.40      0.29      0.33       167\n",
      "           1       0.91      0.95      0.93      1334\n",
      "\n",
      "    accuracy                           0.87      1501\n",
      "   macro avg       0.66      0.62      0.63      1501\n",
      "weighted avg       0.86      0.87      0.86      1501\n",
      "\n"
     ]
    }
   ],
   "source": [
    "result = h_model.predict(X_test_join[1])\n",
    "result = np.where(result > 0.5, 1, 0)\n",
    "result\n",
    "\n",
    "print(classification_report(y_test, result))\n"
   ]
  },
  {
   "cell_type": "code",
   "execution_count": 41,
   "metadata": {},
   "outputs": [
    {
     "data": {
      "text/plain": [
       "array([[  48,  119],\n",
       "       [  72, 1262]], dtype=int64)"
      ]
     },
     "execution_count": 41,
     "metadata": {},
     "output_type": "execute_result"
    }
   ],
   "source": [
    "confusion_matrix(y_test, result)"
   ]
  },
  {
   "cell_type": "code",
   "execution_count": 42,
   "metadata": {},
   "outputs": [
    {
     "ename": "NameError",
     "evalue": "name 'history' is not defined",
     "output_type": "error",
     "traceback": [
      "\u001b[1;31m---------------------------------------------------------------------------\u001b[0m",
      "\u001b[1;31mNameError\u001b[0m                                 Traceback (most recent call last)",
      "\u001b[1;32m~\\AppData\\Local\\Temp/ipykernel_14936/3227988162.py\u001b[0m in \u001b[0;36m<module>\u001b[1;34m\u001b[0m\n\u001b[0;32m      1\u001b[0m \u001b[0mplt\u001b[0m\u001b[1;33m.\u001b[0m\u001b[0mfigure\u001b[0m\u001b[1;33m(\u001b[0m\u001b[0mfigsize\u001b[0m\u001b[1;33m=\u001b[0m\u001b[1;33m(\u001b[0m\u001b[1;36m16\u001b[0m\u001b[1;33m,\u001b[0m \u001b[1;36m8\u001b[0m\u001b[1;33m)\u001b[0m\u001b[1;33m)\u001b[0m\u001b[1;33m\u001b[0m\u001b[1;33m\u001b[0m\u001b[0m\n\u001b[0;32m      2\u001b[0m \u001b[0mplt\u001b[0m\u001b[1;33m.\u001b[0m\u001b[0msubplot\u001b[0m\u001b[1;33m(\u001b[0m\u001b[1;36m1\u001b[0m\u001b[1;33m,\u001b[0m \u001b[1;36m2\u001b[0m\u001b[1;33m,\u001b[0m \u001b[1;36m1\u001b[0m\u001b[1;33m)\u001b[0m\u001b[1;33m\u001b[0m\u001b[1;33m\u001b[0m\u001b[0m\n\u001b[1;32m----> 3\u001b[1;33m \u001b[0mplot_graphs\u001b[0m\u001b[1;33m(\u001b[0m\u001b[0mhistory\u001b[0m\u001b[1;33m,\u001b[0m \u001b[1;34m'accuracy'\u001b[0m\u001b[1;33m)\u001b[0m\u001b[1;33m\u001b[0m\u001b[1;33m\u001b[0m\u001b[0m\n\u001b[0m\u001b[0;32m      4\u001b[0m \u001b[0mplt\u001b[0m\u001b[1;33m.\u001b[0m\u001b[0mylim\u001b[0m\u001b[1;33m(\u001b[0m\u001b[1;32mNone\u001b[0m\u001b[1;33m,\u001b[0m \u001b[1;36m1\u001b[0m\u001b[1;33m)\u001b[0m\u001b[1;33m\u001b[0m\u001b[1;33m\u001b[0m\u001b[0m\n\u001b[0;32m      5\u001b[0m \u001b[0mplt\u001b[0m\u001b[1;33m.\u001b[0m\u001b[0msubplot\u001b[0m\u001b[1;33m(\u001b[0m\u001b[1;36m1\u001b[0m\u001b[1;33m,\u001b[0m \u001b[1;36m2\u001b[0m\u001b[1;33m,\u001b[0m \u001b[1;36m2\u001b[0m\u001b[1;33m)\u001b[0m\u001b[1;33m\u001b[0m\u001b[1;33m\u001b[0m\u001b[0m\n",
      "\u001b[1;31mNameError\u001b[0m: name 'history' is not defined"
     ]
    },
    {
     "data": {
      "image/png": "[encoded data removed]",
      "text/plain": [
       "<Figure size 1152x576 with 1 Axes>"
      ]
     },
     "metadata": {
      "needs_background": "light"
     },
     "output_type": "display_data"
    }
   ],
   "source": [
    "plt.figure(figsize=(16, 8))\n",
    "plt.subplot(1, 2, 1)\n",
    "plot_graphs(history, 'accuracy')\n",
    "plt.ylim(None, 1)\n",
    "plt.subplot(1, 2, 2)\n",
    "plot_graphs(history, 'loss')\n",
    "plt.ylim(0, None)"
   ]
  },
  {
   "cell_type": "markdown",
   "metadata": {},
   "source": [
    "### LSTM"
   ]
  },
  {
   "cell_type": "code",
   "execution_count": 127,
   "metadata": {},
   "outputs": [],
   "source": [
    "model_LSTM0 = tf.keras.Sequential([\n",
    "    encoder_0,\n",
    "    tf.keras.layers.Embedding(\n",
    "        input_dim=len(encoder_0.get_vocabulary()),\n",
    "        output_dim=64,\n",
    "        # Use masking to handle the variable sequence lengths\n",
    "        mask_zero=True),\n",
    "    tf.keras.layers.Bidirectional(tf.keras.layers.LSTM(64)),\n",
    "    tf.keras.layers.Dense(64, activation='relu'),\n",
    "    tf.keras.layers.Dense(1, activation='sigmoid')\n",
    "])"
   ]
  },
  {
   "cell_type": "code",
   "execution_count": 128,
   "metadata": {},
   "outputs": [],
   "source": [
    "model_LSTM0.compile(loss=tf.keras.losses.BinaryCrossentropy(from_logits=True),\n",
    "              optimizer=tf.keras.optimizers.Adam(1e-4),\n",
    "              metrics=['accuracy'])"
   ]
  },
  {
   "cell_type": "code",
   "execution_count": 153,
   "metadata": {},
   "outputs": [
    {
     "name": "stdout",
     "output_type": "stream",
     "text": [
      "Model: \"sequential_9\"\n",
      "_________________________________________________________________\n",
      " Layer (type)                Output Shape              Param #   \n",
      "=================================================================\n",
      " text_vectorization (TextVec  (None, None)             0         \n",
      " torization)                                                     \n",
      "                                                                 \n",
      " embedding_9 (Embedding)     (None, None, 64)          64000     \n",
      "                                                                 \n",
      " bidirectional_9 (Bidirectio  (None, 128)              66048     \n",
      " nal)                                                            \n",
      "                                                                 \n",
      " dense_18 (Dense)            (None, 64)                8256      \n",
      "                                                                 \n",
      " dense_19 (Dense)            (None, 1)                 65        \n",
      "                                                                 \n",
      "=================================================================\n",
      "Total params: 138,369\n",
      "Trainable params: 138,369\n",
      "Non-trainable params: 0\n",
      "_________________________________________________________________\n",
      "None\n"
     ]
    }
   ],
   "source": [
    "print(model_LSTM0.summary())"
   ]
  },
  {
   "cell_type": "markdown",
   "metadata": {},
   "source": [
    "#### Sem stemming"
   ]
  },
  {
   "cell_type": "markdown",
   "metadata": {},
   "source": [
    "Treinando modelo"
   ]
  },
  {
   "cell_type": "code",
   "execution_count": 129,
   "metadata": {},
   "outputs": [
    {
     "name": "stdout",
     "output_type": "stream",
     "text": [
      "Epoch 1/20\n"
     ]
    },
    {
     "name": "stderr",
     "output_type": "stream",
     "text": [
      "C:\\Users\\lucas\\anaconda3\\lib\\site-packages\\tensorflow\\python\\util\\dispatch.py:1082: UserWarning: \"`binary_crossentropy` received `from_logits=True`, but the `output` argument was produced by a sigmoid or softmax activation and thus does not represent logits. Was this intended?\"\n",
      "  return dispatch_target(*args, **kwargs)\n"
     ]
    },
    {
     "name": "stdout",
     "output_type": "stream",
     "text": [
      "110/110 [==============================] - 17s 99ms/step - loss: 0.6236 - accuracy: 0.8607 - val_loss: 0.4794 - val_accuracy: 0.8854\n",
      "Epoch 2/20\n",
      "110/110 [==============================] - 8s 75ms/step - loss: 0.4170 - accuracy: 0.8898 - val_loss: 0.3741 - val_accuracy: 0.8854\n",
      "Epoch 3/20\n",
      "110/110 [==============================] - 8s 74ms/step - loss: 0.3380 - accuracy: 0.8898 - val_loss: 0.3239 - val_accuracy: 0.8854\n",
      "Epoch 4/20\n",
      "110/110 [==============================] - 8s 74ms/step - loss: 0.2951 - accuracy: 0.8898 - val_loss: 0.2898 - val_accuracy: 0.8854\n",
      "Epoch 5/20\n",
      "110/110 [==============================] - 8s 75ms/step - loss: 0.2576 - accuracy: 0.8926 - val_loss: 0.2571 - val_accuracy: 0.8906\n",
      "Epoch 6/20\n",
      "110/110 [==============================] - 9s 77ms/step - loss: 0.2229 - accuracy: 0.9063 - val_loss: 0.2471 - val_accuracy: 0.8938\n",
      "Epoch 7/20\n",
      "110/110 [==============================] - 9s 78ms/step - loss: 0.1973 - accuracy: 0.9258 - val_loss: 0.2418 - val_accuracy: 0.8979\n",
      "Epoch 8/20\n",
      "110/110 [==============================] - 8s 75ms/step - loss: 0.1758 - accuracy: 0.9338 - val_loss: 0.2362 - val_accuracy: 0.9021\n",
      "Epoch 9/20\n",
      "110/110 [==============================] - 8s 77ms/step - loss: 0.1611 - accuracy: 0.9400 - val_loss: 0.2509 - val_accuracy: 0.9021\n",
      "Epoch 10/20\n",
      "110/110 [==============================] - 9s 83ms/step - loss: 0.1478 - accuracy: 0.9452 - val_loss: 0.2534 - val_accuracy: 0.9042\n",
      "Epoch 11/20\n",
      "110/110 [==============================] - 8s 77ms/step - loss: 0.1349 - accuracy: 0.9486 - val_loss: 0.2698 - val_accuracy: 0.9052\n",
      "Epoch 12/20\n",
      "110/110 [==============================] - 8s 74ms/step - loss: 0.1245 - accuracy: 0.9546 - val_loss: 0.2782 - val_accuracy: 0.9052\n",
      "Epoch 13/20\n",
      "110/110 [==============================] - 8s 74ms/step - loss: 0.1159 - accuracy: 0.9586 - val_loss: 0.2904 - val_accuracy: 0.9052\n",
      "Epoch 14/20\n",
      "110/110 [==============================] - 9s 80ms/step - loss: 0.1075 - accuracy: 0.9612 - val_loss: 0.3034 - val_accuracy: 0.9031\n",
      "Epoch 15/20\n",
      "110/110 [==============================] - 9s 84ms/step - loss: 0.1002 - accuracy: 0.9634 - val_loss: 0.3673 - val_accuracy: 0.9021\n",
      "Epoch 16/20\n",
      "110/110 [==============================] - 9s 82ms/step - loss: 0.0953 - accuracy: 0.9654 - val_loss: 0.3318 - val_accuracy: 0.9042\n",
      "Epoch 17/20\n",
      "110/110 [==============================] - 9s 78ms/step - loss: 0.0888 - accuracy: 0.9692 - val_loss: 0.3606 - val_accuracy: 0.8990\n",
      "Epoch 18/20\n",
      "110/110 [==============================] - 9s 85ms/step - loss: 0.0816 - accuracy: 0.9720 - val_loss: 0.4172 - val_accuracy: 0.9031\n",
      "Epoch 19/20\n",
      "110/110 [==============================] - 8s 77ms/step - loss: 0.0770 - accuracy: 0.9732 - val_loss: 0.4160 - val_accuracy: 0.8969\n",
      "Epoch 20/20\n",
      "110/110 [==============================] - 8s 75ms/step - loss: 0.0731 - accuracy: 0.9769 - val_loss: 0.4132 - val_accuracy: 0.9000\n"
     ]
    }
   ],
   "source": [
    "history = model_LSTM0.fit(X_train_join[0], y_train, epochs=20,\n",
    "                    batch_size = 32,\n",
    "                    validation_data= (X_valid_join[0], y_valid),\n",
    "                    validation_steps=30\n",
    "                    )"
   ]
  },
  {
   "cell_type": "markdown",
   "metadata": {},
   "source": [
    "Avaliando modelo"
   ]
  },
  {
   "cell_type": "code",
   "execution_count": 134,
   "metadata": {},
   "outputs": [
    {
     "name": "stdout",
     "output_type": "stream",
     "text": [
      "47/47 [==============================] - 1s 26ms/step - loss: 0.4435 - accuracy: 0.8854\n",
      "Test Loss: 0.4434678554534912\n",
      "Test Accuracy: 0.8854097127914429\n"
     ]
    }
   ],
   "source": [
    "test_loss, test_acc = model_LSTM0.evaluate(X_test_join[0], y_test)\n",
    "\n",
    "print('Test Loss:', test_loss)\n",
    "print('Test Accuracy:', test_acc)"
   ]
  },
  {
   "cell_type": "code",
   "execution_count": 135,
   "metadata": {},
   "outputs": [
    {
     "name": "stdout",
     "output_type": "stream",
     "text": [
      "              precision    recall  f1-score   support\n",
      "\n",
      "           0       0.49      0.46      0.48       170\n",
      "           1       0.93      0.94      0.94      1331\n",
      "\n",
      "    accuracy                           0.89      1501\n",
      "   macro avg       0.71      0.70      0.71      1501\n",
      "weighted avg       0.88      0.89      0.88      1501\n",
      "\n"
     ]
    }
   ],
   "source": [
    "result = model_LSTM0.predict(X_test_join[0])\n",
    "result = np.where(result > 0.5, 1, 0)\n",
    "result\n",
    "\n",
    "print(classification_report(y_test, result))"
   ]
  },
  {
   "cell_type": "code",
   "execution_count": 132,
   "metadata": {},
   "outputs": [
    {
     "data": {
      "text/plain": [
       "array([[  78,   92],\n",
       "       [  80, 1251]], dtype=int64)"
      ]
     },
     "execution_count": 132,
     "metadata": {},
     "output_type": "execute_result"
    }
   ],
   "source": [
    "confusion_matrix(y_test, result)"
   ]
  },
  {
   "cell_type": "code",
   "execution_count": 133,
   "metadata": {},
   "outputs": [
    {
     "data": {
      "text/plain": [
       "(0.0, 0.6511498056352139)"
      ]
     },
     "execution_count": 133,
     "metadata": {},
     "output_type": "execute_result"
    },
    {
     "data": {
      "image/png": "[encoded data removed]",
      "text/plain": [
       "<Figure size 1152x576 with 2 Axes>"
      ]
     },
     "metadata": {
      "needs_background": "light"
     },
     "output_type": "display_data"
    }
   ],
   "source": [
    "plt.figure(figsize=(16, 8))\n",
    "plt.subplot(1, 2, 1)\n",
    "plot_graphs(history, 'accuracy')\n",
    "plt.ylim(None, 1)\n",
    "plt.subplot(1, 2, 2)\n",
    "plot_graphs(history, 'loss')\n",
    "plt.ylim(0, None)"
   ]
  },
  {
   "cell_type": "markdown",
   "metadata": {},
   "source": [
    "#### Com stemming"
   ]
  },
  {
   "cell_type": "code",
   "execution_count": null,
   "metadata": {},
   "outputs": [],
   "source": [
    "model_LSTM1 = tf.keras.Sequential([\n",
    "    encoder_1,\n",
    "    tf.keras.layers.Embedding(\n",
    "        input_dim=len(encoder_1.get_vocabulary()),\n",
    "        output_dim=64,\n",
    "        # Use masking to handle the variable sequence lengths\n",
    "        mask_zero=True),\n",
    "    tf.keras.layers.Bidirectional(tf.keras.layers.LSTM(64)),\n",
    "    tf.keras.layers.Dense(64, activation='relu'),\n",
    "    tf.keras.layers.Dense(1, activation='sigmoid')\n",
    "])"
   ]
  },
  {
   "cell_type": "code",
   "execution_count": null,
   "metadata": {},
   "outputs": [],
   "source": [
    "model_LSTM1.compile(loss=tf.keras.losses.BinaryCrossentropy(from_logits=True),\n",
    "              optimizer=tf.keras.optimizers.Adam(1e-4),\n",
    "              metrics=['accuracy'])"
   ]
  },
  {
   "cell_type": "markdown",
   "metadata": {},
   "source": [
    "Treinando modelo"
   ]
  },
  {
   "cell_type": "code",
   "execution_count": 105,
   "metadata": {},
   "outputs": [
    {
     "name": "stdout",
     "output_type": "stream",
     "text": [
      "Epoch 1/10\n",
      "110/110 [==============================] - 8s 72ms/step - loss: 0.2992 - accuracy: 0.8841 - val_loss: 0.3168 - val_accuracy: 0.8750\n",
      "Epoch 2/10\n",
      "110/110 [==============================] - 7s 66ms/step - loss: 0.2815 - accuracy: 0.8909 - val_loss: 0.3172 - val_accuracy: 0.8854\n",
      "Epoch 3/10\n",
      "110/110 [==============================] - 8s 70ms/step - loss: 0.2771 - accuracy: 0.8932 - val_loss: 0.3206 - val_accuracy: 0.8656\n",
      "Epoch 4/10\n",
      "110/110 [==============================] - 7s 65ms/step - loss: 0.2766 - accuracy: 0.8912 - val_loss: 0.3253 - val_accuracy: 0.8865\n",
      "Epoch 5/10\n",
      "110/110 [==============================] - 7s 65ms/step - loss: 0.2733 - accuracy: 0.8943 - val_loss: 0.3140 - val_accuracy: 0.8708\n",
      "Epoch 6/10\n",
      "110/110 [==============================] - 7s 65ms/step - loss: 0.2712 - accuracy: 0.8941 - val_loss: 0.3252 - val_accuracy: 0.8656\n",
      "Epoch 7/10\n",
      "110/110 [==============================] - 7s 67ms/step - loss: 0.2689 - accuracy: 0.8955 - val_loss: 0.3138 - val_accuracy: 0.8771\n",
      "Epoch 8/10\n",
      "110/110 [==============================] - 7s 67ms/step - loss: 0.2674 - accuracy: 0.8958 - val_loss: 0.3151 - val_accuracy: 0.8698\n",
      "Epoch 9/10\n",
      "110/110 [==============================] - 8s 69ms/step - loss: 0.2664 - accuracy: 0.8961 - val_loss: 0.3135 - val_accuracy: 0.8719\n",
      "Epoch 10/10\n",
      "110/110 [==============================] - 7s 67ms/step - loss: 0.2640 - accuracy: 0.8986 - val_loss: 0.3145 - val_accuracy: 0.8760\n"
     ]
    }
   ],
   "source": [
    "history = model_LSTM1.fit(X_train_join[1], y_train, epochs=10,\n",
    "                    batch_size = 32,\n",
    "                    validation_data= (X_valid_join[1], y_valid),\n",
    "                    validation_steps=30\n",
    "                    )"
   ]
  },
  {
   "cell_type": "markdown",
   "metadata": {},
   "source": [
    "Avaliando modelo"
   ]
  },
  {
   "cell_type": "code",
   "execution_count": 106,
   "metadata": {},
   "outputs": [
    {
     "name": "stdout",
     "output_type": "stream",
     "text": [
      "47/47 [==============================] - 1s 21ms/step - loss: 0.3092 - accuracy: 0.8761\n",
      "Test Loss: 0.3092056214809418\n",
      "Test Accuracy: 0.8760825991630554\n"
     ]
    }
   ],
   "source": [
    "test_loss, test_acc = model_LSTM1.evaluate(X_test_join[1], y_test)\n",
    "\n",
    "print('Test Loss:', test_loss)\n",
    "print('Test Accuracy:', test_acc)"
   ]
  },
  {
   "cell_type": "code",
   "execution_count": 107,
   "metadata": {},
   "outputs": [
    {
     "name": "stdout",
     "output_type": "stream",
     "text": [
      "              precision    recall  f1-score   support\n",
      "\n",
      "           0       0.37      0.14      0.20       170\n",
      "           1       0.90      0.97      0.93      1331\n",
      "\n",
      "    accuracy                           0.88      1501\n",
      "   macro avg       0.63      0.55      0.57      1501\n",
      "weighted avg       0.84      0.88      0.85      1501\n",
      "\n"
     ]
    }
   ],
   "source": [
    "result = model_LSTM1.predict(X_test_join[1])\n",
    "result = np.where(result > 0.5, 1, 0)\n",
    "result\n",
    "\n",
    "print(classification_report(y_test, result))"
   ]
  },
  {
   "cell_type": "code",
   "execution_count": 108,
   "metadata": {},
   "outputs": [
    {
     "data": {
      "text/plain": [
       "array([[  23,  147],\n",
       "       [  39, 1292]], dtype=int64)"
      ]
     },
     "execution_count": 108,
     "metadata": {},
     "output_type": "execute_result"
    }
   ],
   "source": [
    "confusion_matrix(y_test, result)"
   ]
  },
  {
   "cell_type": "code",
   "execution_count": 109,
   "metadata": {},
   "outputs": [
    {
     "data": {
      "text/plain": [
       "(0.0, 0.3284050300717354)"
      ]
     },
     "execution_count": 109,
     "metadata": {},
     "output_type": "execute_result"
    },
    {
     "data": {
      "image/png": "[encoded data removed]",
      "text/plain": [
       "<Figure size 1152x576 with 2 Axes>"
      ]
     },
     "metadata": {
      "needs_background": "light"
     },
     "output_type": "display_data"
    }
   ],
   "source": [
    "plt.figure(figsize=(16, 8))\n",
    "plt.subplot(1, 2, 1)\n",
    "plot_graphs(history, 'accuracy')\n",
    "plt.ylim(None, 1)\n",
    "plt.subplot(1, 2, 2)\n",
    "plot_graphs(history, 'loss')\n",
    "plt.ylim(0, None)"
   ]
  },
  {
   "cell_type": "markdown",
   "metadata": {},
   "source": [
    "### BERT"
   ]
  },
  {
   "cell_type": "code",
   "execution_count": 7,
   "metadata": {},
   "outputs": [],
   "source": [
    "from transformers import BertTokenizer"
   ]
  },
  {
   "cell_type": "code",
   "execution_count": 8,
   "metadata": {},
   "outputs": [],
   "source": [
    "tokenizer = BertTokenizer.from_pretrained('neuralmind/bert-base-portuguese-cased', do_lower_case=True)"
   ]
  },
  {
   "cell_type": "code",
   "execution_count": 9,
   "metadata": {},
   "outputs": [],
   "source": [
    "def convert_example_to_feature(review):\n",
    "  return tokenizer.encode_plus(review,\n",
    "                add_special_tokens = True, # add [CLS], [SEP]\n",
    "                max_length = max_length, # max length of the text that can go to BERT\n",
    "                pad_to_max_length = True, # add [PAD] tokens\n",
    "                return_attention_mask = True, # add attention mask to not focus on pad tokens\n",
    "              )"
   ]
  },
  {
   "cell_type": "code",
   "execution_count": 10,
   "metadata": {},
   "outputs": [],
   "source": [
    "# can be up to 512 for BERT\n",
    "max_length = 256\n",
    "batch_size = 1"
   ]
  },
  {
   "cell_type": "code",
   "execution_count": 11,
   "metadata": {},
   "outputs": [],
   "source": [
    "def map_example_to_dict(input_ids, attention_masks, token_type_ids, label):\n",
    "  return {\n",
    "      \"input_ids\": input_ids,\n",
    "      \"token_type_ids\": token_type_ids,\n",
    "      \"attention_mask\": attention_masks,\n",
    "  }, label"
   ]
  },
  {
   "cell_type": "code",
   "execution_count": 12,
   "metadata": {},
   "outputs": [],
   "source": [
    "def encode_examples(texts, labels, limit=-1):\n",
    "  # prepare list, so that we can build up final TensorFlow dataset from slices.\n",
    "  input_ids_list = []\n",
    "  token_type_ids_list = []\n",
    "  attention_mask_list = []\n",
    "  label_list = []\n",
    "  if (limit > 0):\n",
    "      ds = ds.take(limit)\n",
    "  # for review, label in tfds.as_numpy(ds):\n",
    "  for text, label in zip(texts, labels):\n",
    "    bert_input = convert_example_to_feature(text)\n",
    "    input_ids_list.append(bert_input['input_ids'])\n",
    "    token_type_ids_list.append(bert_input['token_type_ids'])\n",
    "    attention_mask_list.append(bert_input['attention_mask'])\n",
    "    label_list.append([label])\n",
    "  return tf.data.Dataset.from_tensor_slices((input_ids_list, attention_mask_list, token_type_ids_list, label_list)).map(map_example_to_dict)"
   ]
  },
  {
   "cell_type": "markdown",
   "metadata": {},
   "source": [
    "#### Sem stemming"
   ]
  },
  {
   "cell_type": "code",
   "execution_count": 13,
   "metadata": {},
   "outputs": [
    {
     "name": "stderr",
     "output_type": "stream",
     "text": [
      "Truncation was not explicitly activated but `max_length` is provided a specific value, please use `truncation=True` to explicitly truncate examples to max length. Defaulting to 'longest_first' truncation strategy. If you encode pairs of sequences (GLUE-style) with the tokenizer you can select this strategy more precisely by providing a specific strategy to `truncation`.\n",
      "C:\\Users\\mcso\\anaconda3\\envs\\tf_gpu\\lib\\site-packages\\transformers\\tokenization_utils_base.py:2251: FutureWarning: The `pad_to_max_length` argument is deprecated and will be removed in a future version, use `padding=True` or `padding='longest'` to pad to the longest sequence in the batch, or use `padding='max_length'` to pad to a max length. In this case, you can give a specific length with `max_length` (e.g. `max_length=45`) or leave max_length to None to pad to the maximal input size of the model (e.g. 512 for Bert).\n",
      "  warnings.warn(\n"
     ]
    }
   ],
   "source": [
    "# train dataset\n",
    "ds_train_encoded_0 = encode_examples(X_train_join[0], y_train).shuffle(3).batch(batch_size)\n",
    "\n",
    "# test dataset\n",
    "ds_test_encoded_0 = encode_examples(X_test_join[0], y_test).batch(batch_size)\n",
    "\n",
    "#validation dataset\n",
    "ds_valid_encoded_0 = encode_examples(X_valid_join[0], y_valid).batch(batch_size)"
   ]
  },
  {
   "cell_type": "code",
   "execution_count": 14,
   "metadata": {},
   "outputs": [
    {
     "name": "stderr",
     "output_type": "stream",
     "text": [
      "All PyTorch model weights were used when initializing TFBertForSequenceClassification.\n",
      "\n",
      "Some weights or buffers of the TF 2.0 model TFBertForSequenceClassification were not initialized from the PyTorch model and are newly initialized: ['classifier.weight', 'classifier.bias']\n",
      "You should probably TRAIN this model on a down-stream task to be able to use it for predictions and inference.\n"
     ]
    }
   ],
   "source": [
    "from transformers import TFBertForSequenceClassification\n",
    "import tensorflow as tf\n",
    "# recommended learning rate for Adam 5e-5, 3e-5, 2e-5\n",
    "learning_rate = 2e-5\n",
    "# we will do just 1 epoch, though multiple epochs might be better as long as we will not overfit the model\n",
    "number_of_epochs = 3\n",
    "# model initialization\n",
    "model_bert_0 = TFBertForSequenceClassification.from_pretrained('bert-base-portuguese-cased', from_pt = True)"
   ]
  },
  {
   "cell_type": "code",
   "execution_count": 15,
   "metadata": {},
   "outputs": [],
   "source": [
    "# choosing Adam optimizer\n",
    "optimizer = tf.keras.optimizers.Adam(learning_rate=learning_rate, epsilon=1e-08)\n",
    "# we do not have one-hot vectors, we can use sparce categorical cross entropy and accuracy\n",
    "loss = tf.keras.losses.SparseCategoricalCrossentropy(from_logits=True)\n",
    "metric = tf.keras.metrics.SparseCategoricalAccuracy('accuracy')\n",
    "model_bert_0.compile(optimizer=optimizer, loss=loss, metrics=[metric])"
   ]
  },
  {
   "cell_type": "code",
   "execution_count": 16,
   "metadata": {},
   "outputs": [
    {
     "name": "stdout",
     "output_type": "stream",
     "text": [
      "Epoch 1/3\n",
      "3502/3502 [==============================] - 1006s 282ms/step - loss: 0.2793 - accuracy: 0.8929 - val_loss: 0.2160 - val_accuracy: 0.9121\n",
      "Epoch 2/3\n",
      "3502/3502 [==============================] - 973s 278ms/step - loss: 0.2039 - accuracy: 0.9232 - val_loss: 0.2337 - val_accuracy: 0.9094\n",
      "Epoch 3/3\n",
      "3502/3502 [==============================] - 976s 279ms/step - loss: 0.1508 - accuracy: 0.9492 - val_loss: 0.2370 - val_accuracy: 0.9194\n"
     ]
    }
   ],
   "source": [
    "bert_history = model_bert_0.fit(ds_train_encoded_0, epochs=number_of_epochs, validation_data=ds_valid_encoded_0)"
   ]
  },
  {
   "cell_type": "code",
   "execution_count": 17,
   "metadata": {},
   "outputs": [
    {
     "name": "stdout",
     "output_type": "stream",
     "text": [
      "[1 1 1 ... 1 1 1]\n"
     ]
    }
   ],
   "source": [
    "tf_output = model_bert_0.predict(ds_test_encoded_0)[0]\n",
    "tf_prediction = tf.nn.softmax(tf_output, axis=1)\n",
    "labels = ['Negative','Positive'] #(0:negative, 1:positive)\n",
    "label = tf.argmax(tf_prediction, axis=1)\n",
    "label_pred = label.numpy()\n",
    "print(label_pred)"
   ]
  },
  {
   "cell_type": "code",
   "execution_count": 19,
   "metadata": {},
   "outputs": [
    {
     "data": {
      "text/plain": [
       "{0: 85, 1: 1416}"
      ]
     },
     "execution_count": 19,
     "metadata": {},
     "output_type": "execute_result"
    }
   ],
   "source": [
    "unique, counts = np.unique(label_pred, return_counts=True)\n",
    "dict(zip(unique, counts))"
   ]
  },
  {
   "cell_type": "code",
   "execution_count": 20,
   "metadata": {},
   "outputs": [
    {
     "name": "stdout",
     "output_type": "stream",
     "text": [
      "              precision    recall  f1-score   support\n",
      "\n",
      "           0       0.79      0.39      0.53       170\n",
      "           1       0.93      0.99      0.96      1331\n",
      "\n",
      "    accuracy                           0.92      1501\n",
      "   macro avg       0.86      0.69      0.74      1501\n",
      "weighted avg       0.91      0.92      0.91      1501\n",
      "\n"
     ]
    }
   ],
   "source": [
    "print(classification_report(y_test, label_pred))"
   ]
  },
  {
   "cell_type": "code",
   "execution_count": 21,
   "metadata": {},
   "outputs": [
    {
     "data": {
      "text/plain": [
       "array([[  67,  103],\n",
       "       [  18, 1313]], dtype=int64)"
      ]
     },
     "execution_count": 21,
     "metadata": {},
     "output_type": "execute_result"
    }
   ],
   "source": [
    "confusion_matrix(y_test, label_pred)"
   ]
  },
  {
   "cell_type": "markdown",
   "metadata": {},
   "source": [
    "#### Com stemming"
   ]
  },
  {
   "cell_type": "code",
   "execution_count": null,
   "metadata": {},
   "outputs": [],
   "source": [
    "# train dataset\n",
    "ds_train_encoded_1 = encode_examples(X_train_join[1], y_train).shuffle(3).batch(batch_size)\n",
    "\n",
    "# test dataset\n",
    "ds_test_encoded_1 = encode_examples(X_test_join[1], y_test).batch(batch_size)\n",
    "\n",
    "#validation dataset\n",
    "ds_valid_encoded_1 = encode_examples(X_valid_join[1], y_valid).batch(batch_size)"
   ]
  },
  {
   "cell_type": "code",
   "execution_count": null,
   "metadata": {},
   "outputs": [],
   "source": [
    "from transformers import TFBertForSequenceClassification\n",
    "import tensorflow as tf\n",
    "# recommended learning rate for Adam 5e-5, 3e-5, 2e-5\n",
    "learning_rate = 2e-5\n",
    "# we will do just 1 epoch, though multiple epochs might be better as long as we will not overfit the model\n",
    "number_of_epochs = 3\n",
    "# model initialization\n",
    "model_bert_1 = TFBertForSequenceClassification.from_pretrained('bert-base-portuguese-cased', from_pt = True)"
   ]
  },
  {
   "cell_type": "code",
   "execution_count": null,
   "metadata": {},
   "outputs": [],
   "source": [
    "# choosing Adam optimizer\n",
    "optimizer = tf.keras.optimizers.Adam(learning_rate=learning_rate, epsilon=1e-08)\n",
    "# we do not have one-hot vectors, we can use sparce categorical cross entropy and accuracy\n",
    "loss = tf.keras.losses.SparseCategoricalCrossentropy(from_logits=True)\n",
    "metric = tf.keras.metrics.SparseCategoricalAccuracy('accuracy')\n",
    "model_bert_1.compile(optimizer=optimizer, loss=loss, metrics=[metric])"
   ]
  },
  {
   "cell_type": "code",
   "execution_count": null,
   "metadata": {},
   "outputs": [],
   "source": [
    "bert_history = model_bert_1.fit(ds_train_encoded_1, epochs=number_of_epochs, validation_data=ds_valid_encoded_1)"
   ]
  },
  {
   "cell_type": "code",
   "execution_count": null,
   "metadata": {},
   "outputs": [],
   "source": [
    "tf_output = model_bert_1.predict(ds_test_encoded_1)[0]\n",
    "tf_prediction = tf.nn.softmax(tf_output, axis=1)\n",
    "labels = ['Negative','Positive'] #(0:negative, 1:positive)\n",
    "label = tf.argmax(tf_prediction, axis=1)\n",
    "label_pred = label.numpy()\n",
    "print(label_pred)"
   ]
  },
  {
   "cell_type": "code",
   "execution_count": null,
   "metadata": {},
   "outputs": [],
   "source": [
    "unique, counts = np.unique(label_pred, return_counts=True)\n",
    "dict(zip(unique, counts))"
   ]
  },
  {
   "cell_type": "code",
   "execution_count": null,
   "metadata": {},
   "outputs": [],
   "source": [
    "print(classification_report(y_test, label_pred))"
   ]
  },
  {
   "cell_type": "code",
   "execution_count": null,
   "metadata": {},
   "outputs": [],
   "source": [
    "confusion_matrix(y_test, label_pred)"
   ]
  }
 ],
 "metadata": {
  "interpreter": {
   "hash": "8003219c8c57211ee3be347d121ba14ebad7276cdae3d94be72d9e4e17f9edd5"
  },
  "kernelspec": {
   "display_name": "Python 3.9.7 ('base')",
   "language": "python",
   "name": "python3"
  },
  "language_info": {
   "codemirror_mode": {
    "name": "ipython",
    "version": 3
   },
   "file_extension": ".py",
   "mimetype": "text/x-python",
   "name": "python",
   "nbconvert_exporter": "python",
   "pygments_lexer": "ipython3",
   "version": "3.9.7"
  },
  "orig_nbformat": 4
 },
 "nbformat": 4,
 "nbformat_minor": 2
}
