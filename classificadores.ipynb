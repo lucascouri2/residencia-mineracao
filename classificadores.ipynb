{
 "cells": [
  {
   "cell_type": "markdown",
   "metadata": {},
   "source": [
    "# Projeto - Mineração de Texto e Web\n",
    "## Residência Engenharia e Ciência de dados - Samsung/UFPE\n",
    "\n",
    "### Lucas Couri - lncc2\n",
    "### Mariama Oliveira - mcso"
   ]
  },
  {
   "cell_type": "markdown",
   "metadata": {},
   "source": [
    "## Carregando Dados"
   ]
  },
  {
   "cell_type": "code",
   "execution_count": 1,
   "metadata": {},
   "outputs": [],
   "source": [
    "#Imports\n",
    "import string\n",
    "import nltk\n",
    "from nltk.corpus import stopwords\n",
    "import pandas as pd\n",
    "# from sklearn.model_selection import train_test_split\n",
    "from sklearn.ensemble import RandomForestClassifier\n",
    "from sklearn.metrics import accuracy_score\n",
    "from sklearn.metrics import classification_report\n",
    "from sklearn.metrics import confusion_matrix\n",
    "from sklearn.metrics import accuracy_score, precision_score, f1_score\n",
    "from sklearn.cluster import KMeans\n",
    "from sklearn.metrics import pairwise_distances\n",
    "from sklearn.metrics import pairwise_distances_argmin_min\n",
    "from scipy.sparse import csr_matrix\n",
    "from scipy.cluster.vq import vq\n",
    "\n",
    "import numpy as np\n",
    "import tensorflow as tf\n",
    "#from keras.datasets import mnist\n",
    "from tensorflow.keras import Sequential\n",
    "from tensorflow.keras.layers import Dense, Dropout, Embedding, LSTM, Conv2D, Input\n",
    "from sklearn.feature_extraction.text import CountVectorizer\n",
    "import matplotlib.pyplot as plt\n",
    "\n",
    "import dataset_split \n",
    "import networks\n",
    "import bert\n",
    "import rm_forest"
   ]
  },
  {
   "cell_type": "code",
   "execution_count": 2,
   "metadata": {},
   "outputs": [],
   "source": [
    "df = pd.read_csv(\"reviews_v2.csv\")\n",
    "df = df[df[\"reviews\"].notna()]"
   ]
  },
  {
   "cell_type": "markdown",
   "metadata": {},
   "source": [
    "## Pré-processamento (com e sem stemming)"
   ]
  },
  {
   "cell_type": "code",
   "execution_count": 3,
   "metadata": {},
   "outputs": [],
   "source": [
    "#Global variables\n",
    "other_punctuation = '—“”'  \n",
    "stop_words = stopwords.words('portuguese')\n",
    "stop_words.append('’')\n",
    "stemmer = nltk.stem.RSLPStemmer()\n",
    "\n",
    "\n",
    "#Function that removes punctuation \n",
    "def remove_punctuation(text):\n",
    "    punctuation_free_doc = \"\".join([i for i in text if i not in string.punctuation+other_punctuation])\n",
    "    return punctuation_free_doc\n",
    "\n",
    "\n",
    "def remove_stopwords(list_words):\n",
    "    filtered_words = [word for word in list_words if word not in stop_words]\n",
    "    return filtered_words\n",
    "\n",
    "\n",
    "def do_stemming(list_words):\n",
    "    stem_text = [stemmer.stem(word) for word in list_words]\n",
    "    return stem_text\n",
    "\n",
    "\n",
    "def pre_process(doc, basic_processing = False, no_stopwords = False, stemming = False):\n",
    "\n",
    "    final_doc = doc\n",
    "    \n",
    "    ## print(final_doc)\n",
    "\n",
    "    if basic_processing == True:\n",
    "        \n",
    "        final_doc = remove_punctuation(doc)\n",
    "        final_doc = final_doc.lower()\n",
    "\n",
    "    final_doc = nltk.word_tokenize(final_doc)\n",
    "\n",
    "    if no_stopwords == True:\n",
    "        final_doc = remove_stopwords(final_doc)    \n",
    "\n",
    "    if stemming == True:\n",
    "        final_doc = do_stemming(final_doc)\n",
    "\n",
    "    return final_doc\n",
    "\n",
    "def pre_process_all(df, pre_processing_list):\n",
    "\n",
    "    for param, index in zip(pre_processing_list, range(len(pre_processing_list))):\n",
    "        \n",
    "        df[f\"reviews_pipeline_{index}\"] = df[\"reviews\"].apply(lambda x: pre_process(x, **param))\n",
    "\n",
    "    return df\n",
    "\n",
    "pre_processing_list = [\n",
    "    {\"basic_processing\": True, \"no_stopwords\": True, \"stemming\": False},\n",
    "    {\"basic_processing\": True, \"no_stopwords\": True, \"stemming\": True}]\n",
    "\n",
    "df_pp = pre_process_all(df, pre_processing_list)"
   ]
  },
  {
   "cell_type": "markdown",
   "metadata": {},
   "source": [
    "## Definindo classe"
   ]
  },
  {
   "cell_type": "code",
   "execution_count": 4,
   "metadata": {},
   "outputs": [],
   "source": [
    "df_pp[\"class\"] = df_pp[\"stars\"].apply(lambda x : 1 if x >=4 else 0)"
   ]
  },
  {
   "cell_type": "markdown",
   "metadata": {},
   "source": [
    "## Divisão Train, Validation e Test"
   ]
  },
  {
   "cell_type": "code",
   "execution_count": 5,
   "metadata": {},
   "outputs": [],
   "source": [
    "#Unbalanced dataset\n",
    "X_train, X_valid, X_test, y_train, y_valid, y_test = dataset_split.split_data(df_pp)\n",
    "\n",
    "#Balanced dataset\n",
    "X_train_b, X_valid_b, X_test_b, y_train_b, y_valid_b, y_test_b = dataset_split.split_data(df_pp, True)"
   ]
  },
  {
   "cell_type": "markdown",
   "metadata": {},
   "source": [
    "Transformando tokens em string"
   ]
  },
  {
   "cell_type": "code",
   "execution_count": 6,
   "metadata": {},
   "outputs": [],
   "source": [
    "def tokens_to_string(df):\n",
    "    X_train_join = []\n",
    "    X_train_join.append(df[\"reviews_pipeline_0\"].apply(\" \".join))\n",
    "    X_train_join.append(df[\"reviews_pipeline_1\"].apply(\" \".join))\n",
    "    X_train_join[0] = X_train_join[0].to_numpy()\n",
    "    X_train_join[1] = X_train_join[1].to_numpy()\n",
    "\n",
    "    return X_train_join"
   ]
  },
  {
   "cell_type": "code",
   "execution_count": 7,
   "metadata": {},
   "outputs": [],
   "source": [
    "#Unbalanced data\n",
    "X_train_join = tokens_to_string(X_train)\n",
    "X_test_join = tokens_to_string(X_test)\n",
    "X_valid_join = tokens_to_string(X_valid)\n",
    "\n",
    "#Balanced data\n",
    "X_train_join_b = tokens_to_string(X_train_b)\n",
    "X_test_join_b = tokens_to_string(X_test_b)\n",
    "X_valid_join_b = tokens_to_string(X_valid_b)\n"
   ]
  },
  {
   "cell_type": "markdown",
   "metadata": {},
   "source": [
    "# Classificadores "
   ]
  },
  {
   "cell_type": "code",
   "execution_count": 44,
   "metadata": {},
   "outputs": [],
   "source": [
    "all_metrics = []\n",
    "\n",
    "def calc_metrics(y_test, result, name):\n",
    "    f1_w = f1_0 = f1_score(y_test, result, average=\"weighted\")\n",
    "    f1_0 = f1_score(y_test, result, average=None)[0]\n",
    "    f1_1 = f1_score(y_test, result, average=None)[1]\n",
    "    acc = accuracy_score(y_test, result)\n",
    "    return (name, acc, f1_0, f1_1, f1_w, result.tolist())\n"
   ]
  },
  {
   "cell_type": "markdown",
   "metadata": {},
   "source": [
    "## Random Forest com BoW"
   ]
  },
  {
   "cell_type": "code",
   "execution_count": 28,
   "metadata": {},
   "outputs": [],
   "source": [
    "def get_bag_of_words(X_train_join, X_valid_join, X_test_join):\n",
    "    vectorizer = CountVectorizer(analyzer = \"word\",   \n",
    "                                tokenizer = None,    \n",
    "                                preprocessor = None, \n",
    "                                stop_words = None,   \n",
    "                                max_features = 2000) \n",
    "\n",
    "    #List with BoWs (pipeline 0 and 1)\n",
    "    X_train_vec = []\n",
    "    X_train_vec.append(vectorizer.fit_transform(X_train_join[0]))\n",
    "    X_train_vec.append(vectorizer.fit_transform(X_train_join[1]))\n",
    "\n",
    "    X_test_vec = []\n",
    "    X_test_vec.append(vectorizer.fit_transform(X_test_join[0]))\n",
    "    X_test_vec.append(vectorizer.fit_transform(X_test_join[1]))\n",
    "\n",
    "    X_valid_vec = []\n",
    "    X_valid_vec.append(vectorizer.fit_transform(X_valid_join[0]))\n",
    "    X_valid_vec.append(vectorizer.fit_transform(X_valid_join[1]))\n",
    "\n",
    "\n",
    "    return X_train_vec, X_valid_vec, X_test_vec"
   ]
  },
  {
   "cell_type": "code",
   "execution_count": 29,
   "metadata": {},
   "outputs": [],
   "source": [
    "#Unbalanced data\n",
    "X_train_vec, X_valid_vec, X_test_vec = get_bag_of_words(X_train_join, X_valid_join, X_test_join)\n",
    "\n",
    "#Balanced data\n",
    "X_train_vec_b, X_valid_vec_b, X_test_vec_b = get_bag_of_words(X_train_join_b, X_valid_join_b, X_test_join_b)"
   ]
  },
  {
   "cell_type": "code",
   "execution_count": 30,
   "metadata": {},
   "outputs": [],
   "source": [
    "def pipeline_rf(name, X_train_vec, y_train, X_valid_vec, y_valid, X_test_vec, y_test):\n",
    "    #Get best parameters\n",
    "    best_params = rm_forest.get_best_parameters(X_train_vec, X_valid_vec, y_train, y_valid)\n",
    "    \n",
    "    #Train model with best parameters\n",
    "    forest = RandomForestClassifier(**best_params) \n",
    "    forest = forest.fit(X_train_vec, y_train)\n",
    "\n",
    "    #Predict test datase \n",
    "    result = forest.predict(X_test_vec)\n",
    "    print(classification_report(y_test, result))\n",
    "    print(confusion_matrix(y_test, result))\n",
    "\n",
    "    metrics = calc_metrics(y_test, result, name)\n",
    "\n",
    "    return metrics"
   ]
  },
  {
   "cell_type": "markdown",
   "metadata": {},
   "source": [
    "### Sem stemming"
   ]
  },
  {
   "cell_type": "code",
   "execution_count": 45,
   "metadata": {},
   "outputs": [
    {
     "name": "stderr",
     "output_type": "stream",
     "text": [
      "\u001b[32m[I 2022-03-31 17:04:21,936]\u001b[0m A new study created in memory with name: no-name-0c02f9ea-3275-43ec-a156-7dc7cf28aa09\u001b[0m\n",
      "\u001b[32m[I 2022-03-31 17:04:23,485]\u001b[0m Trial 0 finished with value: 0.0 and parameters: {'n_estimators': 887, 'max_depth': 6, 'criterion': 'entropy'}. Best is trial 0 with value: 0.0.\u001b[0m\n",
      "\u001b[32m[I 2022-03-31 17:04:25,082]\u001b[0m Trial 1 finished with value: 0.0 and parameters: {'n_estimators': 954, 'max_depth': 4, 'criterion': 'entropy'}. Best is trial 0 with value: 0.0.\u001b[0m\n",
      "\u001b[32m[I 2022-03-31 17:04:25,366]\u001b[0m Trial 2 finished with value: 0.01639344262295082 and parameters: {'n_estimators': 69, 'max_depth': 39, 'criterion': 'entropy'}. Best is trial 2 with value: 0.01639344262295082.\u001b[0m\n",
      "\u001b[32m[I 2022-03-31 17:04:27,877]\u001b[0m Trial 3 finished with value: 0.044444444444444446 and parameters: {'n_estimators': 723, 'max_depth': 43, 'criterion': 'gini'}. Best is trial 3 with value: 0.044444444444444446.\u001b[0m\n",
      "\u001b[32m[I 2022-03-31 17:04:28,265]\u001b[0m Trial 4 finished with value: 0.0 and parameters: {'n_estimators': 206, 'max_depth': 13, 'criterion': 'gini'}. Best is trial 3 with value: 0.044444444444444446.\u001b[0m\n",
      "\u001b[32m[I 2022-03-31 17:04:29,058]\u001b[0m Trial 5 finished with value: 0.0 and parameters: {'n_estimators': 548, 'max_depth': 4, 'criterion': 'entropy'}. Best is trial 3 with value: 0.044444444444444446.\u001b[0m\n",
      "\u001b[32m[I 2022-03-31 17:04:31,388]\u001b[0m Trial 6 finished with value: 0.07947019867549669 and parameters: {'n_estimators': 408, 'max_depth': 89, 'criterion': 'entropy'}. Best is trial 6 with value: 0.07947019867549669.\u001b[0m\n",
      "\u001b[32m[I 2022-03-31 17:04:33,106]\u001b[0m Trial 7 finished with value: 0.0 and parameters: {'n_estimators': 788, 'max_depth': 18, 'criterion': 'gini'}. Best is trial 6 with value: 0.07947019867549669.\u001b[0m\n",
      "\u001b[32m[I 2022-03-31 17:04:34,519]\u001b[0m Trial 8 finished with value: 0.05839416058394161 and parameters: {'n_estimators': 337, 'max_depth': 47, 'criterion': 'entropy'}. Best is trial 6 with value: 0.07947019867549669.\u001b[0m\n",
      "\u001b[32m[I 2022-03-31 17:04:36,564]\u001b[0m Trial 9 finished with value: 0.0 and parameters: {'n_estimators': 794, 'max_depth': 23, 'criterion': 'gini'}. Best is trial 6 with value: 0.07947019867549669.\u001b[0m\n",
      "\u001b[32m[I 2022-03-31 17:04:39,266]\u001b[0m Trial 10 finished with value: 0.0684931506849315 and parameters: {'n_estimators': 493, 'max_depth': 119, 'criterion': 'entropy'}. Best is trial 6 with value: 0.07947019867549669.\u001b[0m\n",
      "\u001b[32m[I 2022-03-31 17:04:41,991]\u001b[0m Trial 11 finished with value: 0.09271523178807947 and parameters: {'n_estimators': 480, 'max_depth': 127, 'criterion': 'entropy'}. Best is trial 11 with value: 0.09271523178807947.\u001b[0m\n",
      "\u001b[32m[I 2022-03-31 17:04:44,581]\u001b[0m Trial 12 finished with value: 0.05555555555555556 and parameters: {'n_estimators': 477, 'max_depth': 120, 'criterion': 'entropy'}. Best is trial 11 with value: 0.09271523178807947.\u001b[0m\n",
      "\u001b[32m[I 2022-03-31 17:04:46,296]\u001b[0m Trial 13 finished with value: 0.07042253521126761 and parameters: {'n_estimators': 326, 'max_depth': 66, 'criterion': 'entropy'}. Best is trial 11 with value: 0.09271523178807947.\u001b[0m\n",
      "\u001b[32m[I 2022-03-31 17:04:47,269]\u001b[0m Trial 14 finished with value: 0.0 and parameters: {'n_estimators': 651, 'max_depth': 2, 'criterion': 'entropy'}. Best is trial 11 with value: 0.09271523178807947.\u001b[0m\n",
      "\u001b[32m[I 2022-03-31 17:04:49,012]\u001b[0m Trial 15 finished with value: 0.028571428571428574 and parameters: {'n_estimators': 333, 'max_depth': 77, 'criterion': 'entropy'}. Best is trial 11 with value: 0.09271523178807947.\u001b[0m\n",
      "\u001b[32m[I 2022-03-31 17:04:49,274]\u001b[0m Trial 16 finished with value: 0.09248554913294797 and parameters: {'n_estimators': 47, 'max_depth': 82, 'criterion': 'entropy'}. Best is trial 11 with value: 0.09271523178807947.\u001b[0m\n",
      "\u001b[32m[I 2022-03-31 17:04:49,303]\u001b[0m Trial 17 finished with value: 0.044444444444444446 and parameters: {'n_estimators': 6, 'max_depth': 29, 'criterion': 'entropy'}. Best is trial 11 with value: 0.09271523178807947.\u001b[0m\n",
      "\u001b[32m[I 2022-03-31 17:04:49,606]\u001b[0m Trial 18 finished with value: 0.0 and parameters: {'n_estimators': 154, 'max_depth': 11, 'criterion': 'gini'}. Best is trial 11 with value: 0.09271523178807947.\u001b[0m\n",
      "\u001b[32m[I 2022-03-31 17:04:50,492]\u001b[0m Trial 19 finished with value: 0.055172413793103454 and parameters: {'n_estimators': 183, 'max_depth': 62, 'criterion': 'entropy'}. Best is trial 11 with value: 0.09271523178807947.\u001b[0m\n"
     ]
    },
    {
     "name": "stdout",
     "output_type": "stream",
     "text": [
      "              precision    recall  f1-score   support\n",
      "\n",
      "           0       0.28      0.08      0.12       167\n",
      "           1       0.89      0.97      0.93      1334\n",
      "\n",
      "    accuracy                           0.87      1501\n",
      "   macro avg       0.59      0.53      0.53      1501\n",
      "weighted avg       0.83      0.87      0.84      1501\n",
      "\n",
      "[[  13  154]\n",
      " [  34 1300]]\n"
     ]
    }
   ],
   "source": [
    "#Unbalanced data\n",
    "all_metrics.append(pipeline_rf(\"rf\", X_train_vec[0], y_train, X_valid_vec[0], y_valid, X_test_vec[0], y_test))"
   ]
  },
  {
   "cell_type": "code",
   "execution_count": null,
   "metadata": {},
   "outputs": [
    {
     "name": "stderr",
     "output_type": "stream",
     "text": [
      "\u001b[32m[I 2022-03-31 15:56:41,990]\u001b[0m A new study created in memory with name: no-name-9de3d36b-1fe0-4c01-9c52-7a3a69ac6990\u001b[0m\n",
      "\u001b[32m[I 2022-03-31 15:56:43,439]\u001b[0m Trial 0 finished with value: 0.0 and parameters: {'n_estimators': 940, 'max_depth': 5, 'criterion': 'entropy'}. Best is trial 0 with value: 0.0.\u001b[0m\n",
      "\u001b[32m[I 2022-03-31 15:56:43,539]\u001b[0m Trial 1 finished with value: 0.0 and parameters: {'n_estimators': 64, 'max_depth': 4, 'criterion': 'gini'}. Best is trial 0 with value: 0.0.\u001b[0m\n",
      "\u001b[32m[I 2022-03-31 15:56:43,612]\u001b[0m Trial 2 finished with value: 0.0 and parameters: {'n_estimators': 49, 'max_depth': 2, 'criterion': 'gini'}. Best is trial 0 with value: 0.0.\u001b[0m\n",
      "\u001b[32m[I 2022-03-31 15:56:43,939]\u001b[0m Trial 3 finished with value: 0.0 and parameters: {'n_estimators': 239, 'max_depth': 2, 'criterion': 'gini'}. Best is trial 0 with value: 0.0.\u001b[0m\n",
      "\u001b[32m[I 2022-03-31 15:56:45,077]\u001b[0m Trial 4 finished with value: 0.0 and parameters: {'n_estimators': 742, 'max_depth': 3, 'criterion': 'entropy'}. Best is trial 0 with value: 0.0.\u001b[0m\n",
      "\u001b[32m[I 2022-03-31 15:56:50,498]\u001b[0m Trial 5 finished with value: 0.12021857923497267 and parameters: {'n_estimators': 847, 'max_depth': 97, 'criterion': 'gini'}. Best is trial 5 with value: 0.12021857923497267.\u001b[0m\n",
      "\u001b[32m[I 2022-03-31 15:56:51,640]\u001b[0m Trial 6 finished with value: 0.0 and parameters: {'n_estimators': 641, 'max_depth': 8, 'criterion': 'entropy'}. Best is trial 5 with value: 0.12021857923497267.\u001b[0m\n",
      "\u001b[32m[I 2022-03-31 15:56:53,651]\u001b[0m Trial 7 finished with value: 0.01639344262295082 and parameters: {'n_estimators': 624, 'max_depth': 27, 'criterion': 'gini'}. Best is trial 5 with value: 0.12021857923497267.\u001b[0m\n",
      "\u001b[32m[I 2022-03-31 15:56:57,296]\u001b[0m Trial 8 finished with value: 0.04411764705882353 and parameters: {'n_estimators': 886, 'max_depth': 39, 'criterion': 'gini'}. Best is trial 5 with value: 0.12021857923497267.\u001b[0m\n",
      "\u001b[32m[I 2022-03-31 15:56:58,849]\u001b[0m Trial 9 finished with value: 0.0 and parameters: {'n_estimators': 891, 'max_depth': 8, 'criterion': 'entropy'}. Best is trial 5 with value: 0.12021857923497267.\u001b[0m\n",
      "\u001b[32m[I 2022-03-31 15:57:01,585]\u001b[0m Trial 10 finished with value: 0.11956521739130434 and parameters: {'n_estimators': 388, 'max_depth': 100, 'criterion': 'gini'}. Best is trial 5 with value: 0.12021857923497267.\u001b[0m\n",
      "\u001b[32m[I 2022-03-31 15:57:04,283]\u001b[0m Trial 11 finished with value: 0.11827956989247311 and parameters: {'n_estimators': 389, 'max_depth': 124, 'criterion': 'gini'}. Best is trial 5 with value: 0.12021857923497267.\u001b[0m\n",
      "\u001b[32m[I 2022-03-31 15:57:07,166]\u001b[0m Trial 12 finished with value: 0.1208791208791209 and parameters: {'n_estimators': 422, 'max_depth': 94, 'criterion': 'gini'}. Best is trial 12 with value: 0.1208791208791209.\u001b[0m\n",
      "\u001b[32m[I 2022-03-31 15:57:09,805]\u001b[0m Trial 13 finished with value: 0.08974358974358974 and parameters: {'n_estimators': 505, 'max_depth': 57, 'criterion': 'gini'}. Best is trial 12 with value: 0.1208791208791209.\u001b[0m\n",
      "\u001b[32m[I 2022-03-31 15:57:10,539]\u001b[0m Trial 14 finished with value: 0.016806722689075633 and parameters: {'n_estimators': 263, 'max_depth': 20, 'criterion': 'gini'}. Best is trial 12 with value: 0.1208791208791209.\u001b[0m\n",
      "\u001b[32m[I 2022-03-31 15:57:15,019]\u001b[0m Trial 15 finished with value: 0.11904761904761905 and parameters: {'n_estimators': 775, 'max_depth': 66, 'criterion': 'gini'}. Best is trial 12 with value: 0.1208791208791209.\u001b[0m\n",
      "\u001b[32m[I 2022-03-31 15:57:18,092]\u001b[0m Trial 16 finished with value: 0.08284023668639053 and parameters: {'n_estimators': 524, 'max_depth': 68, 'criterion': 'gini'}. Best is trial 12 with value: 0.1208791208791209.\u001b[0m\n",
      "\u001b[32m[I 2022-03-31 15:57:19,377]\u001b[0m Trial 17 finished with value: 0.030303030303030307 and parameters: {'n_estimators': 358, 'max_depth': 33, 'criterion': 'gini'}. Best is trial 12 with value: 0.1208791208791209.\u001b[0m\n",
      "\u001b[32m[I 2022-03-31 15:57:20,832]\u001b[0m Trial 18 finished with value: 0.0 and parameters: {'n_estimators': 635, 'max_depth': 13, 'criterion': 'entropy'}. Best is trial 12 with value: 0.1208791208791209.\u001b[0m\n",
      "\u001b[32m[I 2022-03-31 15:57:27,355]\u001b[0m Trial 19 finished with value: 0.11956521739130434 and parameters: {'n_estimators': 997, 'max_depth': 87, 'criterion': 'gini'}. Best is trial 12 with value: 0.1208791208791209.\u001b[0m\n"
     ]
    },
    {
     "name": "stdout",
     "output_type": "stream",
     "text": [
      "              precision    recall  f1-score   support\n",
      "\n",
      "           0       0.16      0.26      0.20       167\n",
      "           1       0.90      0.82      0.86      1334\n",
      "\n",
      "    accuracy                           0.76      1501\n",
      "   macro avg       0.53      0.54      0.53      1501\n",
      "weighted avg       0.82      0.76      0.78      1501\n",
      "\n"
     ]
    }
   ],
   "source": [
    "#Balanced data\n",
    "all_metrics.append(pipeline_rf(\"rf_b\",X_train_vec_b[0], y_train_b, X_valid_vec_b[0], y_valid_b, X_test_vec_b[0], y_test_b))"
   ]
  },
  {
   "cell_type": "markdown",
   "metadata": {},
   "source": [
    "### Com stemming"
   ]
  },
  {
   "cell_type": "code",
   "execution_count": 25,
   "metadata": {},
   "outputs": [
    {
     "name": "stderr",
     "output_type": "stream",
     "text": [
      "\u001b[32m[I 2022-03-31 15:59:16,350]\u001b[0m A new study created in memory with name: no-name-251c84ab-1d55-476f-9b1c-4e8fbcaf2858\u001b[0m\n",
      "\u001b[32m[I 2022-03-31 15:59:20,691]\u001b[0m Trial 0 finished with value: 0.07407407407407407 and parameters: {'n_estimators': 965, 'max_depth': 53, 'criterion': 'entropy'}. Best is trial 0 with value: 0.07407407407407407.\u001b[0m\n",
      "\u001b[32m[I 2022-03-31 15:59:22,864]\u001b[0m Trial 1 finished with value: 0.032520325203252036 and parameters: {'n_estimators': 598, 'max_depth': 35, 'criterion': 'entropy'}. Best is trial 0 with value: 0.07407407407407407.\u001b[0m\n",
      "\u001b[32m[I 2022-03-31 15:59:25,115]\u001b[0m Trial 2 finished with value: 0.016666666666666666 and parameters: {'n_estimators': 797, 'max_depth': 25, 'criterion': 'entropy'}. Best is trial 0 with value: 0.07407407407407407.\u001b[0m\n",
      "\u001b[32m[I 2022-03-31 15:59:26,030]\u001b[0m Trial 3 finished with value: 0.05882352941176471 and parameters: {'n_estimators': 286, 'max_depth': 33, 'criterion': 'gini'}. Best is trial 0 with value: 0.07407407407407407.\u001b[0m\n",
      "\u001b[32m[I 2022-03-31 15:59:28,390]\u001b[0m Trial 4 finished with value: 0.07462686567164178 and parameters: {'n_estimators': 547, 'max_depth': 50, 'criterion': 'entropy'}. Best is trial 4 with value: 0.07462686567164178.\u001b[0m\n",
      "\u001b[32m[I 2022-03-31 15:59:30,317]\u001b[0m Trial 5 finished with value: 0.0979020979020979 and parameters: {'n_estimators': 371, 'max_depth': 82, 'criterion': 'entropy'}. Best is trial 5 with value: 0.0979020979020979.\u001b[0m\n",
      "\u001b[32m[I 2022-03-31 15:59:31,198]\u001b[0m Trial 6 finished with value: 0.0 and parameters: {'n_estimators': 627, 'max_depth': 2, 'criterion': 'gini'}. Best is trial 5 with value: 0.0979020979020979.\u001b[0m\n",
      "\u001b[32m[I 2022-03-31 15:59:32,730]\u001b[0m Trial 7 finished with value: 0.0 and parameters: {'n_estimators': 893, 'max_depth': 9, 'criterion': 'gini'}. Best is trial 5 with value: 0.0979020979020979.\u001b[0m\n",
      "\u001b[32m[I 2022-03-31 15:59:34,531]\u001b[0m Trial 8 finished with value: 0.048 and parameters: {'n_estimators': 699, 'max_depth': 27, 'criterion': 'gini'}. Best is trial 5 with value: 0.0979020979020979.\u001b[0m\n",
      "\u001b[32m[I 2022-03-31 15:59:35,505]\u001b[0m Trial 9 finished with value: 0.0 and parameters: {'n_estimators': 669, 'max_depth': 4, 'criterion': 'entropy'}. Best is trial 5 with value: 0.0979020979020979.\u001b[0m\n",
      "\u001b[32m[I 2022-03-31 15:59:35,906]\u001b[0m Trial 10 finished with value: 0.09271523178807947 and parameters: {'n_estimators': 72, 'max_depth': 124, 'criterion': 'entropy'}. Best is trial 5 with value: 0.0979020979020979.\u001b[0m\n",
      "\u001b[32m[I 2022-03-31 15:59:36,118]\u001b[0m Trial 11 finished with value: 0.10256410256410256 and parameters: {'n_estimators': 36, 'max_depth': 108, 'criterion': 'entropy'}. Best is trial 11 with value: 0.10256410256410256.\u001b[0m\n",
      "\u001b[32m[I 2022-03-31 15:59:37,887]\u001b[0m Trial 12 finished with value: 0.09210526315789473 and parameters: {'n_estimators': 314, 'max_depth': 81, 'criterion': 'entropy'}. Best is trial 11 with value: 0.10256410256410256.\u001b[0m\n",
      "\u001b[32m[I 2022-03-31 15:59:37,998]\u001b[0m Trial 13 finished with value: 0.09090909090909091 and parameters: {'n_estimators': 17, 'max_depth': 122, 'criterion': 'entropy'}. Best is trial 11 with value: 0.10256410256410256.\u001b[0m\n",
      "\u001b[32m[I 2022-03-31 15:59:38,661]\u001b[0m Trial 14 finished with value: 0.0 and parameters: {'n_estimators': 348, 'max_depth': 10, 'criterion': 'entropy'}. Best is trial 11 with value: 0.10256410256410256.\u001b[0m\n",
      "\u001b[32m[I 2022-03-31 15:59:39,011]\u001b[0m Trial 15 finished with value: 0.016949152542372885 and parameters: {'n_estimators': 150, 'max_depth': 16, 'criterion': 'entropy'}. Best is trial 11 with value: 0.10256410256410256.\u001b[0m\n",
      "\u001b[32m[I 2022-03-31 15:59:41,466]\u001b[0m Trial 16 finished with value: 0.0979020979020979 and parameters: {'n_estimators': 475, 'max_depth': 67, 'criterion': 'entropy'}. Best is trial 11 with value: 0.10256410256410256.\u001b[0m\n",
      "\u001b[32m[I 2022-03-31 15:59:43,872]\u001b[0m Trial 17 finished with value: 0.10526315789473684 and parameters: {'n_estimators': 455, 'max_depth': 68, 'criterion': 'entropy'}. Best is trial 17 with value: 0.10526315789473684.\u001b[0m\n",
      "\u001b[32m[I 2022-03-31 15:59:44,150]\u001b[0m Trial 18 finished with value: 0.0 and parameters: {'n_estimators': 181, 'max_depth': 6, 'criterion': 'gini'}. Best is trial 17 with value: 0.10526315789473684.\u001b[0m\n",
      "\u001b[32m[I 2022-03-31 15:59:45,085]\u001b[0m Trial 19 finished with value: 0.0 and parameters: {'n_estimators': 454, 'max_depth': 14, 'criterion': 'entropy'}. Best is trial 17 with value: 0.10526315789473684.\u001b[0m\n"
     ]
    },
    {
     "name": "stdout",
     "output_type": "stream",
     "text": [
      "              precision    recall  f1-score   support\n",
      "\n",
      "           0       0.21      0.07      0.11       167\n",
      "           1       0.89      0.97      0.93      1334\n",
      "\n",
      "    accuracy                           0.87      1501\n",
      "   macro avg       0.55      0.52      0.52      1501\n",
      "weighted avg       0.82      0.87      0.84      1501\n",
      "\n"
     ]
    }
   ],
   "source": [
    "all_metrics.append(pipeline_rf(\"rf_st\",X_train_vec[1], y_train, X_valid_vec[1], y_valid, X_test_vec[1], y_test))"
   ]
  },
  {
   "cell_type": "code",
   "execution_count": 26,
   "metadata": {},
   "outputs": [
    {
     "name": "stderr",
     "output_type": "stream",
     "text": [
      "\u001b[32m[I 2022-03-31 15:59:48,118]\u001b[0m A new study created in memory with name: no-name-33cfd233-a2da-4307-9265-c269fb574187\u001b[0m\n",
      "\u001b[32m[I 2022-03-31 15:59:55,098]\u001b[0m Trial 0 finished with value: 0.15228426395939085 and parameters: {'n_estimators': 995, 'max_depth': 118, 'criterion': 'gini'}. Best is trial 0 with value: 0.15228426395939085.\u001b[0m\n",
      "\u001b[32m[I 2022-03-31 15:59:56,074]\u001b[0m Trial 1 finished with value: 0.0 and parameters: {'n_estimators': 410, 'max_depth': 13, 'criterion': 'entropy'}. Best is trial 0 with value: 0.15228426395939085.\u001b[0m\n",
      "\u001b[32m[I 2022-03-31 16:00:00,484]\u001b[0m Trial 2 finished with value: 0.07547169811320754 and parameters: {'n_estimators': 936, 'max_depth': 42, 'criterion': 'gini'}. Best is trial 0 with value: 0.15228426395939085.\u001b[0m\n",
      "\u001b[32m[I 2022-03-31 16:00:04,273]\u001b[0m Trial 3 finished with value: 0.028368794326241134 and parameters: {'n_estimators': 871, 'max_depth': 34, 'criterion': 'entropy'}. Best is trial 0 with value: 0.15228426395939085.\u001b[0m\n",
      "\u001b[32m[I 2022-03-31 16:00:05,264]\u001b[0m Trial 4 finished with value: 0.15609756097560976 and parameters: {'n_estimators': 170, 'max_depth': 71, 'criterion': 'gini'}. Best is trial 4 with value: 0.15609756097560976.\u001b[0m\n",
      "\u001b[32m[I 2022-03-31 16:00:05,776]\u001b[0m Trial 5 finished with value: 0.0 and parameters: {'n_estimators': 297, 'max_depth': 7, 'criterion': 'entropy'}. Best is trial 4 with value: 0.15609756097560976.\u001b[0m\n",
      "\u001b[32m[I 2022-03-31 16:00:08,107]\u001b[0m Trial 6 finished with value: 0.0 and parameters: {'n_estimators': 856, 'max_depth': 20, 'criterion': 'gini'}. Best is trial 4 with value: 0.15609756097560976.\u001b[0m\n",
      "\u001b[32m[I 2022-03-31 16:00:09,790]\u001b[0m Trial 7 finished with value: 0.015873015873015876 and parameters: {'n_estimators': 573, 'max_depth': 20, 'criterion': 'entropy'}. Best is trial 4 with value: 0.15609756097560976.\u001b[0m\n",
      "\u001b[32m[I 2022-03-31 16:00:10,065]\u001b[0m Trial 8 finished with value: 0.0 and parameters: {'n_estimators': 196, 'max_depth': 2, 'criterion': 'gini'}. Best is trial 4 with value: 0.15609756097560976.\u001b[0m\n",
      "\u001b[32m[I 2022-03-31 16:00:11,090]\u001b[0m Trial 9 finished with value: 0.0 and parameters: {'n_estimators': 708, 'max_depth': 2, 'criterion': 'entropy'}. Best is trial 4 with value: 0.15609756097560976.\u001b[0m\n",
      "\u001b[32m[I 2022-03-31 16:00:11,200]\u001b[0m Trial 10 finished with value: 0.16842105263157894 and parameters: {'n_estimators': 14, 'max_depth': 111, 'criterion': 'gini'}. Best is trial 10 with value: 0.16842105263157894.\u001b[0m\n",
      "\u001b[32m[I 2022-03-31 16:00:11,263]\u001b[0m Trial 11 finished with value: 0.175 and parameters: {'n_estimators': 8, 'max_depth': 127, 'criterion': 'gini'}. Best is trial 11 with value: 0.175.\u001b[0m\n",
      "\u001b[32m[I 2022-03-31 16:00:11,344]\u001b[0m Trial 12 finished with value: 0.13291139240506328 and parameters: {'n_estimators': 10, 'max_depth': 123, 'criterion': 'gini'}. Best is trial 11 with value: 0.175.\u001b[0m\n",
      "\u001b[32m[I 2022-03-31 16:00:11,434]\u001b[0m Trial 13 finished with value: 0.09039548022598871 and parameters: {'n_estimators': 13, 'max_depth': 62, 'criterion': 'gini'}. Best is trial 11 with value: 0.175.\u001b[0m\n",
      "\u001b[32m[I 2022-03-31 16:00:11,711]\u001b[0m Trial 14 finished with value: 0.0 and parameters: {'n_estimators': 162, 'max_depth': 6, 'criterion': 'gini'}. Best is trial 11 with value: 0.175.\u001b[0m\n",
      "\u001b[32m[I 2022-03-31 16:00:13,908]\u001b[0m Trial 15 finished with value: 0.1352657004830918 and parameters: {'n_estimators': 388, 'max_depth': 67, 'criterion': 'gini'}. Best is trial 11 with value: 0.175.\u001b[0m\n",
      "\u001b[32m[I 2022-03-31 16:00:14,697]\u001b[0m Trial 16 finished with value: 0.13023255813953485 and parameters: {'n_estimators': 116, 'max_depth': 127, 'criterion': 'gini'}. Best is trial 11 with value: 0.175.\u001b[0m\n",
      "\u001b[32m[I 2022-03-31 16:00:16,131]\u001b[0m Trial 17 finished with value: 0.08695652173913043 and parameters: {'n_estimators': 309, 'max_depth': 40, 'criterion': 'gini'}. Best is trial 11 with value: 0.175.\u001b[0m\n",
      "\u001b[32m[I 2022-03-31 16:00:19,749]\u001b[0m Trial 18 finished with value: 0.12999999999999998 and parameters: {'n_estimators': 556, 'max_depth': 76, 'criterion': 'gini'}. Best is trial 11 with value: 0.175.\u001b[0m\n",
      "\u001b[32m[I 2022-03-31 16:00:20,064]\u001b[0m Trial 19 finished with value: 0.029411764705882356 and parameters: {'n_estimators': 87, 'max_depth': 26, 'criterion': 'gini'}. Best is trial 11 with value: 0.175.\u001b[0m\n"
     ]
    },
    {
     "name": "stdout",
     "output_type": "stream",
     "text": [
      "              precision    recall  f1-score   support\n",
      "\n",
      "           0       0.14      0.18      0.16       167\n",
      "           1       0.89      0.86      0.88      1334\n",
      "\n",
      "    accuracy                           0.79      1501\n",
      "   macro avg       0.52      0.52      0.52      1501\n",
      "weighted avg       0.81      0.79      0.80      1501\n",
      "\n"
     ]
    }
   ],
   "source": [
    "all_metrics.append(pipeline_rf(\"rf_b_st\",X_train_vec_b[1], y_train_b, X_valid_vec_b[1], y_valid_b, X_test_vec_b[1], y_test_b))"
   ]
  },
  {
   "cell_type": "markdown",
   "metadata": {},
   "source": [
    "## Redes (CNN, LSTM e BERT)"
   ]
  },
  {
   "cell_type": "code",
   "execution_count": 9,
   "metadata": {},
   "outputs": [],
   "source": [
    "def pipeline_cnn_lstm(tuner_name,X_train, y_train, X_valid, y_valid, X_test, y_test):\n",
    "\n",
    "    type_nn = tuner_name[:3]\n",
    "   \n",
    "    #Encoding sentences\n",
    "    encoder = networks.sentence_encoder(X_train)\n",
    "\n",
    "    #Finding best parameters\n",
    "    tuner = networks.network_tuner(type_nn, encoder, tuner_name)\n",
    "    \n",
    "    best_hp = networks.search_network(tuner, X_train, y_train, X_valid, y_valid)\n",
    "\n",
    "    #Loading best model\n",
    "    model = networks.get_model(tuner, best_hp)\n",
    "    stop_early = tf.keras.callbacks.EarlyStopping(monitor='val_loss', patience=5)\n",
    "    history = model.fit(X_train, y_train, epochs=50, validation_data = (X_valid, y_valid), callbacks=[stop_early])\n",
    "\n",
    "    #Getting test results\n",
    "    result = networks.get_test_metrics(model, X_test, y_test)\n",
    "    networks.plot_acuracy_loss(history)\n",
    "\n",
    "    metrics = calc_metrics(y_test, result, tuner_name)\n",
    "    return metrics"
   ]
  },
  {
   "cell_type": "markdown",
   "metadata": {},
   "source": [
    "### CNN"
   ]
  },
  {
   "cell_type": "markdown",
   "metadata": {},
   "source": [
    "#### Sem stemming"
   ]
  },
  {
   "cell_type": "code",
   "execution_count": 10,
   "metadata": {},
   "outputs": [
    {
     "name": "stdout",
     "output_type": "stream",
     "text": [
      "INFO:tensorflow:Reloading Oracle from existing project tuner\\cnn\\oracle.json\n",
      "INFO:tensorflow:Reloading Tuner from tuner\\cnn\\tuner0.json\n",
      "Search space summary\n",
      "Default search space size: 2\n",
      "dropout_1 (Float)\n",
      "{'default': 0.25, 'conditions': [], 'min_value': 0.0, 'max_value': 0.5, 'step': 0.05, 'sampling': None}\n",
      "learning_rate (Choice)\n",
      "{'default': 0.01, 'conditions': [], 'values': [0.01, 0.001, 0.0001], 'ordered': True}\n",
      "None\n",
      "INFO:tensorflow:Oracle triggered exit\n",
      "Model: \"sequential_1\"\n",
      "_________________________________________________________________\n",
      "Layer (type)                 Output Shape              Param #   \n",
      "=================================================================\n",
      "text_vectorization (TextVect (None, None)              0         \n",
      "_________________________________________________________________\n",
      "embedding_1 (Embedding)      (None, None, 64)          64000     \n",
      "_________________________________________________________________\n",
      "conv1d_1 (Conv1D)            (None, None, 32)          16416     \n",
      "_________________________________________________________________\n",
      "max_pooling1d_1 (MaxPooling1 (None, None, 32)          0         \n",
      "_________________________________________________________________\n",
      "global_max_pooling1d_1 (Glob (None, 32)                0         \n",
      "_________________________________________________________________\n",
      "dense_1 (Dense)              (None, 1)                 33        \n",
      "=================================================================\n",
      "Total params: 80,449\n",
      "Trainable params: 80,449\n",
      "Non-trainable params: 0\n",
      "_________________________________________________________________\n",
      "None\n",
      "Epoch 1/50\n"
     ]
    },
    {
     "name": "stderr",
     "output_type": "stream",
     "text": [
      "C:\\Users\\mcso\\anaconda3\\envs\\tf_gpu\\lib\\site-packages\\keras\\backend.py:4993: UserWarning: \"`binary_crossentropy` received `from_logits=True`, but the `output` argument was produced by a sigmoid or softmax activation and thus does not represent logits. Was this intended?\"\n",
      "  warnings.warn(\n"
     ]
    },
    {
     "name": "stdout",
     "output_type": "stream",
     "text": [
      "77/77 [==============================] - ETA: 0s - loss: 0.3107 - accuracy: 0.8825"
     ]
    },
    {
     "name": "stderr",
     "output_type": "stream",
     "text": [
      "C:\\Users\\mcso\\anaconda3\\envs\\tf_gpu\\lib\\site-packages\\keras\\backend.py:4993: UserWarning: \"`binary_crossentropy` received `from_logits=True`, but the `output` argument was produced by a sigmoid or softmax activation and thus does not represent logits. Was this intended?\"\n",
      "  warnings.warn(\n"
     ]
    },
    {
     "name": "stdout",
     "output_type": "stream",
     "text": [
      "77/77 [==============================] - 11s 103ms/step - loss: 0.3107 - accuracy: 0.8825 - val_loss: 0.2721 - val_accuracy: 0.8972\n",
      "Epoch 2/50\n",
      "77/77 [==============================] - 2s 21ms/step - loss: 0.1746 - accuracy: 0.9347 - val_loss: 0.2952 - val_accuracy: 0.8811\n",
      "Epoch 3/50\n",
      "77/77 [==============================] - 1s 17ms/step - loss: 0.0749 - accuracy: 0.9702 - val_loss: 0.3424 - val_accuracy: 0.8963\n",
      "Epoch 4/50\n",
      "77/77 [==============================] - 1s 14ms/step - loss: 0.0251 - accuracy: 0.9902 - val_loss: 0.4422 - val_accuracy: 0.9020\n",
      "Epoch 5/50\n",
      "77/77 [==============================] - 1s 14ms/step - loss: 0.0072 - accuracy: 0.9984 - val_loss: 0.5474 - val_accuracy: 0.8991\n",
      "Epoch 6/50\n",
      "77/77 [==============================] - 1s 10ms/step - loss: 0.0044 - accuracy: 0.9988 - val_loss: 0.6362 - val_accuracy: 0.9049\n",
      "47/47 [==============================] - 1s 25ms/step - loss: 0.6876 - accuracy: 0.8967\n",
      "Test Loss: 0.687615156173706\n",
      "Test Accuracy: 0.8967354893684387\n",
      "              precision    recall  f1-score   support\n",
      "\n",
      "           0       0.58      0.25      0.35       167\n",
      "           1       0.91      0.98      0.94      1334\n",
      "\n",
      "    accuracy                           0.90      1501\n",
      "   macro avg       0.75      0.61      0.65      1501\n",
      "weighted avg       0.88      0.90      0.88      1501\n",
      "\n",
      "[[  42  125]\n",
      " [  30 1304]]\n"
     ]
    },
    {
     "data": {
      "image/png": "[encoded data removed]",
      "text/plain": [
       "<Figure size 1152x576 with 2 Axes>"
      ]
     },
     "metadata": {
      "needs_background": "light"
     },
     "output_type": "display_data"
    }
   ],
   "source": [
    "# Desbalanceado\n",
    "all_metrics.append(pipeline_cnn_lstm(\"cnn\",X_train_join[0], y_train, X_valid_join[0], y_valid, X_test_join[0], y_test))"
   ]
  },
  {
   "cell_type": "code",
   "execution_count": null,
   "metadata": {},
   "outputs": [],
   "source": [
    "# Balanceado\n",
    "all_metrics.append(pipeline_cnn_lstm(\"cnn_b\",X_train_join_b[0], y_train_b, X_valid_join_b[0], y_valid_b, X_test_join_b[0], y_test_b))"
   ]
  },
  {
   "cell_type": "markdown",
   "metadata": {},
   "source": [
    "#### Com stemming"
   ]
  },
  {
   "cell_type": "code",
   "execution_count": null,
   "metadata": {},
   "outputs": [],
   "source": [
    "#Desbalanceado\n",
    "all_metrics.append(pipeline_cnn_lstm(\"cnn_st\",X_train_join[1], y_train, X_valid_join[1], y_valid, X_test_join[1], y_test))"
   ]
  },
  {
   "cell_type": "code",
   "execution_count": null,
   "metadata": {},
   "outputs": [],
   "source": [
    "#Balanceado\n",
    "all_metrics.append(pipeline_cnn_lstm(\"cnn_b_st\",X_train_join_b[1], y_train_b, X_valid_join_b[1], y_valid_b, X_test_join_b[1], y_test_b))"
   ]
  },
  {
   "cell_type": "markdown",
   "metadata": {},
   "source": [
    "### LSTM"
   ]
  },
  {
   "cell_type": "markdown",
   "metadata": {},
   "source": [
    "#### Sem stemming"
   ]
  },
  {
   "cell_type": "code",
   "execution_count": 12,
   "metadata": {},
   "outputs": [
    {
     "name": "stdout",
     "output_type": "stream",
     "text": [
      "Trial 3 Complete [00h 00m 19s]\n",
      "val_accuracy: 0.8886774778366089\n",
      "\n",
      "Best val_accuracy So Far: 0.9096099138259888\n",
      "Total elapsed time: 00h 00m 59s\n",
      "INFO:tensorflow:Oracle triggered exit\n",
      "Model: \"sequential_1\"\n",
      "_________________________________________________________________\n",
      "Layer (type)                 Output Shape              Param #   \n",
      "=================================================================\n",
      "text_vectorization_1 (TextVe (None, None)              0         \n",
      "_________________________________________________________________\n",
      "embedding_1 (Embedding)      (None, None, 64)          64000     \n",
      "_________________________________________________________________\n",
      "bidirectional_1 (Bidirection (None, 128)               66048     \n",
      "_________________________________________________________________\n",
      "dense_1 (Dense)              (None, 1)                 129       \n",
      "=================================================================\n",
      "Total params: 130,177\n",
      "Trainable params: 130,177\n",
      "Non-trainable params: 0\n",
      "_________________________________________________________________\n",
      "None\n",
      "Epoch 1/50\n",
      "75/77 [============================>.] - ETA: 0s - loss: 0.4253 - accuracy: 0.8842"
     ]
    },
    {
     "name": "stderr",
     "output_type": "stream",
     "text": [
      "C:\\Users\\mcso\\anaconda3\\envs\\tf_gpu\\lib\\site-packages\\keras\\backend.py:4993: UserWarning: \"`binary_crossentropy` received `from_logits=True`, but the `output` argument was produced by a sigmoid or softmax activation and thus does not represent logits. Was this intended?\"\n",
      "  warnings.warn(\n"
     ]
    },
    {
     "name": "stdout",
     "output_type": "stream",
     "text": [
      "77/77 [==============================] - 13s 69ms/step - loss: 0.4208 - accuracy: 0.8849 - val_loss: 0.3058 - val_accuracy: 0.8887\n",
      "Epoch 2/50\n",
      "77/77 [==============================] - 2s 31ms/step - loss: 0.2383 - accuracy: 0.9053 - val_loss: 0.2367 - val_accuracy: 0.9106\n",
      "Epoch 3/50\n",
      "77/77 [==============================] - 2s 32ms/step - loss: 0.1643 - accuracy: 0.9315 - val_loss: 0.2494 - val_accuracy: 0.9106\n",
      "Epoch 4/50\n",
      "77/77 [==============================] - 2s 32ms/step - loss: 0.1246 - accuracy: 0.9535 - val_loss: 0.2624 - val_accuracy: 0.9049\n",
      "Epoch 5/50\n",
      "77/77 [==============================] - 2s 33ms/step - loss: 0.0947 - accuracy: 0.9653 - val_loss: 0.2931 - val_accuracy: 0.8963\n",
      "Epoch 6/50\n",
      "77/77 [==============================] - 2s 32ms/step - loss: 0.0741 - accuracy: 0.9723 - val_loss: 0.3215 - val_accuracy: 0.8991\n",
      "Epoch 7/50\n",
      "77/77 [==============================] - 3s 33ms/step - loss: 0.0519 - accuracy: 0.9816 - val_loss: 0.4126 - val_accuracy: 0.8963\n",
      "47/47 [==============================] - 1s 12ms/step - loss: 0.4465 - accuracy: 0.8847\n",
      "Test Loss: 0.446540892124176\n",
      "Test Accuracy: 0.8847435116767883\n",
      "              precision    recall  f1-score   support\n",
      "\n",
      "           0       0.47      0.35      0.40       167\n",
      "           1       0.92      0.95      0.94      1334\n",
      "\n",
      "    accuracy                           0.88      1501\n",
      "   macro avg       0.70      0.65      0.67      1501\n",
      "weighted avg       0.87      0.88      0.88      1501\n",
      "\n",
      "[[  59  108]\n",
      " [  66 1268]]\n"
     ]
    },
    {
     "data": {
      "text/plain": [
       "('lstm',\n",
       " 0.8840772818121253,\n",
       " 0.4041095890410959,\n",
       " 0.9357933579335793,\n",
       " 0.8766386681234228)"
      ]
     },
     "execution_count": 12,
     "metadata": {},
     "output_type": "execute_result"
    },
    {
     "data": {
      "image/png": "[encoded data removed]",
      "text/plain": [
       "<Figure size 1152x576 with 2 Axes>"
      ]
     },
     "metadata": {
      "needs_background": "light"
     },
     "output_type": "display_data"
    }
   ],
   "source": [
    "# Desbalanceado\n",
    "all_metrics.append(pipeline_cnn_lstm(\"lstm\",X_train_join[0], y_train, X_valid_join[0], y_valid, X_test_join[0], y_test))"
   ]
  },
  {
   "cell_type": "code",
   "execution_count": null,
   "metadata": {},
   "outputs": [],
   "source": [
    "# Balanceado\n",
    "all_metrics.append(pipeline_cnn_lstm(\"lstm_b\",X_train_join_b[0], y_train_b, X_valid_join_b[0], y_valid_b, X_test_join_b[0], y_test_b))"
   ]
  },
  {
   "cell_type": "markdown",
   "metadata": {},
   "source": [
    "#### Com stemming"
   ]
  },
  {
   "cell_type": "code",
   "execution_count": null,
   "metadata": {},
   "outputs": [],
   "source": [
    "#Desbalanceado\n",
    "all_metrics.append(pipeline_cnn_lstm(\"lstm_st\",X_train_join[1], y_train, X_valid_join[1], y_valid, X_test_join[1], y_test))"
   ]
  },
  {
   "cell_type": "code",
   "execution_count": null,
   "metadata": {},
   "outputs": [],
   "source": [
    "#Balanceado\n",
    "all_metrics.append(pipeline_cnn_lstm(\"lstm_b_st\",X_train_join_b[1], y_train_b, X_valid_join_b[1], y_valid_b, X_test_join_b[1], y_test_b))"
   ]
  },
  {
   "cell_type": "markdown",
   "metadata": {},
   "source": [
    "### BERT"
   ]
  },
  {
   "cell_type": "code",
   "execution_count": 13,
   "metadata": {},
   "outputs": [],
   "source": [
    "from transformers import TFBertForSequenceClassification\n",
    "\n",
    "def pipeline_bert(name, X_train, y_train, X_valid, y_valid, X_test, y_test):\n",
    "\n",
    "    learning_rate = 2e-5\n",
    "    number_of_epochs = 1\n",
    "    ds_train, ds_valid, ds_test = bert.get_bert_data(X_train, y_train, X_valid, y_valid, X_test, y_test)\n",
    "    \n",
    "    # model initialization\n",
    "    model = TFBertForSequenceClassification.from_pretrained('bert-base-portuguese-cased', from_pt = True)\n",
    "\n",
    "    # choosing Adam optimizer\n",
    "    optimizer = tf.keras.optimizers.Adam(learning_rate=learning_rate, epsilon=1e-08)\n",
    "    loss = tf.keras.losses.SparseCategoricalCrossentropy(from_logits=True)\n",
    "    metric = tf.keras.metrics.SparseCategoricalAccuracy('accuracy')\n",
    "    model.compile(optimizer=optimizer, loss=loss, metrics=[metric])\n",
    "\n",
    "    #Training model\n",
    "    bert_history = model.fit(ds_train, epochs=number_of_epochs, validation_data=ds_valid)\n",
    "\n",
    "    #Predict test data\n",
    "    result = bert.get_test_metrics(model, ds_test, y_test)\n",
    "\n",
    "    metrics = calc_metrics(y_test, result, name)\n",
    "    return metrics\n",
    "    "
   ]
  },
  {
   "cell_type": "markdown",
   "metadata": {},
   "source": [
    "#### Sem stemming"
   ]
  },
  {
   "cell_type": "code",
   "execution_count": 14,
   "metadata": {},
   "outputs": [
    {
     "name": "stderr",
     "output_type": "stream",
     "text": [
      "Truncation was not explicitly activated but `max_length` is provided a specific value, please use `truncation=True` to explicitly truncate examples to max length. Defaulting to 'longest_first' truncation strategy. If you encode pairs of sequences (GLUE-style) with the tokenizer you can select this strategy more precisely by providing a specific strategy to `truncation`.\n",
      "C:\\Users\\mcso\\anaconda3\\envs\\tf_gpu\\lib\\site-packages\\transformers\\tokenization_utils_base.py:2251: FutureWarning: The `pad_to_max_length` argument is deprecated and will be removed in a future version, use `padding=True` or `padding='longest'` to pad to the longest sequence in the batch, or use `padding='max_length'` to pad to a max length. In this case, you can give a specific length with `max_length` (e.g. `max_length=45`) or leave max_length to None to pad to the maximal input size of the model (e.g. 512 for Bert).\n",
      "  warnings.warn(\n",
      "All PyTorch model weights were used when initializing TFBertForSequenceClassification.\n",
      "\n",
      "Some weights or buffers of the TF 2.0 model TFBertForSequenceClassification were not initialized from the PyTorch model and are newly initialized: ['classifier.weight', 'classifier.bias']\n",
      "You should probably TRAIN this model on a down-stream task to be able to use it for predictions and inference.\n"
     ]
    },
    {
     "name": "stdout",
     "output_type": "stream",
     "text": [
      "100/100 [==============================] - 57s 384ms/step - loss: 0.4441 - accuracy: 0.8500 - val_loss: 0.2965 - val_accuracy: 0.9000\n",
      "[1 1 1 1 1 1 1 1 1 1 1 1 1 1 1 1 1 1 1 1 1 1 1 1 1 1 1 1 1 1 1 1 1 1 1 1 1\n",
      " 1 1 1 1 1 1 1 1 1 1 1 1 1 1 1 1 1 1 1 1 1 1 1 1 1 1 1 1 1 1 1 1 1 1 1 1 1\n",
      " 1 1 1 1 1 1 1 1 1 1 1 1 1 1 1 1 1 1 1 1 1 1 1 1 1 1]\n",
      "              precision    recall  f1-score   support\n",
      "\n",
      "           0       0.00      0.00      0.00        12\n",
      "           1       0.88      1.00      0.94        88\n",
      "\n",
      "    accuracy                           0.88       100\n",
      "   macro avg       0.44      0.50      0.47       100\n",
      "weighted avg       0.77      0.88      0.82       100\n",
      "\n",
      "[[ 0 12]\n",
      " [ 0 88]]\n"
     ]
    },
    {
     "name": "stderr",
     "output_type": "stream",
     "text": [
      "C:\\Users\\mcso\\anaconda3\\envs\\tf_gpu\\lib\\site-packages\\sklearn\\metrics\\_classification.py:1318: UndefinedMetricWarning: Precision and F-score are ill-defined and being set to 0.0 in labels with no predicted samples. Use `zero_division` parameter to control this behavior.\n",
      "  _warn_prf(average, modifier, msg_start, len(result))\n",
      "C:\\Users\\mcso\\anaconda3\\envs\\tf_gpu\\lib\\site-packages\\sklearn\\metrics\\_classification.py:1318: UndefinedMetricWarning: Precision and F-score are ill-defined and being set to 0.0 in labels with no predicted samples. Use `zero_division` parameter to control this behavior.\n",
      "  _warn_prf(average, modifier, msg_start, len(result))\n",
      "C:\\Users\\mcso\\anaconda3\\envs\\tf_gpu\\lib\\site-packages\\sklearn\\metrics\\_classification.py:1318: UndefinedMetricWarning: Precision and F-score are ill-defined and being set to 0.0 in labels with no predicted samples. Use `zero_division` parameter to control this behavior.\n",
      "  _warn_prf(average, modifier, msg_start, len(result))\n"
     ]
    }
   ],
   "source": [
    "#Unbalanced data\n",
    "all_metrics.append(pipeline_bert(\"bert\", X_train_join[0], y_train, X_valid_join[0], y_valid, X_test_join[0], y_test))"
   ]
  },
  {
   "cell_type": "code",
   "execution_count": null,
   "metadata": {},
   "outputs": [],
   "source": [
    "#Unbalanced data\n",
    "all_metrics.append(pipeline_bert(\"bert\", X_train_join_b[0], y_train_b, X_valid_join_b[0], y_valid_b, X_test_join_b[0], y_test_b))"
   ]
  },
  {
   "cell_type": "markdown",
   "metadata": {},
   "source": [
    "#### Com stemming"
   ]
  },
  {
   "cell_type": "code",
   "execution_count": null,
   "metadata": {},
   "outputs": [],
   "source": [
    "#Unbalanced data\n",
    "all_metrics.append(pipeline_bert(\"bert_st\",X_train_join[1], y_train, X_valid_join[1], y_valid, X_test_join[1], y_test))"
   ]
  },
  {
   "cell_type": "code",
   "execution_count": null,
   "metadata": {},
   "outputs": [],
   "source": [
    "#Balanced data\n",
    "all_metrics.append(pipeline_bert(\"bert_b_st\", X_train_join_b[1], y_train_b, X_valid_join_b[1], y_valid_b, X_test_join_b[1], y_test_b))"
   ]
  },
  {
   "cell_type": "markdown",
   "metadata": {},
   "source": [
    "#### Salvando resultados das métricas"
   ]
  },
  {
   "cell_type": "code",
   "execution_count": 48,
   "metadata": {},
   "outputs": [],
   "source": [
    "df_metrics = pd.DataFrame(all_metrics, columns=['name', 'accuracy', 'f1_0', 'f1_1', 'f1_w','predictions'])\n",
    "df_metrics.to_csv(\"metrics.csv\", index= False)"
   ]
  },
  {
   "cell_type": "code",
   "execution_count": 49,
   "metadata": {},
   "outputs": [],
   "source": [
    "df = pd.read_csv(\"metrics.csv\")"
   ]
  },
  {
   "cell_type": "code",
   "execution_count": 50,
   "metadata": {},
   "outputs": [
    {
     "data": {
      "text/html": [
       "<div>\n",
       "<style scoped>\n",
       "    .dataframe tbody tr th:only-of-type {\n",
       "        vertical-align: middle;\n",
       "    }\n",
       "\n",
       "    .dataframe tbody tr th {\n",
       "        vertical-align: top;\n",
       "    }\n",
       "\n",
       "    .dataframe thead th {\n",
       "        text-align: right;\n",
       "    }\n",
       "</style>\n",
       "<table border=\"1\" class=\"dataframe\">\n",
       "  <thead>\n",
       "    <tr style=\"text-align: right;\">\n",
       "      <th></th>\n",
       "      <th>name</th>\n",
       "      <th>accuracy</th>\n",
       "      <th>f1_0</th>\n",
       "      <th>f1_1</th>\n",
       "      <th>f1_w</th>\n",
       "      <th>predictions</th>\n",
       "    </tr>\n",
       "  </thead>\n",
       "  <tbody>\n",
       "    <tr>\n",
       "      <th>0</th>\n",
       "      <td>rf</td>\n",
       "      <td>0.87475</td>\n",
       "      <td>0.121495</td>\n",
       "      <td>0.932568</td>\n",
       "      <td>0.842329</td>\n",
       "      <td>[1, 1, 0, 1, 1, 1, 1, 1, 1, 1, 1, 1, 1, 1, 1, ...</td>\n",
       "    </tr>\n",
       "  </tbody>\n",
       "</table>\n",
       "</div>"
      ],
      "text/plain": [
       "  name  accuracy      f1_0      f1_1      f1_w  \\\n",
       "0   rf   0.87475  0.121495  0.932568  0.842329   \n",
       "\n",
       "                                         predictions  \n",
       "0  [1, 1, 0, 1, 1, 1, 1, 1, 1, 1, 1, 1, 1, 1, 1, ...  "
      ]
     },
     "execution_count": 50,
     "metadata": {},
     "output_type": "execute_result"
    }
   ],
   "source": [
    "df.head()"
   ]
  },
  {
   "cell_type": "markdown",
   "metadata": {},
   "source": [
    "## Clustering para encontrar as reviews mais representativas"
   ]
  },
  {
   "cell_type": "code",
   "execution_count": null,
   "metadata": {},
   "outputs": [],
   "source": [
    "df_cluster = df_pp[[\"reviews\", \"reviews_pipeline_0\", \"class\"]]\n",
    "\n",
    "X_join = df_cluster[\"reviews_pipeline_0\"].apply(\" \".join)\n",
    "X_join = X_join.to_numpy()\n",
    "\n",
    "vectorizer = CountVectorizer(analyzer = \"word\",   \n",
    "                             tokenizer = None,    \n",
    "                             preprocessor = None, \n",
    "                             stop_words = None,   \n",
    "                             max_features = 2000) \n",
    "\n",
    "\n",
    "bow_vec = vectorizer.fit_transform(X_join)"
   ]
  },
  {
   "cell_type": "code",
   "execution_count": 19,
   "metadata": {},
   "outputs": [
    {
     "ename": "NameError",
     "evalue": "name 'vectorizer' is not defined",
     "output_type": "error",
     "traceback": [
      "\u001b[1;31m---------------------------------------------------------------------------\u001b[0m",
      "\u001b[1;31mNameError\u001b[0m                                 Traceback (most recent call last)",
      "\u001b[1;32m~\\AppData\\Local\\Temp/ipykernel_9100/2672300398.py\u001b[0m in \u001b[0;36m<module>\u001b[1;34m\u001b[0m\n\u001b[1;32m----> 1\u001b[1;33m \u001b[0mwords\u001b[0m \u001b[1;33m=\u001b[0m \u001b[0mvectorizer\u001b[0m\u001b[1;33m.\u001b[0m\u001b[0mget_feature_names\u001b[0m\u001b[1;33m(\u001b[0m\u001b[1;33m)\u001b[0m\u001b[1;33m\u001b[0m\u001b[1;33m\u001b[0m\u001b[0m\n\u001b[0m\u001b[0;32m      2\u001b[0m \u001b[1;33m\u001b[0m\u001b[0m\n\u001b[0;32m      3\u001b[0m \u001b[0mkmeans\u001b[0m \u001b[1;33m=\u001b[0m \u001b[0mKMeans\u001b[0m\u001b[1;33m(\u001b[0m\u001b[0mn_clusters\u001b[0m \u001b[1;33m=\u001b[0m \u001b[1;36m2\u001b[0m\u001b[1;33m,\u001b[0m \u001b[0mrandom_state\u001b[0m \u001b[1;33m=\u001b[0m \u001b[1;36m420\u001b[0m\u001b[1;33m)\u001b[0m\u001b[1;33m\u001b[0m\u001b[1;33m\u001b[0m\u001b[0m\n\u001b[0;32m      4\u001b[0m \u001b[1;33m\u001b[0m\u001b[0m\n\u001b[0;32m      5\u001b[0m \u001b[0mkmeans\u001b[0m\u001b[1;33m.\u001b[0m\u001b[0mfit\u001b[0m\u001b[1;33m(\u001b[0m\u001b[0mbow_vec\u001b[0m\u001b[1;33m)\u001b[0m\u001b[1;33m\u001b[0m\u001b[1;33m\u001b[0m\u001b[0m\n",
      "\u001b[1;31mNameError\u001b[0m: name 'vectorizer' is not defined"
     ]
    }
   ],
   "source": [
    "words = vectorizer.get_feature_names()\n",
    "\n",
    "kmeans = KMeans(n_clusters = 2, random_state = 420)\n",
    "\n",
    "kmeans.fit(bow_vec)"
   ]
  },
  {
   "cell_type": "code",
   "execution_count": null,
   "metadata": {},
   "outputs": [],
   "source": [
    "kmeans.cluster_centers_"
   ]
  },
  {
   "cell_type": "markdown",
   "metadata": {},
   "source": [
    "#### Achar os n mais proximos"
   ]
  },
  {
   "cell_type": "markdown",
   "metadata": {},
   "source": [
    "- Reviews mais próximas do centróide da classe 0 (Ruim)"
   ]
  },
  {
   "cell_type": "code",
   "execution_count": null,
   "metadata": {},
   "outputs": [],
   "source": [
    "n=2\n",
    "d = kmeans.transform(csr_matrix.toarray(bow_vec))[:, 0] #distancia de cada ponto ao centroide 0\n",
    "ind0 = np.argsort(d)[::][:n]\n",
    "ind0\n",
    "#csr_matrix.toarray(bow_vec)[ind]"
   ]
  },
  {
   "cell_type": "code",
   "execution_count": null,
   "metadata": {},
   "outputs": [],
   "source": [
    "lista_neg = []\n",
    "for i in ind0.tolist():\n",
    "    lista_neg.append(df_pp.iloc[i][\"reviews\"])\n",
    "lista_neg"
   ]
  },
  {
   "cell_type": "markdown",
   "metadata": {},
   "source": [
    "- Reviews mais próximas do centróide da classe 1 (Bom)"
   ]
  },
  {
   "cell_type": "code",
   "execution_count": null,
   "metadata": {},
   "outputs": [],
   "source": [
    "n = 2\n",
    "d = kmeans.transform(csr_matrix.toarray(bow_vec))[:, 1] #distancia de cada ponto ao centroide 1\n",
    "ind1 = np.argsort(d)[::][:n]\n",
    "ind1"
   ]
  },
  {
   "cell_type": "code",
   "execution_count": null,
   "metadata": {},
   "outputs": [],
   "source": [
    "lista_posi = []\n",
    "for i in ind1.tolist():\n",
    "    lista_posi.append(df_pp.iloc[i][\"reviews\"])\n",
    "lista_posi"
   ]
  },
  {
   "cell_type": "markdown",
   "metadata": {},
   "source": [
    "Salvando em um df para incluir no dashboard"
   ]
  },
  {
   "cell_type": "code",
   "execution_count": null,
   "metadata": {},
   "outputs": [],
   "source": [
    "df_rep = pd.DataFrame(data={\"negativo\": lista_neg, \"positivo\": lista_posi})\n",
    "df_rep.to_csv(\"reviews_rep.csv\", index=False)"
   ]
  },
  {
   "cell_type": "markdown",
   "metadata": {},
   "source": [
    "## Função para salvar predições do melhor classificador"
   ]
  },
  {
   "cell_type": "code",
   "execution_count": null,
   "metadata": {},
   "outputs": [],
   "source": [
    "#X_test[\"pred\"] = result\n",
    "#df_pred = pd.merge(X_test[[\"class\", \"pred\"]], df_pp[[\"reviews\", \"stars\", \"dates\"]], left_index=True, right_index=True)\n",
    "#df_pred.to_csv(\"best_pred.csv\", index=False)\n",
    "\n",
    "def save_results(result, X_test, df_pp, dfname=\"best_pred.csv\"):\n",
    "    X_test[\"pred\"] = result\n",
    "    df_pred = pd.merge(X_test[[\"class\", \"pred\"]], df_pp[[\"reviews\", \"stars\", \"dates\"]], left_index=True, right_index=True)\n",
    "    df_pred.to_csv(dfname, index=False)\n",
    "\n",
    "save_results(result, X_test, df_pp)"
   ]
  },
  {
   "cell_type": "code",
   "execution_count": null,
   "metadata": {},
   "outputs": [],
   "source": [
    "pd.read_csv(\"best_pred.csv\")"
   ]
  }
 ],
 "metadata": {
  "interpreter": {
   "hash": "8003219c8c57211ee3be347d121ba14ebad7276cdae3d94be72d9e4e17f9edd5"
  },
  "kernelspec": {
   "display_name": "Python 3.9.7 ('base')",
   "language": "python",
   "name": "python3"
  },
  "language_info": {
   "codemirror_mode": {
    "name": "ipython",
    "version": 3
   },
   "file_extension": ".py",
   "mimetype": "text/x-python",
   "name": "python",
   "nbconvert_exporter": "python",
   "pygments_lexer": "ipython3",
   "version": "3.9.7"
  },
  "orig_nbformat": 4
 },
 "nbformat": 4,
 "nbformat_minor": 2
}
